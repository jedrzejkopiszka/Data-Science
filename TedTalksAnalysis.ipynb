{
 "cells": [
  {
   "cell_type": "markdown",
   "metadata": {
    "cell_style": "split"
   },
   "source": [
    "<img src='ted_logo.png' style=\"width:300px\">"
   ]
  },
  {
   "cell_type": "markdown",
   "metadata": {
    "cell_style": "split"
   },
   "source": [
    "## Predicting views of TED Talk"
   ]
  },
  {
   "cell_type": "markdown",
   "metadata": {
    "cell_style": "split"
   },
   "source": [
    "Dataset on CC license aquired from Kaggle: https://www.kaggle.com/rounakbanik/ted-talks"
   ]
  },
  {
   "cell_type": "code",
   "execution_count": 101,
   "metadata": {},
   "outputs": [],
   "source": [
    "from datetime import datetime, date\n",
    "import numpy as np\n",
    "import pandas as pd \n",
    "import matplotlib.pyplot as plt\n",
    "import seaborn as sns\n",
    "from sklearn.model_selection import train_test_split, GridSearchCV, cross_val_score\n",
    "from sklearn.metrics import mean_absolute_error, mean_squared_error, r2_score\n",
    "from sklearn.ensemble import RandomForestRegressor\n",
    "from sklearn.neighbors import KNeighborsRegressor\n",
    "from sklearn.svm import SVR\n",
    "from sklearn.dummy import DummyRegressor"
   ]
  },
  {
   "cell_type": "markdown",
   "metadata": {},
   "source": [
    "## 1. Loading Dataset and simple analysis to understand it"
   ]
  },
  {
   "cell_type": "code",
   "execution_count": 4,
   "metadata": {},
   "outputs": [
    {
     "data": {
      "text/html": [
       "<div>\n",
       "<style scoped>\n",
       "    .dataframe tbody tr th:only-of-type {\n",
       "        vertical-align: middle;\n",
       "    }\n",
       "\n",
       "    .dataframe tbody tr th {\n",
       "        vertical-align: top;\n",
       "    }\n",
       "\n",
       "    .dataframe thead th {\n",
       "        text-align: right;\n",
       "    }\n",
       "</style>\n",
       "<table border=\"1\" class=\"dataframe\">\n",
       "  <thead>\n",
       "    <tr style=\"text-align: right;\">\n",
       "      <th></th>\n",
       "      <th>comments</th>\n",
       "      <th>description</th>\n",
       "      <th>duration</th>\n",
       "      <th>event</th>\n",
       "      <th>film_date</th>\n",
       "      <th>languages</th>\n",
       "      <th>main_speaker</th>\n",
       "      <th>name</th>\n",
       "      <th>num_speaker</th>\n",
       "      <th>published_date</th>\n",
       "      <th>ratings</th>\n",
       "      <th>related_talks</th>\n",
       "      <th>speaker_occupation</th>\n",
       "      <th>tags</th>\n",
       "      <th>title</th>\n",
       "      <th>url</th>\n",
       "      <th>views</th>\n",
       "    </tr>\n",
       "  </thead>\n",
       "  <tbody>\n",
       "    <tr>\n",
       "      <th>0</th>\n",
       "      <td>4553</td>\n",
       "      <td>Sir Ken Robinson makes an entertaining and pro...</td>\n",
       "      <td>1164</td>\n",
       "      <td>TED2006</td>\n",
       "      <td>1140825600</td>\n",
       "      <td>60</td>\n",
       "      <td>Ken Robinson</td>\n",
       "      <td>Ken Robinson: Do schools kill creativity?</td>\n",
       "      <td>1</td>\n",
       "      <td>1151367060</td>\n",
       "      <td>[{'id': 7, 'name': 'Funny', 'count': 19645}, {...</td>\n",
       "      <td>[{'id': 865, 'hero': 'https://pe.tedcdn.com/im...</td>\n",
       "      <td>Author/educator</td>\n",
       "      <td>['children', 'creativity', 'culture', 'dance',...</td>\n",
       "      <td>Do schools kill creativity?</td>\n",
       "      <td>https://www.ted.com/talks/ken_robinson_says_sc...</td>\n",
       "      <td>47227110</td>\n",
       "    </tr>\n",
       "    <tr>\n",
       "      <th>1</th>\n",
       "      <td>265</td>\n",
       "      <td>With the same humor and humanity he exuded in ...</td>\n",
       "      <td>977</td>\n",
       "      <td>TED2006</td>\n",
       "      <td>1140825600</td>\n",
       "      <td>43</td>\n",
       "      <td>Al Gore</td>\n",
       "      <td>Al Gore: Averting the climate crisis</td>\n",
       "      <td>1</td>\n",
       "      <td>1151367060</td>\n",
       "      <td>[{'id': 7, 'name': 'Funny', 'count': 544}, {'i...</td>\n",
       "      <td>[{'id': 243, 'hero': 'https://pe.tedcdn.com/im...</td>\n",
       "      <td>Climate advocate</td>\n",
       "      <td>['alternative energy', 'cars', 'climate change...</td>\n",
       "      <td>Averting the climate crisis</td>\n",
       "      <td>https://www.ted.com/talks/al_gore_on_averting_...</td>\n",
       "      <td>3200520</td>\n",
       "    </tr>\n",
       "    <tr>\n",
       "      <th>2</th>\n",
       "      <td>124</td>\n",
       "      <td>New York Times columnist David Pogue takes aim...</td>\n",
       "      <td>1286</td>\n",
       "      <td>TED2006</td>\n",
       "      <td>1140739200</td>\n",
       "      <td>26</td>\n",
       "      <td>David Pogue</td>\n",
       "      <td>David Pogue: Simplicity sells</td>\n",
       "      <td>1</td>\n",
       "      <td>1151367060</td>\n",
       "      <td>[{'id': 7, 'name': 'Funny', 'count': 964}, {'i...</td>\n",
       "      <td>[{'id': 1725, 'hero': 'https://pe.tedcdn.com/i...</td>\n",
       "      <td>Technology columnist</td>\n",
       "      <td>['computers', 'entertainment', 'interface desi...</td>\n",
       "      <td>Simplicity sells</td>\n",
       "      <td>https://www.ted.com/talks/david_pogue_says_sim...</td>\n",
       "      <td>1636292</td>\n",
       "    </tr>\n",
       "  </tbody>\n",
       "</table>\n",
       "</div>"
      ],
      "text/plain": [
       "   comments                                        description  duration  \\\n",
       "0      4553  Sir Ken Robinson makes an entertaining and pro...      1164   \n",
       "1       265  With the same humor and humanity he exuded in ...       977   \n",
       "2       124  New York Times columnist David Pogue takes aim...      1286   \n",
       "\n",
       "     event   film_date  languages  main_speaker  \\\n",
       "0  TED2006  1140825600         60  Ken Robinson   \n",
       "1  TED2006  1140825600         43       Al Gore   \n",
       "2  TED2006  1140739200         26   David Pogue   \n",
       "\n",
       "                                        name  num_speaker  published_date  \\\n",
       "0  Ken Robinson: Do schools kill creativity?            1      1151367060   \n",
       "1       Al Gore: Averting the climate crisis            1      1151367060   \n",
       "2              David Pogue: Simplicity sells            1      1151367060   \n",
       "\n",
       "                                             ratings  \\\n",
       "0  [{'id': 7, 'name': 'Funny', 'count': 19645}, {...   \n",
       "1  [{'id': 7, 'name': 'Funny', 'count': 544}, {'i...   \n",
       "2  [{'id': 7, 'name': 'Funny', 'count': 964}, {'i...   \n",
       "\n",
       "                                       related_talks    speaker_occupation  \\\n",
       "0  [{'id': 865, 'hero': 'https://pe.tedcdn.com/im...       Author/educator   \n",
       "1  [{'id': 243, 'hero': 'https://pe.tedcdn.com/im...      Climate advocate   \n",
       "2  [{'id': 1725, 'hero': 'https://pe.tedcdn.com/i...  Technology columnist   \n",
       "\n",
       "                                                tags  \\\n",
       "0  ['children', 'creativity', 'culture', 'dance',...   \n",
       "1  ['alternative energy', 'cars', 'climate change...   \n",
       "2  ['computers', 'entertainment', 'interface desi...   \n",
       "\n",
       "                         title  \\\n",
       "0  Do schools kill creativity?   \n",
       "1  Averting the climate crisis   \n",
       "2             Simplicity sells   \n",
       "\n",
       "                                                 url     views  \n",
       "0  https://www.ted.com/talks/ken_robinson_says_sc...  47227110  \n",
       "1  https://www.ted.com/talks/al_gore_on_averting_...   3200520  \n",
       "2  https://www.ted.com/talks/david_pogue_says_sim...   1636292  "
      ]
     },
     "execution_count": 4,
     "metadata": {},
     "output_type": "execute_result"
    }
   ],
   "source": [
    "ted_path = r'C:\\Users\\Jędrzej\\OneDrive\\Pulpit\\Zbiorczy\\data analysis Udacity\\TedTalksProject\\ted_main.csv'\n",
    "ted = pd.read_csv(ted_path)\n",
    "ted.head(3)"
   ]
  },
  {
   "cell_type": "code",
   "execution_count": 5,
   "metadata": {
    "cell_style": "split"
   },
   "outputs": [
    {
     "name": "stdout",
     "output_type": "stream",
     "text": [
      "<class 'pandas.core.frame.DataFrame'>\n",
      "RangeIndex: 2550 entries, 0 to 2549\n",
      "Data columns (total 17 columns):\n",
      "comments              2550 non-null int64\n",
      "description           2550 non-null object\n",
      "duration              2550 non-null int64\n",
      "event                 2550 non-null object\n",
      "film_date             2550 non-null int64\n",
      "languages             2550 non-null int64\n",
      "main_speaker          2550 non-null object\n",
      "name                  2550 non-null object\n",
      "num_speaker           2550 non-null int64\n",
      "published_date        2550 non-null int64\n",
      "ratings               2550 non-null object\n",
      "related_talks         2550 non-null object\n",
      "speaker_occupation    2544 non-null object\n",
      "tags                  2550 non-null object\n",
      "title                 2550 non-null object\n",
      "url                   2550 non-null object\n",
      "views                 2550 non-null int64\n",
      "dtypes: int64(7), object(10)\n",
      "memory usage: 338.8+ KB\n"
     ]
    }
   ],
   "source": [
    "ted.info()"
   ]
  },
  {
   "cell_type": "code",
   "execution_count": 6,
   "metadata": {
    "cell_style": "split"
   },
   "outputs": [
    {
     "data": {
      "text/plain": [
       "Index(['comments', 'description', 'duration', 'event', 'film_date',\n",
       "       'languages', 'main_speaker', 'name', 'num_speaker', 'published_date',\n",
       "       'ratings', 'related_talks', 'speaker_occupation', 'tags', 'title',\n",
       "       'url', 'views'],\n",
       "      dtype='object')"
      ]
     },
     "execution_count": 6,
     "metadata": {},
     "output_type": "execute_result"
    }
   ],
   "source": [
    "ted.columns"
   ]
  },
  {
   "cell_type": "markdown",
   "metadata": {},
   "source": [
    "#### Transforming date columns"
   ]
  },
  {
   "cell_type": "code",
   "execution_count": 7,
   "metadata": {
    "cell_style": "center"
   },
   "outputs": [],
   "source": [
    "def date_to_weekday(column): #from date take weekday\n",
    "    new_column=[]\n",
    "    for row in column:\n",
    "        weekday = row.split('-')\n",
    "        weekday = date(int(weekday[0]), int(weekday[1]), int(weekday[2])).isoweekday()\n",
    "        new_column.append(weekday)\n",
    "    return pd.Series(new_column)"
   ]
  },
  {
   "cell_type": "code",
   "execution_count": 8,
   "metadata": {
    "cell_style": "center"
   },
   "outputs": [],
   "source": [
    "def get_hour(column): # exclude hour from date\n",
    "    new_column=[]\n",
    "    for row in column:\n",
    "        hour = int(row.split(',')[1][:2])\n",
    "        new_column.append(hour)\n",
    "    return new_column\n"
   ]
  },
  {
   "cell_type": "code",
   "execution_count": 9,
   "metadata": {
    "cell_style": "center"
   },
   "outputs": [],
   "source": [
    "def get_year_month_day(column): #exclude year from date\n",
    "    year=[]\n",
    "    month=[]\n",
    "    day=[]\n",
    "    for row in column:\n",
    "        year.append(int(row.split('-')[0]))\n",
    "        month.append(int(row.split('-')[1]))\n",
    "        day.append(int(row.split('-')[2]))\n",
    "    return pd.Series(year), pd.Series(month), pd.Series(day)"
   ]
  },
  {
   "cell_type": "markdown",
   "metadata": {},
   "source": [
    "#### film_date transformation from UNIX to human-readable format"
   ]
  },
  {
   "cell_type": "code",
   "execution_count": 10,
   "metadata": {},
   "outputs": [],
   "source": [
    "ted.film_date = ted.film_date.apply(lambda x: datetime.utcfromtimestamp(x).strftime('%Y-%m-%d,%H:%M:%S'))"
   ]
  },
  {
   "cell_type": "code",
   "execution_count": 11,
   "metadata": {
    "cell_style": "split",
    "scrolled": true
   },
   "outputs": [
    {
     "data": {
      "text/plain": [
       "2017-04-24,00:00:00    64\n",
       "2007-03-03,00:00:00    54\n",
       "2009-02-06,00:00:00    31\n",
       "2011-03-02,00:00:00    30\n",
       "2009-02-05,00:00:00    30\n",
       "2008-02-02,00:00:00    29\n",
       "2016-02-15,00:00:00    28\n",
       "2013-02-28,00:00:00    28\n",
       "2012-06-26,00:00:00    27\n",
       "2011-07-13,00:00:00    27\n",
       "2009-07-23,00:00:00    26\n",
       "2014-03-20,00:00:00    25\n",
       "2011-03-03,00:00:00    24\n",
       "2012-03-01,00:00:00    24\n",
       "2003-02-02,00:00:00    23\n",
       "2002-02-02,00:00:00    22\n",
       "2013-02-27,00:00:00    22\n",
       "2010-02-12,00:00:00    22\n",
       "2010-07-15,00:00:00    22\n",
       "2010-12-08,00:00:00    21\n",
       "2011-07-14,00:00:00    21\n",
       "2015-03-18,00:00:00    20\n",
       "2007-06-06,00:00:00    19\n",
       "2005-02-02,00:00:00    19\n",
       "2004-02-02,00:00:00    18\n",
       "2015-03-17,00:00:00    17\n",
       "2006-02-02,00:00:00    17\n",
       "2010-02-10,00:00:00    17\n",
       "2016-02-16,00:00:00    16\n",
       "2013-02-26,00:00:00    16\n",
       "                       ..\n",
       "1990-03-03,00:00:00     1\n",
       "2009-08-20,00:00:00     1\n",
       "2010-05-13,00:00:00     1\n",
       "2003-02-03,00:00:00     1\n",
       "2016-05-02,00:00:00     1\n",
       "2014-11-19,00:00:00     1\n",
       "2016-02-14,00:00:00     1\n",
       "2016-01-22,00:00:00     1\n",
       "2009-02-20,00:00:00     1\n",
       "2011-05-14,00:00:00     1\n",
       "2012-03-11,00:00:00     1\n",
       "2002-03-01,00:00:00     1\n",
       "2014-03-16,00:00:00     1\n",
       "2012-09-22,00:00:00     1\n",
       "2014-09-20,00:00:00     1\n",
       "2005-09-01,00:00:00     1\n",
       "2012-04-05,00:00:00     1\n",
       "2016-06-25,00:00:00     1\n",
       "2010-11-01,00:00:00     1\n",
       "2013-07-25,00:00:00     1\n",
       "2016-10-05,00:00:00     1\n",
       "2012-02-19,00:00:00     1\n",
       "2010-07-11,00:00:00     1\n",
       "2012-04-15,00:00:00     1\n",
       "2007-03-01,00:00:00     1\n",
       "2011-06-01,00:00:00     1\n",
       "2014-06-04,00:00:00     1\n",
       "2015-08-29,00:00:00     1\n",
       "2013-09-28,00:00:00     1\n",
       "2008-12-11,00:00:00     1\n",
       "Name: film_date, Length: 735, dtype: int64"
      ]
     },
     "execution_count": 11,
     "metadata": {},
     "output_type": "execute_result"
    }
   ],
   "source": [
    "ted.film_date.value_counts() #all times are 00:00:00"
   ]
  },
  {
   "cell_type": "code",
   "execution_count": 12,
   "metadata": {
    "cell_style": "split"
   },
   "outputs": [
    {
     "data": {
      "text/plain": [
       "str"
      ]
     },
     "execution_count": 12,
     "metadata": {},
     "output_type": "execute_result"
    }
   ],
   "source": [
    "type(ted.film_date[2]) #date is a string"
   ]
  },
  {
   "cell_type": "code",
   "execution_count": 13,
   "metadata": {
    "cell_style": "split",
    "scrolled": true
   },
   "outputs": [
    {
     "data": {
      "text/plain": [
       "0    2006-02-25\n",
       "1    2006-02-25\n",
       "2    2006-02-24\n",
       "3    2006-02-26\n",
       "4    2006-02-22\n",
       "Name: film_date, dtype: object"
      ]
     },
     "execution_count": 13,
     "metadata": {},
     "output_type": "execute_result"
    }
   ],
   "source": [
    "ted.film_date = ted.film_date.apply(lambda x: x.split(',')[0]) \n",
    "ted.film_date.head()  # drop time, because it is always 00:00:00"
   ]
  },
  {
   "cell_type": "code",
   "execution_count": 14,
   "metadata": {},
   "outputs": [],
   "source": [
    "ted['film_weekday'] = date_to_weekday(ted.film_date) # appending weekday to the dataset"
   ]
  },
  {
   "cell_type": "code",
   "execution_count": 15,
   "metadata": {},
   "outputs": [],
   "source": [
    "ted['film_year'], ted['film_month'], ted['film_day'] = get_year_month_day(ted.film_date)"
   ]
  },
  {
   "cell_type": "markdown",
   "metadata": {},
   "source": [
    "#### Published_date transformation from UNIX to human-readable format"
   ]
  },
  {
   "cell_type": "code",
   "execution_count": 16,
   "metadata": {},
   "outputs": [],
   "source": [
    "ted.published_date = ted.published_date.apply(lambda x: datetime.utcfromtimestamp(x).strftime('%Y-%m-%d,%H:%M:%S'))"
   ]
  },
  {
   "cell_type": "code",
   "execution_count": 17,
   "metadata": {
    "cell_style": "center",
    "scrolled": true
   },
   "outputs": [
    {
     "data": {
      "text/plain": [
       "2007-04-05,00:11:00    20\n",
       "2006-06-27,00:11:00     4\n",
       "2007-04-03,00:11:00     3\n",
       "2006-12-14,00:11:00     3\n",
       "2006-07-25,00:11:00     3\n",
       "2006-10-31,00:11:00     3\n",
       "2007-01-17,00:11:00     2\n",
       "2009-06-09,01:00:00     2\n",
       "2007-02-19,00:11:00     2\n",
       "2006-08-01,00:11:00     2\n",
       "2007-02-09,00:11:00     2\n",
       "2007-01-09,00:11:00     2\n",
       "2006-09-06,00:11:00     2\n",
       "2009-05-07,01:00:00     2\n",
       "2006-11-14,00:11:00     2\n",
       "2006-07-10,00:11:00     2\n",
       "2006-08-08,00:11:00     2\n",
       "2006-10-25,00:11:00     2\n",
       "2009-05-27,01:00:00     2\n",
       "2007-01-31,00:11:00     2\n",
       "2006-06-27,20:38:00     2\n",
       "2006-07-18,00:11:00     2\n",
       "2006-09-12,00:11:00     2\n",
       "2006-08-25,00:11:00     2\n",
       "2006-10-18,00:11:00     2\n",
       "2006-09-19,00:11:00     2\n",
       "2012-02-29,17:30:00     2\n",
       "2006-11-08,00:11:00     2\n",
       "2006-08-15,00:11:00     2\n",
       "2006-10-02,00:11:00     2\n",
       "                       ..\n",
       "2008-04-17,01:25:00     1\n",
       "2012-09-23,15:10:16     1\n",
       "2011-07-05,15:08:00     1\n",
       "2010-11-01,09:17:00     1\n",
       "2012-07-02,15:25:39     1\n",
       "2016-11-23,16:17:34     1\n",
       "2010-02-08,10:40:00     1\n",
       "2010-02-26,09:11:00     1\n",
       "2009-11-23,01:00:00     1\n",
       "2011-05-15,12:24:00     1\n",
       "2013-06-07,14:59:16     1\n",
       "2012-04-23,15:19:03     1\n",
       "2011-01-25,15:58:07     1\n",
       "2017-08-29,20:00:46     1\n",
       "2009-02-18,01:00:00     1\n",
       "2013-12-05,15:59:58     1\n",
       "2011-12-14,16:22:56     1\n",
       "2010-09-21,08:50:00     1\n",
       "2013-08-06,15:08:22     1\n",
       "2015-06-08,15:10:48     1\n",
       "2008-07-03,01:00:00     1\n",
       "2014-08-07,15:34:29     1\n",
       "2015-12-16,17:06:47     1\n",
       "2016-11-22,16:19:53     1\n",
       "2009-10-12,08:07:00     1\n",
       "2016-08-22,15:16:06     1\n",
       "2007-10-11,02:57:00     1\n",
       "2016-12-09,16:10:43     1\n",
       "2012-09-13,15:16:16     1\n",
       "2014-03-13,14:55:49     1\n",
       "Name: published_date, Length: 2490, dtype: int64"
      ]
     },
     "execution_count": 17,
     "metadata": {},
     "output_type": "execute_result"
    }
   ],
   "source": [
    "ted.published_date.value_counts() #not every time is 00:00:00, we will not drop that"
   ]
  },
  {
   "cell_type": "code",
   "execution_count": 18,
   "metadata": {
    "scrolled": true
   },
   "outputs": [],
   "source": [
    "ted['published_hour'] = get_hour(ted.published_date)\n",
    "ted.published_date = ted.published_date.apply(lambda x: x.split(',')[0])"
   ]
  },
  {
   "cell_type": "code",
   "execution_count": 19,
   "metadata": {},
   "outputs": [],
   "source": [
    "ted['published_weekday'] = date_to_weekday(ted.published_date)"
   ]
  },
  {
   "cell_type": "code",
   "execution_count": 20,
   "metadata": {},
   "outputs": [],
   "source": [
    "ted['published_year'], ted['published_month'], ted['published_day'] = get_year_month_day(ted.published_date) #transform published_date"
   ]
  },
  {
   "cell_type": "code",
   "execution_count": 21,
   "metadata": {},
   "outputs": [],
   "source": [
    "ted = ted.drop(columns=['published_date', 'film_date']) #drop transformed columns"
   ]
  },
  {
   "cell_type": "markdown",
   "metadata": {},
   "source": [
    "#### Transform duration from seconds to minutes"
   ]
  },
  {
   "cell_type": "code",
   "execution_count": 22,
   "metadata": {},
   "outputs": [],
   "source": [
    "ted.duration = ted.duration.apply(lambda x: int(x/60))"
   ]
  },
  {
   "cell_type": "markdown",
   "metadata": {},
   "source": [
    "#### Views will be displayed in thousands "
   ]
  },
  {
   "cell_type": "code",
   "execution_count": 23,
   "metadata": {},
   "outputs": [],
   "source": [
    "ted.views = ted.views.apply(lambda x: x/1000)"
   ]
  },
  {
   "cell_type": "code",
   "execution_count": 24,
   "metadata": {},
   "outputs": [
    {
     "data": {
      "text/plain": [
       "Index(['comments', 'description', 'duration', 'event', 'languages',\n",
       "       'main_speaker', 'name', 'num_speaker', 'ratings', 'related_talks',\n",
       "       'speaker_occupation', 'tags', 'title', 'url', 'views', 'film_weekday',\n",
       "       'film_year', 'film_month', 'film_day', 'published_hour',\n",
       "       'published_weekday', 'published_year', 'published_month',\n",
       "       'published_day'],\n",
       "      dtype='object')"
      ]
     },
     "execution_count": 24,
     "metadata": {},
     "output_type": "execute_result"
    }
   ],
   "source": [
    "ted.columns"
   ]
  },
  {
   "cell_type": "code",
   "execution_count": 25,
   "metadata": {},
   "outputs": [],
   "source": [
    "ted = ted[['main_speaker', 'num_speaker','speaker_occupation', 'title', 'name', 'description', 'event', 'duration', 'tags','languages','comments','related_talks', 'ratings', 'url', 'film_year','film_month','film_day','film_weekday', 'published_year','published_month','published_day','published_hour','published_weekday', 'views']]\n",
    "# setting different order of columns"
   ]
  },
  {
   "cell_type": "code",
   "execution_count": 26,
   "metadata": {},
   "outputs": [
    {
     "data": {
      "text/html": [
       "<div>\n",
       "<style scoped>\n",
       "    .dataframe tbody tr th:only-of-type {\n",
       "        vertical-align: middle;\n",
       "    }\n",
       "\n",
       "    .dataframe tbody tr th {\n",
       "        vertical-align: top;\n",
       "    }\n",
       "\n",
       "    .dataframe thead th {\n",
       "        text-align: right;\n",
       "    }\n",
       "</style>\n",
       "<table border=\"1\" class=\"dataframe\">\n",
       "  <thead>\n",
       "    <tr style=\"text-align: right;\">\n",
       "      <th></th>\n",
       "      <th>num_speaker</th>\n",
       "      <th>duration</th>\n",
       "      <th>languages</th>\n",
       "      <th>comments</th>\n",
       "      <th>film_year</th>\n",
       "      <th>film_month</th>\n",
       "      <th>film_day</th>\n",
       "      <th>film_weekday</th>\n",
       "      <th>published_year</th>\n",
       "      <th>published_month</th>\n",
       "      <th>published_day</th>\n",
       "      <th>published_hour</th>\n",
       "      <th>published_weekday</th>\n",
       "      <th>views</th>\n",
       "    </tr>\n",
       "  </thead>\n",
       "  <tbody>\n",
       "    <tr>\n",
       "      <th>count</th>\n",
       "      <td>2550.000000</td>\n",
       "      <td>2550.000000</td>\n",
       "      <td>2550.000000</td>\n",
       "      <td>2550.000000</td>\n",
       "      <td>2550.000000</td>\n",
       "      <td>2550.000000</td>\n",
       "      <td>2550.000000</td>\n",
       "      <td>2550.000000</td>\n",
       "      <td>2550.000000</td>\n",
       "      <td>2550.000000</td>\n",
       "      <td>2550.000000</td>\n",
       "      <td>2550.000000</td>\n",
       "      <td>2550.000000</td>\n",
       "      <td>2550.000000</td>\n",
       "    </tr>\n",
       "    <tr>\n",
       "      <th>mean</th>\n",
       "      <td>1.028235</td>\n",
       "      <td>13.277255</td>\n",
       "      <td>27.326275</td>\n",
       "      <td>191.562353</td>\n",
       "      <td>2011.466275</td>\n",
       "      <td>5.660784</td>\n",
       "      <td>14.425882</td>\n",
       "      <td>3.718431</td>\n",
       "      <td>2012.093333</td>\n",
       "      <td>6.301569</td>\n",
       "      <td>15.421961</td>\n",
       "      <td>11.929412</td>\n",
       "      <td>3.152941</td>\n",
       "      <td>1698.297482</td>\n",
       "    </tr>\n",
       "    <tr>\n",
       "      <th>std</th>\n",
       "      <td>0.207705</td>\n",
       "      <td>6.230784</td>\n",
       "      <td>9.563452</td>\n",
       "      <td>282.315223</td>\n",
       "      <td>3.727823</td>\n",
       "      <td>3.397757</td>\n",
       "      <td>8.933113</td>\n",
       "      <td>1.670579</td>\n",
       "      <td>3.011667</td>\n",
       "      <td>3.367925</td>\n",
       "      <td>8.644089</td>\n",
       "      <td>5.541643</td>\n",
       "      <td>1.542691</td>\n",
       "      <td>2498.479372</td>\n",
       "    </tr>\n",
       "    <tr>\n",
       "      <th>min</th>\n",
       "      <td>1.000000</td>\n",
       "      <td>2.000000</td>\n",
       "      <td>0.000000</td>\n",
       "      <td>2.000000</td>\n",
       "      <td>1972.000000</td>\n",
       "      <td>1.000000</td>\n",
       "      <td>1.000000</td>\n",
       "      <td>1.000000</td>\n",
       "      <td>2006.000000</td>\n",
       "      <td>1.000000</td>\n",
       "      <td>1.000000</td>\n",
       "      <td>0.000000</td>\n",
       "      <td>1.000000</td>\n",
       "      <td>50.443000</td>\n",
       "    </tr>\n",
       "    <tr>\n",
       "      <th>25%</th>\n",
       "      <td>1.000000</td>\n",
       "      <td>9.000000</td>\n",
       "      <td>23.000000</td>\n",
       "      <td>63.000000</td>\n",
       "      <td>2009.000000</td>\n",
       "      <td>3.000000</td>\n",
       "      <td>6.000000</td>\n",
       "      <td>3.000000</td>\n",
       "      <td>2010.000000</td>\n",
       "      <td>3.000000</td>\n",
       "      <td>8.000000</td>\n",
       "      <td>9.000000</td>\n",
       "      <td>2.000000</td>\n",
       "      <td>755.792750</td>\n",
       "    </tr>\n",
       "    <tr>\n",
       "      <th>50%</th>\n",
       "      <td>1.000000</td>\n",
       "      <td>14.000000</td>\n",
       "      <td>28.000000</td>\n",
       "      <td>118.000000</td>\n",
       "      <td>2012.000000</td>\n",
       "      <td>5.000000</td>\n",
       "      <td>14.000000</td>\n",
       "      <td>4.000000</td>\n",
       "      <td>2012.000000</td>\n",
       "      <td>6.000000</td>\n",
       "      <td>15.000000</td>\n",
       "      <td>15.000000</td>\n",
       "      <td>3.000000</td>\n",
       "      <td>1124.523500</td>\n",
       "    </tr>\n",
       "    <tr>\n",
       "      <th>75%</th>\n",
       "      <td>1.000000</td>\n",
       "      <td>17.000000</td>\n",
       "      <td>33.000000</td>\n",
       "      <td>221.750000</td>\n",
       "      <td>2014.000000</td>\n",
       "      <td>9.000000</td>\n",
       "      <td>23.000000</td>\n",
       "      <td>5.000000</td>\n",
       "      <td>2015.000000</td>\n",
       "      <td>9.000000</td>\n",
       "      <td>23.000000</td>\n",
       "      <td>15.000000</td>\n",
       "      <td>4.000000</td>\n",
       "      <td>1700.759500</td>\n",
       "    </tr>\n",
       "    <tr>\n",
       "      <th>max</th>\n",
       "      <td>5.000000</td>\n",
       "      <td>87.000000</td>\n",
       "      <td>72.000000</td>\n",
       "      <td>6404.000000</td>\n",
       "      <td>2017.000000</td>\n",
       "      <td>12.000000</td>\n",
       "      <td>31.000000</td>\n",
       "      <td>7.000000</td>\n",
       "      <td>2017.000000</td>\n",
       "      <td>12.000000</td>\n",
       "      <td>31.000000</td>\n",
       "      <td>23.000000</td>\n",
       "      <td>7.000000</td>\n",
       "      <td>47227.110000</td>\n",
       "    </tr>\n",
       "  </tbody>\n",
       "</table>\n",
       "</div>"
      ],
      "text/plain": [
       "       num_speaker     duration    languages     comments    film_year  \\\n",
       "count  2550.000000  2550.000000  2550.000000  2550.000000  2550.000000   \n",
       "mean      1.028235    13.277255    27.326275   191.562353  2011.466275   \n",
       "std       0.207705     6.230784     9.563452   282.315223     3.727823   \n",
       "min       1.000000     2.000000     0.000000     2.000000  1972.000000   \n",
       "25%       1.000000     9.000000    23.000000    63.000000  2009.000000   \n",
       "50%       1.000000    14.000000    28.000000   118.000000  2012.000000   \n",
       "75%       1.000000    17.000000    33.000000   221.750000  2014.000000   \n",
       "max       5.000000    87.000000    72.000000  6404.000000  2017.000000   \n",
       "\n",
       "        film_month     film_day  film_weekday  published_year  \\\n",
       "count  2550.000000  2550.000000   2550.000000     2550.000000   \n",
       "mean      5.660784    14.425882      3.718431     2012.093333   \n",
       "std       3.397757     8.933113      1.670579        3.011667   \n",
       "min       1.000000     1.000000      1.000000     2006.000000   \n",
       "25%       3.000000     6.000000      3.000000     2010.000000   \n",
       "50%       5.000000    14.000000      4.000000     2012.000000   \n",
       "75%       9.000000    23.000000      5.000000     2015.000000   \n",
       "max      12.000000    31.000000      7.000000     2017.000000   \n",
       "\n",
       "       published_month  published_day  published_hour  published_weekday  \\\n",
       "count      2550.000000    2550.000000     2550.000000        2550.000000   \n",
       "mean          6.301569      15.421961       11.929412           3.152941   \n",
       "std           3.367925       8.644089        5.541643           1.542691   \n",
       "min           1.000000       1.000000        0.000000           1.000000   \n",
       "25%           3.000000       8.000000        9.000000           2.000000   \n",
       "50%           6.000000      15.000000       15.000000           3.000000   \n",
       "75%           9.000000      23.000000       15.000000           4.000000   \n",
       "max          12.000000      31.000000       23.000000           7.000000   \n",
       "\n",
       "              views  \n",
       "count   2550.000000  \n",
       "mean    1698.297482  \n",
       "std     2498.479372  \n",
       "min       50.443000  \n",
       "25%      755.792750  \n",
       "50%     1124.523500  \n",
       "75%     1700.759500  \n",
       "max    47227.110000  "
      ]
     },
     "execution_count": 26,
     "metadata": {},
     "output_type": "execute_result"
    }
   ],
   "source": [
    "ted.describe() #describing numerical columns"
   ]
  },
  {
   "cell_type": "markdown",
   "metadata": {},
   "source": [
    "## 2. Plotting correlation between selected numeric features"
   ]
  },
  {
   "cell_type": "code",
   "execution_count": 27,
   "metadata": {},
   "outputs": [
    {
     "name": "stdout",
     "output_type": "stream",
     "text": [
      "(2550, 14)\n"
     ]
    },
    {
     "data": {
      "text/html": [
       "<div>\n",
       "<style scoped>\n",
       "    .dataframe tbody tr th:only-of-type {\n",
       "        vertical-align: middle;\n",
       "    }\n",
       "\n",
       "    .dataframe tbody tr th {\n",
       "        vertical-align: top;\n",
       "    }\n",
       "\n",
       "    .dataframe thead th {\n",
       "        text-align: right;\n",
       "    }\n",
       "</style>\n",
       "<table border=\"1\" class=\"dataframe\">\n",
       "  <thead>\n",
       "    <tr style=\"text-align: right;\">\n",
       "      <th></th>\n",
       "      <th>num_speaker</th>\n",
       "      <th>duration</th>\n",
       "      <th>languages</th>\n",
       "      <th>comments</th>\n",
       "      <th>film_year</th>\n",
       "      <th>film_month</th>\n",
       "      <th>film_day</th>\n",
       "      <th>film_weekday</th>\n",
       "      <th>published_year</th>\n",
       "      <th>published_month</th>\n",
       "      <th>published_day</th>\n",
       "      <th>published_hour</th>\n",
       "      <th>published_weekday</th>\n",
       "      <th>views</th>\n",
       "    </tr>\n",
       "  </thead>\n",
       "  <tbody>\n",
       "    <tr>\n",
       "      <th>0</th>\n",
       "      <td>1</td>\n",
       "      <td>19</td>\n",
       "      <td>60</td>\n",
       "      <td>4553</td>\n",
       "      <td>2006</td>\n",
       "      <td>2</td>\n",
       "      <td>25</td>\n",
       "      <td>6</td>\n",
       "      <td>2006</td>\n",
       "      <td>6</td>\n",
       "      <td>27</td>\n",
       "      <td>0</td>\n",
       "      <td>2</td>\n",
       "      <td>47227.110</td>\n",
       "    </tr>\n",
       "    <tr>\n",
       "      <th>1</th>\n",
       "      <td>1</td>\n",
       "      <td>16</td>\n",
       "      <td>43</td>\n",
       "      <td>265</td>\n",
       "      <td>2006</td>\n",
       "      <td>2</td>\n",
       "      <td>25</td>\n",
       "      <td>6</td>\n",
       "      <td>2006</td>\n",
       "      <td>6</td>\n",
       "      <td>27</td>\n",
       "      <td>0</td>\n",
       "      <td>2</td>\n",
       "      <td>3200.520</td>\n",
       "    </tr>\n",
       "    <tr>\n",
       "      <th>2</th>\n",
       "      <td>1</td>\n",
       "      <td>21</td>\n",
       "      <td>26</td>\n",
       "      <td>124</td>\n",
       "      <td>2006</td>\n",
       "      <td>2</td>\n",
       "      <td>24</td>\n",
       "      <td>5</td>\n",
       "      <td>2006</td>\n",
       "      <td>6</td>\n",
       "      <td>27</td>\n",
       "      <td>0</td>\n",
       "      <td>2</td>\n",
       "      <td>1636.292</td>\n",
       "    </tr>\n",
       "    <tr>\n",
       "      <th>3</th>\n",
       "      <td>1</td>\n",
       "      <td>18</td>\n",
       "      <td>35</td>\n",
       "      <td>200</td>\n",
       "      <td>2006</td>\n",
       "      <td>2</td>\n",
       "      <td>26</td>\n",
       "      <td>7</td>\n",
       "      <td>2006</td>\n",
       "      <td>6</td>\n",
       "      <td>27</td>\n",
       "      <td>0</td>\n",
       "      <td>2</td>\n",
       "      <td>1697.550</td>\n",
       "    </tr>\n",
       "    <tr>\n",
       "      <th>4</th>\n",
       "      <td>1</td>\n",
       "      <td>19</td>\n",
       "      <td>48</td>\n",
       "      <td>593</td>\n",
       "      <td>2006</td>\n",
       "      <td>2</td>\n",
       "      <td>22</td>\n",
       "      <td>3</td>\n",
       "      <td>2006</td>\n",
       "      <td>6</td>\n",
       "      <td>27</td>\n",
       "      <td>20</td>\n",
       "      <td>2</td>\n",
       "      <td>12005.869</td>\n",
       "    </tr>\n",
       "  </tbody>\n",
       "</table>\n",
       "</div>"
      ],
      "text/plain": [
       "   num_speaker  duration  languages  comments  film_year  film_month  \\\n",
       "0            1        19         60      4553       2006           2   \n",
       "1            1        16         43       265       2006           2   \n",
       "2            1        21         26       124       2006           2   \n",
       "3            1        18         35       200       2006           2   \n",
       "4            1        19         48       593       2006           2   \n",
       "\n",
       "   film_day  film_weekday  published_year  published_month  published_day  \\\n",
       "0        25             6            2006                6             27   \n",
       "1        25             6            2006                6             27   \n",
       "2        24             5            2006                6             27   \n",
       "3        26             7            2006                6             27   \n",
       "4        22             3            2006                6             27   \n",
       "\n",
       "   published_hour  published_weekday      views  \n",
       "0               0                  2  47227.110  \n",
       "1               0                  2   3200.520  \n",
       "2               0                  2   1636.292  \n",
       "3               0                  2   1697.550  \n",
       "4              20                  2  12005.869  "
      ]
     },
     "execution_count": 27,
     "metadata": {},
     "output_type": "execute_result"
    }
   ],
   "source": [
    "numerics = ['int16', 'int32', 'int64', 'float16', 'float32', 'float64'] #numeric values\n",
    "ted_numerics = ted.select_dtypes(include=numerics)\n",
    "print(ted_numerics.shape) \n",
    "ted_numerics.head()"
   ]
  },
  {
   "cell_type": "markdown",
   "metadata": {},
   "source": [
    "### 2.1 Data distribution"
   ]
  },
  {
   "cell_type": "code",
   "execution_count": 28,
   "metadata": {
    "cell_style": "split",
    "scrolled": true
   },
   "outputs": [
    {
     "data": {
      "text/plain": [
       "Text(0.5, 1.0, 'Impact of comments on views')"
      ]
     },
     "execution_count": 28,
     "metadata": {},
     "output_type": "execute_result"
    },
    {
     "data": {
      "image/png": "[encoded data removed]",
      "text/plain": [
       "<Figure size 432x288 with 1 Axes>"
      ]
     },
     "metadata": {
      "needs_background": "light"
     },
     "output_type": "display_data"
    }
   ],
   "source": [
    "sns.regplot(data=ted, x='comments', y='views')\n",
    "plt.title(\"Impact of comments on views\")"
   ]
  },
  {
   "cell_type": "code",
   "execution_count": 34,
   "metadata": {
    "cell_style": "split",
    "scrolled": false
   },
   "outputs": [
    {
     "data": {
      "text/plain": [
       "<matplotlib.axes._subplots.AxesSubplot at 0x1ef8b4880b8>"
      ]
     },
     "execution_count": 34,
     "metadata": {},
     "output_type": "execute_result"
    },
    {
     "data": {
      "image/png": "[encoded data removed]",
      "text/plain": [
       "<Figure size 432x288 with 1 Axes>"
      ]
     },
     "metadata": {
      "needs_background": "light"
     },
     "output_type": "display_data"
    }
   ],
   "source": [
    "sns.kdeplot(data=ted.comments, data2=ted.views)"
   ]
  },
  {
   "cell_type": "code",
   "execution_count": 138,
   "metadata": {
    "cell_style": "center",
    "scrolled": true
   },
   "outputs": [
    {
     "data": {
      "text/plain": [
       "Text(0.5, 0, 'views (in thousands)')"
      ]
     },
     "execution_count": 138,
     "metadata": {},
     "output_type": "execute_result"
    },
    {
     "data": {
      "image/png": "[encoded data removed]",
      "text/plain": [
       "<Figure size 432x288 with 1 Axes>"
      ]
     },
     "metadata": {
      "needs_background": "light"
     },
     "output_type": "display_data"
    }
   ],
   "source": [
    "sns.kdeplot(data=ted.duration, data2=ted.views)\n",
    "plt.title('Duration distribution')\n",
    "plt.xlabel(\"views (in thousands)\")"
   ]
  },
  {
   "cell_type": "code",
   "execution_count": 136,
   "metadata": {
    "cell_style": "split",
    "scrolled": true
   },
   "outputs": [
    {
     "data": {
      "text/plain": [
       "Text(0.5, 1.0, 'Impact of duration on views')"
      ]
     },
     "execution_count": 136,
     "metadata": {},
     "output_type": "execute_result"
    },
    {
     "data": {
      "image/png": "[encoded data removed]",
      "text/plain": [
       "<Figure size 432x288 with 1 Axes>"
      ]
     },
     "metadata": {
      "needs_background": "light"
     },
     "output_type": "display_data"
    }
   ],
   "source": [
    "sns.regplot(data=ted, x='duration', y='views')\n",
    "plt.title(\"Impact of duration on views\")"
   ]
  },
  {
   "cell_type": "code",
   "execution_count": 30,
   "metadata": {
    "cell_style": "split",
    "scrolled": true
   },
   "outputs": [
    {
     "data": {
      "text/plain": [
       "Text(0, 0.5, 'views (in thousands)')"
      ]
     },
     "execution_count": 30,
     "metadata": {},
     "output_type": "execute_result"
    },
    {
     "data": {
      "image/png": "[encoded data removed]",
      "text/plain": [
       "<Figure size 432x288 with 1 Axes>"
      ]
     },
     "metadata": {
      "needs_background": "light"
     },
     "output_type": "display_data"
    }
   ],
   "source": [
    "sns.regplot(data=ted, x='languages', y='views')\n",
    "plt.title('Number of languages, the video was translated to, and views')\n",
    "plt.ylabel('views (in thousands)')"
   ]
  },
  {
   "cell_type": "code",
   "execution_count": 31,
   "metadata": {
    "cell_style": "split",
    "scrolled": false
   },
   "outputs": [
    {
     "data": {
      "text/plain": [
       "Text(0.5, 1.0, 'Distribution of num_speaker')"
      ]
     },
     "execution_count": 31,
     "metadata": {},
     "output_type": "execute_result"
    },
    {
     "data": {
      "image/png": "[encoded data removed]",
      "text/plain": [
       "<Figure size 432x288 with 1 Axes>"
      ]
     },
     "metadata": {
      "needs_background": "light"
     },
     "output_type": "display_data"
    }
   ],
   "source": [
    "sns.distplot(ted.num_speaker)\n",
    "plt.xticks(np.arange(1,6,step=1))\n",
    "plt.title('Distribution of num_speaker')"
   ]
  },
  {
   "cell_type": "code",
   "execution_count": 133,
   "metadata": {
    "cell_style": "split",
    "scrolled": false
   },
   "outputs": [
    {
     "data": {
      "text/plain": [
       "Text(0, 0.5, 'views in thousands')"
      ]
     },
     "execution_count": 133,
     "metadata": {},
     "output_type": "execute_result"
    },
    {
     "data": {
      "image/png": "[encoded data removed]",
      "text/plain": [
       "<Figure size 432x288 with 1 Axes>"
      ]
     },
     "metadata": {
      "needs_background": "light"
     },
     "output_type": "display_data"
    }
   ],
   "source": [
    "sns.violinplot(data=ted, x='num_speaker', y='views')\n",
    "plt.title('Distribution of num_speakers for views')\n",
    "plt.ylabel('views in thousands')"
   ]
  },
  {
   "cell_type": "code",
   "execution_count": 35,
   "metadata": {
    "cell_style": "split",
    "scrolled": false
   },
   "outputs": [
    {
     "data": {
      "text/plain": [
       "Text(0.5, 1.0, 'Distribution of films for each month by production and publication day')"
      ]
     },
     "execution_count": 35,
     "metadata": {},
     "output_type": "execute_result"
    },
    {
     "data": {
      "image/png": "[encoded data removed]",
      "text/plain": [
       "<Figure size 432x288 with 1 Axes>"
      ]
     },
     "metadata": {
      "needs_background": "light"
     },
     "output_type": "display_data"
    }
   ],
   "source": [
    "sns.distplot(ted.published_day, kde=False, label='published_day')\n",
    "sns.distplot(ted.film_day, kde=False, label='film_day')\n",
    "plt.xticks(np.arange(1,32, step=5))\n",
    "plt.legend()\n",
    "plt.ylabel('value counts')\n",
    "plt.title('Distribution of films for each month by production and publication day')"
   ]
  },
  {
   "cell_type": "code",
   "execution_count": 36,
   "metadata": {
    "cell_style": "split",
    "scrolled": false
   },
   "outputs": [
    {
     "data": {
      "text/plain": [
       "<matplotlib.legend.Legend at 0x1ef8b3de438>"
      ]
     },
     "execution_count": 36,
     "metadata": {},
     "output_type": "execute_result"
    },
    {
     "data": {
      "image/png": "[encoded data removed]",
      "text/plain": [
       "<Figure size 432x288 with 1 Axes>"
      ]
     },
     "metadata": {
      "needs_background": "light"
     },
     "output_type": "display_data"
    }
   ],
   "source": [
    "sns.distplot(ted.published_year, label='pubished_year')\n",
    "sns.distplot(ted.film_year, label='film_year')\n",
    "plt.xlim(left=2003, right=2017)\n",
    "plt.xticks(np.arange(2003, 2018, step=2))\n",
    "plt.ylabel('value counts')\n",
    "plt.title('Distribution of films for each month by production and publication year')\n",
    "plt.legend()"
   ]
  },
  {
   "cell_type": "code",
   "execution_count": 37,
   "metadata": {
    "cell_style": "center",
    "scrolled": false
   },
   "outputs": [
    {
     "data": {
      "text/plain": [
       "Text(0.5, 1.0, 'Distribution of films for each month by production and publication month')"
      ]
     },
     "execution_count": 37,
     "metadata": {},
     "output_type": "execute_result"
    },
    {
     "data": {
      "image/png": "[encoded data removed]",
      "text/plain": [
       "<Figure size 432x288 with 1 Axes>"
      ]
     },
     "metadata": {
      "needs_background": "light"
     },
     "output_type": "display_data"
    }
   ],
   "source": [
    "sns.distplot(ted.published_month, kde=False, label='published_month')\n",
    "sns.distplot(ted.film_month, kde=False, label='film_month')\n",
    "plt.xticks(np.arange(1,13, step=1))\n",
    "plt.legend()\n",
    "plt.ylabel('value counts')\n",
    "plt.title('Distribution of films for each month by production and publication month')"
   ]
  },
  {
   "cell_type": "code",
   "execution_count": 38,
   "metadata": {
    "cell_style": "center",
    "scrolled": true
   },
   "outputs": [
    {
     "data": {
      "text/plain": [
       "Text(0.5, 1.0, 'Median of views for each month of production and publication ')"
      ]
     },
     "execution_count": 38,
     "metadata": {},
     "output_type": "execute_result"
    },
    {
     "data": {
      "image/png": "[encoded data removed]",
      "text/plain": [
       "<Figure size 432x288 with 1 Axes>"
      ]
     },
     "metadata": {
      "needs_background": "light"
     },
     "output_type": "display_data"
    }
   ],
   "source": [
    "y1=ted.groupby(by='film_month').views.median()\n",
    "y2=ted.groupby(by='published_month').views.median()\n",
    "\n",
    "by_month = pd.concat([y1,y2], axis=1)\n",
    "by_month.columns=['film_month', 'published_month']\n",
    "by_month.plot(kind='bar')\n",
    "plt.xlabel('Months')\n",
    "plt.ylabel('Views (int thousands)')\n",
    "plt.title('Median of views for each month of production and publication ')"
   ]
  },
  {
   "cell_type": "code",
   "execution_count": 39,
   "metadata": {
    "cell_style": "split",
    "scrolled": false
   },
   "outputs": [
    {
     "data": {
      "text/plain": [
       "Text(0.5, 1.0, 'Median of views for each publication day')"
      ]
     },
     "execution_count": 39,
     "metadata": {},
     "output_type": "execute_result"
    },
    {
     "data": {
      "image/png": "[encoded data removed]",
      "text/plain": [
       "<Figure size 432x288 with 1 Axes>"
      ]
     },
     "metadata": {
      "needs_background": "light"
     },
     "output_type": "display_data"
    }
   ],
   "source": [
    "sns.barplot(x=ted.published_weekday.unique(), y=ted.groupby(by='published_weekday').views.median())\n",
    "plt.xlabel('Weekday')\n",
    "plt.ylabel('Views (in thousands)')\n",
    "plt.title('Median of views for each publication day')"
   ]
  },
  {
   "cell_type": "code",
   "execution_count": 40,
   "metadata": {
    "cell_style": "split",
    "scrolled": false
   },
   "outputs": [
    {
     "data": {
      "text/plain": [
       "Text(0.5, 1.0, 'Median of views for each production day')"
      ]
     },
     "execution_count": 40,
     "metadata": {},
     "output_type": "execute_result"
    },
    {
     "data": {
      "image/png": "[encoded data removed]",
      "text/plain": [
       "<Figure size 432x288 with 1 Axes>"
      ]
     },
     "metadata": {
      "needs_background": "light"
     },
     "output_type": "display_data"
    }
   ],
   "source": [
    "sns.barplot(x=ted.film_weekday.unique(), y=ted.groupby(by='film_weekday').views.median())\n",
    "plt.xlabel('Weekday')\n",
    "plt.ylabel('Views (in thousands)')\n",
    "plt.title('Median of views for each production day')"
   ]
  },
  {
   "cell_type": "code",
   "execution_count": 41,
   "metadata": {
    "cell_style": "split",
    "scrolled": true
   },
   "outputs": [
    {
     "data": {
      "text/plain": [
       "Text(0, 0.5, 'Views (in thousands)')"
      ]
     },
     "execution_count": 41,
     "metadata": {},
     "output_type": "execute_result"
    },
    {
     "data": {
      "image/png": "[encoded data removed]",
      "text/plain": [
       "<Figure size 432x288 with 1 Axes>"
      ]
     },
     "metadata": {
      "needs_background": "light"
     },
     "output_type": "display_data"
    }
   ],
   "source": [
    "sns.barplot(x=ted.film_year.unique(), y=ted.groupby(by='film_year').views.median())\n",
    "plt.xticks(rotation='vertical')\n",
    "plt.title('Median of views for each production year')\n",
    "plt.xlabel('Year of production')\n",
    "plt.ylabel('Views (in thousands)')"
   ]
  },
  {
   "cell_type": "code",
   "execution_count": 42,
   "metadata": {
    "cell_style": "split",
    "scrolled": false
   },
   "outputs": [
    {
     "data": {
      "text/plain": [
       "Text(0, 0.5, 'Views (in thousands)')"
      ]
     },
     "execution_count": 42,
     "metadata": {},
     "output_type": "execute_result"
    },
    {
     "data": {
      "image/png": "[encoded data removed]",
      "text/plain": [
       "<Figure size 432x288 with 1 Axes>"
      ]
     },
     "metadata": {
      "needs_background": "light"
     },
     "output_type": "display_data"
    }
   ],
   "source": [
    "sns.barplot(x=ted.published_year.unique(), y=ted.groupby(by='published_year').views.median())\n",
    "plt.xticks(rotation='vertical')\n",
    "plt.title('Median of views for each publication year')\n",
    "plt.xlabel('Year of publication')\n",
    "plt.ylabel('Views (in thousands)')"
   ]
  },
  {
   "cell_type": "markdown",
   "metadata": {},
   "source": [
    "## Data pre-processing"
   ]
  },
  {
   "cell_type": "code",
   "execution_count": 43,
   "metadata": {},
   "outputs": [],
   "source": [
    "ted_copy = ted.copy() #creating a copy of dataset"
   ]
  },
  {
   "cell_type": "code",
   "execution_count": 44,
   "metadata": {
    "scrolled": true
   },
   "outputs": [
    {
     "data": {
      "text/plain": [
       "Index(['main_speaker', 'num_speaker', 'speaker_occupation', 'title', 'name',\n",
       "       'description', 'event', 'duration', 'tags', 'languages', 'comments',\n",
       "       'related_talks', 'ratings', 'url', 'film_year', 'film_month',\n",
       "       'film_day', 'film_weekday', 'published_year', 'published_month',\n",
       "       'published_day', 'published_hour', 'published_weekday', 'views'],\n",
       "      dtype='object')"
      ]
     },
     "execution_count": 44,
     "metadata": {},
     "output_type": "execute_result"
    }
   ],
   "source": [
    "ted_copy.columns"
   ]
  },
  {
   "cell_type": "markdown",
   "metadata": {},
   "source": [
    "#### Comments feature"
   ]
  },
  {
   "cell_type": "code",
   "execution_count": 45,
   "metadata": {},
   "outputs": [],
   "source": [
    "#ted_copy = ted_copy.drop(columns='comments')"
   ]
  },
  {
   "cell_type": "markdown",
   "metadata": {},
   "source": [
    "We would be dropping comments if we were to predict views of newly released Ted-talk. "
   ]
  },
  {
   "cell_type": "markdown",
   "metadata": {},
   "source": [
    "#### Description feature"
   ]
  },
  {
   "cell_type": "markdown",
   "metadata": {},
   "source": [
    "It is difficult to interpret the information contained in description. We can create length of the description and show the impact of length on views"
   ]
  },
  {
   "cell_type": "code",
   "execution_count": 46,
   "metadata": {},
   "outputs": [
    {
     "data": {
      "text/plain": [
       "2545    Between 2008 and 2016, the United States depor...\n",
       "2546    How can you study Mars without a spaceship? He...\n",
       "2547    Science fiction visions of the future show us ...\n",
       "2548    In an unmissable talk about race and politics ...\n",
       "2549    With more than half of the world population li...\n",
       "Name: description, dtype: object"
      ]
     },
     "execution_count": 46,
     "metadata": {},
     "output_type": "execute_result"
    }
   ],
   "source": [
    "ted_copy.description.tail() #simple text, describing content of the video"
   ]
  },
  {
   "cell_type": "code",
   "execution_count": 47,
   "metadata": {},
   "outputs": [],
   "source": [
    "ted_copy.description = ted_copy.description.apply(lambda x: len(x)) #changing description to len(description)"
   ]
  },
  {
   "cell_type": "code",
   "execution_count": 48,
   "metadata": {},
   "outputs": [],
   "source": [
    "minimum = ted_copy.description.min()\n",
    "maximum = ted_copy.description.max()\n",
    "\n",
    "ted_copy.description = ted_copy.description.apply(lambda x: (x-minimum)/(maximum-minimum)) #min-max-standardization"
   ]
  },
  {
   "cell_type": "code",
   "execution_count": 49,
   "metadata": {},
   "outputs": [
    {
     "data": {
      "text/plain": [
       "Text(0.5, 1.0, 'Correlation between length of description and views')"
      ]
     },
     "execution_count": 49,
     "metadata": {},
     "output_type": "execute_result"
    },
    {
     "data": {
      "image/png": "[encoded data removed]",
      "text/plain": [
       "<Figure size 432x288 with 1 Axes>"
      ]
     },
     "metadata": {
      "needs_background": "light"
     },
     "output_type": "display_data"
    }
   ],
   "source": [
    "sns.regplot(data=ted_copy, x='description', y='views')\n",
    "plt.title('Correlation between length of description and views')"
   ]
  },
  {
   "cell_type": "markdown",
   "metadata": {},
   "source": [
    "#### Duration"
   ]
  },
  {
   "cell_type": "code",
   "execution_count": 50,
   "metadata": {},
   "outputs": [],
   "source": [
    "min_duration = ted_copy.duration.min()\n",
    "max_duration = ted_copy.duration.max()\n",
    "ted_copy.duration = ted_copy.duration.apply(lambda x: (x-min_duration)/(max_duration-min_duration)) #min-max standardization"
   ]
  },
  {
   "cell_type": "markdown",
   "metadata": {},
   "source": [
    "#### Event"
   ]
  },
  {
   "cell_type": "code",
   "execution_count": 51,
   "metadata": {
    "cell_style": "split",
    "scrolled": true
   },
   "outputs": [
    {
     "data": {
      "text/plain": [
       "TED2014                        84\n",
       "TED2009                        83\n",
       "TED2016                        77\n",
       "TED2013                        77\n",
       "TED2015                        75\n",
       "TED2011                        70\n",
       "TEDGlobal 2012                 70\n",
       "TED2007                        68\n",
       "TED2010                        68\n",
       "TEDGlobal 2011                 68\n",
       "TED2017                        67\n",
       "TEDGlobal 2013                 66\n",
       "TED2012                        65\n",
       "TEDGlobal 2009                 65\n",
       "TED2008                        57\n",
       "TEDGlobal 2010                 55\n",
       "TEDGlobal 2014                 51\n",
       "TED2006                        45\n",
       "TED2005                        37\n",
       "TEDIndia 2009                  35\n",
       "TEDWomen 2010                  34\n",
       "TEDSummit                      34\n",
       "TED2003                        34\n",
       "TED2004                        31\n",
       "TEDWomen 2015                  28\n",
       "TED2002                        28\n",
       "TEDGlobal 2007                 27\n",
       "TEDGlobal 2005                 26\n",
       "TEDWomen 2016                  25\n",
       "TEDxBeaconStreet               22\n",
       "                               ..\n",
       "TED@London                      1\n",
       "TEDxColbyCollege                1\n",
       "TEDxCrenshaw                    1\n",
       "TEDxMiamiUniversity             1\n",
       "Justice with Michael Sandel     1\n",
       "AORN Congress                   1\n",
       "TEDxSantaCruz                   1\n",
       "TEDxHampshireCollege            1\n",
       "TEDxDirigo                      1\n",
       "Handheld Learning               1\n",
       "LIFT 2007                       1\n",
       "TEDxPennsylvaniaAvenue          1\n",
       "TEDxZurich 2013                 1\n",
       "TEDxABQ                         1\n",
       "Princeton University            1\n",
       "TEDxSeoul                       1\n",
       "TEDxO'Porto                     1\n",
       "TEDxPortland                    1\n",
       "Harvard University              1\n",
       "TEDxEuston                      1\n",
       "TED@State Street London         1\n",
       "TEDxDanubia                     1\n",
       "TED1994                         1\n",
       "TEDxNASA@SiliconValley          1\n",
       "TEDxAmoskeagMillyard            1\n",
       "TEDxMuncyStatePrison            1\n",
       "TEDxBoston 2010                 1\n",
       "TEDxUM                          1\n",
       "TEDxBG                          1\n",
       "TEDxMtHood                      1\n",
       "Name: event, Length: 355, dtype: int64"
      ]
     },
     "execution_count": 51,
     "metadata": {},
     "output_type": "execute_result"
    }
   ],
   "source": [
    "ted_copy.event.value_counts()"
   ]
  },
  {
   "cell_type": "code",
   "execution_count": 52,
   "metadata": {
    "cell_style": "split",
    "scrolled": true
   },
   "outputs": [
    {
     "data": {
      "text/plain": [
       "['TED2006',\n",
       " 'TED2004',\n",
       " 'TED2005',\n",
       " 'TEDGlobal 2005',\n",
       " 'TEDSalon 2006',\n",
       " 'TED2003',\n",
       " 'TED2007',\n",
       " 'TED2002',\n",
       " 'TEDGlobal 2007',\n",
       " 'TEDSalon 2007 Hot Science',\n",
       " 'Skoll World Forum 2007',\n",
       " 'TED2008',\n",
       " 'TED1984',\n",
       " 'TED1990',\n",
       " 'DLD 2007',\n",
       " 'EG 2007',\n",
       " 'TED1998',\n",
       " 'LIFT 2007',\n",
       " 'TED Prize Wish',\n",
       " 'TEDSalon 2009 Compassion',\n",
       " 'Chautauqua Institution',\n",
       " 'Serious Play 2008',\n",
       " 'Taste3 2008',\n",
       " 'TED2001',\n",
       " 'TED in the Field',\n",
       " 'TED2009',\n",
       " 'EG 2008',\n",
       " 'Elizabeth G. Anderson School',\n",
       " 'TEDxUSC',\n",
       " 'TED@State',\n",
       " 'TEDGlobal 2009',\n",
       " 'TEDxKC',\n",
       " 'TEDIndia 2009',\n",
       " 'TEDSalon London 2009',\n",
       " 'Justice with Michael Sandel',\n",
       " 'Business Innovation Factory',\n",
       " 'TEDxTC',\n",
       " 'Carnegie Mellon University',\n",
       " 'Stanford University',\n",
       " 'AORN Congress',\n",
       " 'University of California',\n",
       " 'TEDMED 2009',\n",
       " 'Royal Institution',\n",
       " 'Bowery Poetry Club',\n",
       " 'TEDxSMU',\n",
       " 'Harvard University',\n",
       " 'TEDxBoston 2009',\n",
       " 'TEDxBerlin',\n",
       " 'TED2010',\n",
       " 'TEDxAmsterdam',\n",
       " 'World Science Festival',\n",
       " 'BBC TV',\n",
       " 'Arbejdsglaede Live',\n",
       " 'Web 2.0 Expo 2008',\n",
       " 'TEDxNASA',\n",
       " 'Michael Howard Studios',\n",
       " 'DICE Summit 2010',\n",
       " \"Eric Whitacre's Virtual Choir\",\n",
       " 'Mission Blue Voyage',\n",
       " 'TEDxPuget Sound ',\n",
       " 'TEDxNYED',\n",
       " 'Toronto Youth Corps',\n",
       " 'TEDSalon London 2010',\n",
       " 'TEDxEdmonton',\n",
       " 'TED@Cannes',\n",
       " 'TEDxAtlanta',\n",
       " 'TEDxEast',\n",
       " 'TEDxOilSpill',\n",
       " 'TEDGlobal 2010',\n",
       " 'Princeton University',\n",
       " 'New York State Senate',\n",
       " 'TEDxBoston 2010',\n",
       " 'RSA Animate',\n",
       " 'TEDxYYC',\n",
       " 'Gel Conference',\n",
       " 'The Do Lectures',\n",
       " 'TEDxChange',\n",
       " 'TED Senior Fellows at TEDGlobal 2010',\n",
       " 'Fort Worth City Council',\n",
       " 'TEDxTelAviv 2010',\n",
       " 'TEDxDU 2010',\n",
       " 'TEDxMidwest',\n",
       " 'TEDxHouston',\n",
       " 'TEDxNextGenerationAsheville',\n",
       " 'TEDxRotterdam 2010',\n",
       " 'TEDWomen 2010',\n",
       " 'TEDxMidAtlantic',\n",
       " 'TEDxSydney',\n",
       " 'TEDSalon NY2011',\n",
       " 'TEDxRainier',\n",
       " 'TEDxToronto 2010',\n",
       " 'TEDxPSU',\n",
       " 'TEDMED 2010',\n",
       " 'TEDxGreatPacificGarbagePatch',\n",
       " 'TEDxGöteborg 2010',\n",
       " 'TEDxToronto 2011',\n",
       " 'TED@MotorCity',\n",
       " 'TEDxPennQuarter',\n",
       " 'TEDPrize@UN',\n",
       " 'TED2011',\n",
       " 'TEDxPeachtree',\n",
       " 'TEDxDubai',\n",
       " 'TEDActive 2011',\n",
       " 'INK Conference',\n",
       " 'TEDxCaltech',\n",
       " 'TEDxWarwick',\n",
       " 'Handheld Learning',\n",
       " 'TEDxSiliconValley',\n",
       " 'TEDxNorthwesternU',\n",
       " 'TEDxMaastricht',\n",
       " 'TEDxBG',\n",
       " 'Full Spectrum Auditions',\n",
       " 'TEDSalon London Spring 2011',\n",
       " 'TEDxSanMigueldeAllende',\n",
       " 'TEDGlobal 2011',\n",
       " 'TEDxBoston 2011',\n",
       " 'TEDxParis 2010',\n",
       " 'NextGen:Charity',\n",
       " 'TEDxUIUC',\n",
       " 'TEDxThessaloniki',\n",
       " \"TEDxO'Porto\",\n",
       " 'TEDxBloomington',\n",
       " 'TEDxSantaCruz',\n",
       " 'TEDxWaterloo',\n",
       " 'TEDxManhattanBeach',\n",
       " 'TEDxKids@Brussels',\n",
       " 'TEDxTeen',\n",
       " 'TEDxBoulder 2011',\n",
       " 'TEDxManhattan',\n",
       " 'TEDxOrangeCoast',\n",
       " 'TEDxBrussels',\n",
       " 'TEDMED 2011',\n",
       " 'TEDxKrakow',\n",
       " 'TEDxCMU',\n",
       " 'TEDxVienna',\n",
       " 'TEDxDU 2011',\n",
       " 'TEDxDirigo',\n",
       " 'TEDxCanberra',\n",
       " 'TEDxRC2',\n",
       " 'TEDxWomen 2011',\n",
       " 'TEDxZurich 2011',\n",
       " 'TEDSalon NY2012',\n",
       " 'TEDxMIA',\n",
       " 'TEDxNASA@SiliconValley',\n",
       " 'TEDxYouth@Manchester',\n",
       " 'TED1994',\n",
       " 'TEDxVancouver',\n",
       " 'TEDSalon London Fall 2011',\n",
       " 'TEDxIslay',\n",
       " 'TEDxAmericanRiviera',\n",
       " 'TEDxDublin',\n",
       " 'TEDxVictoria',\n",
       " 'TEDxPhoenix',\n",
       " 'TEDxAsheville',\n",
       " 'TEDYouth 2011',\n",
       " 'TED2012',\n",
       " 'TEDxUW',\n",
       " 'TED-Ed',\n",
       " 'TEDxCambridge',\n",
       " 'TEDxPortofSpain',\n",
       " 'TEDxNewy',\n",
       " 'TEDxPittsburgh',\n",
       " 'TEDxObserver',\n",
       " 'TEDxConcordiaUPortland',\n",
       " 'TEDxAthens',\n",
       " 'TED@SXSWi',\n",
       " 'TEDxAustin',\n",
       " 'TEDxMonterey',\n",
       " 'TEDxSummit',\n",
       " 'TEDxBerkeley',\n",
       " 'TEDxHogeschoolUtrecht',\n",
       " 'TEDxSanJoseCA',\n",
       " 'TEDxSussexUniversity',\n",
       " 'TEDMED 2012',\n",
       " 'TEDSalon London Spring 2012',\n",
       " 'TEDxGrandRapids',\n",
       " 'TEDxABQ',\n",
       " 'TEDxSanDiego',\n",
       " 'TEDxLondonBusinessSchool',\n",
       " 'TEDGlobal 2012',\n",
       " 'TEDxStanford',\n",
       " 'TEDxImperialCollege',\n",
       " 'TEDxBoston 2012',\n",
       " 'TEDxUCL',\n",
       " 'TEDxExeter',\n",
       " 'TEDxMaui',\n",
       " 'TEDxHousesOfParliament',\n",
       " 'TED@London',\n",
       " 'TEDxWinnipeg',\n",
       " 'TED@Bangalore',\n",
       " 'TED@New York',\n",
       " 'TEDxCHUV',\n",
       " 'TEDxSF',\n",
       " 'TEDxEQChCh',\n",
       " 'TEDxHelvetia',\n",
       " 'TED@Nairobi',\n",
       " 'TEDxGeorgetown',\n",
       " 'TED@Johannesburg',\n",
       " 'TEDxZurich 2012',\n",
       " 'TEDSalon London Fall 2012',\n",
       " 'TEDxWitsUniversity',\n",
       " 'TEDxJaffa 2012',\n",
       " 'TEDxWomen 2012',\n",
       " 'TEDxHampshireCollege',\n",
       " 'TEDxGoodenoughCollege',\n",
       " 'TEDxGlasgow',\n",
       " 'TEDxBeaconStreet',\n",
       " 'SoulPancake',\n",
       " 'TEDxDelft',\n",
       " 'TEDSalon NY2013',\n",
       " 'TEDxSeoul',\n",
       " 'TEDxConcorde',\n",
       " 'TED2013',\n",
       " 'TEDYouth 2012',\n",
       " 'TEDxSeattleU',\n",
       " 'TEDxRiodelaPlata',\n",
       " 'TED@Intel',\n",
       " 'TED Talks Education',\n",
       " 'TEDxMiamiUniversity',\n",
       " 'TEDxFiDiWomen',\n",
       " 'TEDxDeExtinction',\n",
       " 'TEDMED 2013',\n",
       " 'TEDGlobal 2013',\n",
       " 'TEDxCERN',\n",
       " 'TEDxNijmegen',\n",
       " 'TEDxColbyCollege',\n",
       " 'TEDxDanubia',\n",
       " 'TEDxTokyo',\n",
       " 'TEDxBoston',\n",
       " 'TEDxKids@Ambleside',\n",
       " 'TEDCity2.0',\n",
       " 'TEDxUdeM',\n",
       " 'TED@BCG Singapore',\n",
       " 'TED@NYC',\n",
       " 'TEDWomen 2013',\n",
       " 'TEDYouth 2013',\n",
       " 'TEDxBratislava',\n",
       " 'TED@BCG San Francisco',\n",
       " 'TEDxMet',\n",
       " 'TEDxMarin',\n",
       " 'TEDxBeirut',\n",
       " 'TED@State Street Boston',\n",
       " 'TEDxCaFoscariU',\n",
       " 'TEDxJaffa 2013',\n",
       " 'TEDxZurich 2013',\n",
       " 'TED Fellows Retreat 2013',\n",
       " 'TEDxParis 2012',\n",
       " 'TEDxBoulder',\n",
       " 'TED2014',\n",
       " 'TEDxMidAtlantic 2013',\n",
       " 'TEDxPerth',\n",
       " 'TEDxUMKC',\n",
       " 'TEDxLeuvenSalon',\n",
       " 'TEDActive 2014',\n",
       " 'TEDSalon NY2014',\n",
       " 'TEDxUofM',\n",
       " 'TEDxColumbus',\n",
       " 'TEDSalon Berlin 2014',\n",
       " 'TEDxKyoto',\n",
       " 'TEDxClaremontColleges',\n",
       " 'TEDxMonroeCorrectionalComplex',\n",
       " 'TEDxBrighton',\n",
       " 'TEDxSonomaCounty',\n",
       " 'TEDxAmazonia',\n",
       " 'TED@Unilever',\n",
       " 'TEDMED 2014',\n",
       " 'TEDGlobal 2014',\n",
       " 'TED@IBM',\n",
       " 'TEDxNewYork',\n",
       " 'TED@BCG Berlin',\n",
       " 'TEDxArendal',\n",
       " 'TEDxNorrkoping',\n",
       " 'TEDYouth 2014',\n",
       " 'TED@State Street London',\n",
       " 'TEDxPlaceDesNations',\n",
       " 'TEDxBinghamtonUniversity',\n",
       " 'TEDxLinnaeusUniversity',\n",
       " 'TEDxSBU',\n",
       " 'TED2015',\n",
       " 'TEDxMuncyStatePrison',\n",
       " 'TEDxSouthBank',\n",
       " 'TEDWomen 2015',\n",
       " 'TEDSalon NY2015',\n",
       " 'TEDGlobalLondon',\n",
       " 'TEDxIndianapolis',\n",
       " 'TED@BCG London',\n",
       " 'TEDxChapmanU',\n",
       " 'TEDxGoldenGatePark 2012',\n",
       " 'TEDxUF',\n",
       " 'TEDxBend',\n",
       " 'TEDGlobal>London',\n",
       " 'TEDxPenn',\n",
       " 'TEDxProvidence',\n",
       " 'TED Fellows Retreat 2015',\n",
       " 'TED Fellows 2015',\n",
       " 'TEDxOslo',\n",
       " 'TEDxCannes',\n",
       " 'Mission Blue II',\n",
       " 'TED@UPS',\n",
       " 'TEDxToulouse',\n",
       " 'TEDYouth 2015',\n",
       " 'TEDxGroningen',\n",
       " 'TEDGlobal>Geneva',\n",
       " 'TEDxYouth@Sydney',\n",
       " 'TEDxAmoskeagMillyard',\n",
       " 'TEDMED 2015',\n",
       " 'TEDxUM',\n",
       " 'TEDxCreativeCoast',\n",
       " 'TED2016',\n",
       " 'TED@StateStreet Boston',\n",
       " 'TED Talks Live',\n",
       " 'Global Witness HQ',\n",
       " 'TED Studio',\n",
       " 'TEDActive 2015',\n",
       " 'TEDxGatewayWomen',\n",
       " 'TEDxEastEnd',\n",
       " 'TED@BCG Paris',\n",
       " 'TEDSummit',\n",
       " 'TEDxDesMoines',\n",
       " 'TEDxColoradoSprings',\n",
       " 'TEDNYC',\n",
       " 'TEDxUniversityofNevada',\n",
       " 'TEDxMontreal',\n",
       " 'TEDxIndianaUniversity',\n",
       " 'TEDWomen 2016',\n",
       " 'TED Residency',\n",
       " 'TEDxToronto',\n",
       " 'TEDxMtHood',\n",
       " 'TEDxGhent',\n",
       " 'TEDxSaltLakeCity',\n",
       " 'TEDxOmaha',\n",
       " 'TEDxSFU',\n",
       " 'TEDMED 2016',\n",
       " 'TEDxPortland',\n",
       " 'TEDxManchester',\n",
       " 'TEDxMileHigh',\n",
       " 'TED Dialogues',\n",
       " 'TEDxNatick',\n",
       " 'TEDxFrankfurt',\n",
       " 'TED-Ed Weekend',\n",
       " 'TEDxColumbusWomen',\n",
       " 'TEDxEuston',\n",
       " 'TEDxSanQuentin',\n",
       " 'TEDLagos Ideas Search',\n",
       " 'TEDxVirginiaTech',\n",
       " 'TED2017',\n",
       " 'TEDxSkoll',\n",
       " 'TEDNairobi Ideas Search',\n",
       " 'TEDxFulbrightDublin',\n",
       " 'TEDxOrcasIsland',\n",
       " 'TEDxPennsylvaniaAvenue',\n",
       " 'TEDxCrenshaw',\n",
       " 'TEDxHamburg',\n",
       " 'TEDGlobal 2017',\n",
       " 'TEDxZurich']"
      ]
     },
     "execution_count": 52,
     "metadata": {},
     "output_type": "execute_result"
    }
   ],
   "source": [
    "list(ted_copy.event.unique())"
   ]
  },
  {
   "cell_type": "markdown",
   "metadata": {},
   "source": [
    "We will divide values to 3 categories - TED, TEDx, Others"
   ]
  },
  {
   "cell_type": "code",
   "execution_count": 53,
   "metadata": {
    "scrolled": false
   },
   "outputs": [],
   "source": [
    "def event_rename(column):\n",
    "    new_column = []\n",
    "    for index, content in enumerate(column):\n",
    "        one_name = ''.join(content.split(' '))\n",
    "        if one_name[3] in ['1','2'] and one_name[:3]==\"TED\":\n",
    "            new_column.append('TED')\n",
    "        elif one_name[:9]=='TEDGlobal' or one_name[:8]=='TEDWomen':\n",
    "            new_column.append('TED')\n",
    "        elif one_name[:3]=='TED':\n",
    "            new_column.append('TEDx')\n",
    "        else:\n",
    "            new_column.append('Other')\n",
    "    return pd.Series(new_column)\n",
    "ted_copy['event_renamed'] = event_rename(ted_copy.event)"
   ]
  },
  {
   "cell_type": "code",
   "execution_count": 54,
   "metadata": {},
   "outputs": [
    {
     "data": {
      "text/html": [
       "<div>\n",
       "<style scoped>\n",
       "    .dataframe tbody tr th:only-of-type {\n",
       "        vertical-align: middle;\n",
       "    }\n",
       "\n",
       "    .dataframe tbody tr th {\n",
       "        vertical-align: top;\n",
       "    }\n",
       "\n",
       "    .dataframe thead th {\n",
       "        text-align: right;\n",
       "    }\n",
       "</style>\n",
       "<table border=\"1\" class=\"dataframe\">\n",
       "  <thead>\n",
       "    <tr style=\"text-align: right;\">\n",
       "      <th></th>\n",
       "      <th>event</th>\n",
       "      <th>event_renamed</th>\n",
       "    </tr>\n",
       "  </thead>\n",
       "  <tbody>\n",
       "    <tr>\n",
       "      <th>0</th>\n",
       "      <td>TED2006</td>\n",
       "      <td>TED</td>\n",
       "    </tr>\n",
       "    <tr>\n",
       "      <th>1</th>\n",
       "      <td>TED2006</td>\n",
       "      <td>TED</td>\n",
       "    </tr>\n",
       "    <tr>\n",
       "      <th>2</th>\n",
       "      <td>TED2006</td>\n",
       "      <td>TED</td>\n",
       "    </tr>\n",
       "    <tr>\n",
       "      <th>3</th>\n",
       "      <td>TED2006</td>\n",
       "      <td>TED</td>\n",
       "    </tr>\n",
       "    <tr>\n",
       "      <th>4</th>\n",
       "      <td>TED2006</td>\n",
       "      <td>TED</td>\n",
       "    </tr>\n",
       "  </tbody>\n",
       "</table>\n",
       "</div>"
      ],
      "text/plain": [
       "     event event_renamed\n",
       "0  TED2006           TED\n",
       "1  TED2006           TED\n",
       "2  TED2006           TED\n",
       "3  TED2006           TED\n",
       "4  TED2006           TED"
      ]
     },
     "execution_count": 54,
     "metadata": {},
     "output_type": "execute_result"
    }
   ],
   "source": [
    "ted_copy.loc[:,['event', 'event_renamed']].head()"
   ]
  },
  {
   "cell_type": "code",
   "execution_count": 55,
   "metadata": {},
   "outputs": [],
   "source": [
    "ted_copy = ted_copy.drop(columns='event')"
   ]
  },
  {
   "cell_type": "markdown",
   "metadata": {},
   "source": [
    "#### Comments"
   ]
  },
  {
   "cell_type": "code",
   "execution_count": 56,
   "metadata": {},
   "outputs": [],
   "source": [
    "min_comments = ted_copy.comments.min()\n",
    "max_comments = ted_copy.comments.max()\n",
    "\n",
    "ted_copy.comments = ted_copy.comments.apply(lambda x: (x-min_comments)/(max_comments-min_comments))"
   ]
  },
  {
   "cell_type": "markdown",
   "metadata": {},
   "source": [
    "#### Languages"
   ]
  },
  {
   "cell_type": "code",
   "execution_count": 57,
   "metadata": {},
   "outputs": [],
   "source": [
    "min_languages = ted_copy.languages.min()\n",
    "max_languages = ted_copy.languages.max()\n",
    "\n",
    "ted_copy.languages = ted_copy.languages.apply(lambda x: (x-min_languages)/(max_languages-min_languages))"
   ]
  },
  {
   "cell_type": "markdown",
   "metadata": {
    "cell_style": "center"
   },
   "source": [
    "#### Main_speaker"
   ]
  },
  {
   "cell_type": "code",
   "execution_count": 58,
   "metadata": {
    "cell_style": "center"
   },
   "outputs": [
    {
     "data": {
      "text/html": [
       "<div>\n",
       "<style scoped>\n",
       "    .dataframe tbody tr th:only-of-type {\n",
       "        vertical-align: middle;\n",
       "    }\n",
       "\n",
       "    .dataframe tbody tr th {\n",
       "        vertical-align: top;\n",
       "    }\n",
       "\n",
       "    .dataframe thead th {\n",
       "        text-align: right;\n",
       "    }\n",
       "</style>\n",
       "<table border=\"1\" class=\"dataframe\">\n",
       "  <thead>\n",
       "    <tr style=\"text-align: right;\">\n",
       "      <th></th>\n",
       "      <th>main_speaker</th>\n",
       "      <th>num_speaker</th>\n",
       "      <th>speaker_occupation</th>\n",
       "      <th>title</th>\n",
       "      <th>name</th>\n",
       "      <th>description</th>\n",
       "      <th>duration</th>\n",
       "      <th>tags</th>\n",
       "      <th>languages</th>\n",
       "      <th>comments</th>\n",
       "      <th>...</th>\n",
       "      <th>film_month</th>\n",
       "      <th>film_day</th>\n",
       "      <th>film_weekday</th>\n",
       "      <th>published_year</th>\n",
       "      <th>published_month</th>\n",
       "      <th>published_day</th>\n",
       "      <th>published_hour</th>\n",
       "      <th>published_weekday</th>\n",
       "      <th>views</th>\n",
       "      <th>event_renamed</th>\n",
       "    </tr>\n",
       "  </thead>\n",
       "  <tbody>\n",
       "    <tr>\n",
       "      <th>93</th>\n",
       "      <td>Eddi Reader</td>\n",
       "      <td>2</td>\n",
       "      <td>Singer/songwriter</td>\n",
       "      <td>\"Kiteflyer's Hill\"</td>\n",
       "      <td>Eddi Reader: \"Kiteflyer's Hill\"</td>\n",
       "      <td>0.096234</td>\n",
       "      <td>0.047059</td>\n",
       "      <td>['composing', 'entertainment', 'guitar', 'memo...</td>\n",
       "      <td>0.388889</td>\n",
       "      <td>0.011403</td>\n",
       "      <td>...</td>\n",
       "      <td>2</td>\n",
       "      <td>2</td>\n",
       "      <td>7</td>\n",
       "      <td>2007</td>\n",
       "      <td>4</td>\n",
       "      <td>14</td>\n",
       "      <td>21</td>\n",
       "      <td>6</td>\n",
       "      <td>513.672</td>\n",
       "      <td>TED</td>\n",
       "    </tr>\n",
       "    <tr>\n",
       "      <th>94</th>\n",
       "      <td>Eddi Reader</td>\n",
       "      <td>2</td>\n",
       "      <td>Singer/songwriter</td>\n",
       "      <td>\"What You've Got\"</td>\n",
       "      <td>Eddi Reader: \"What You've Got\"</td>\n",
       "      <td>0.195258</td>\n",
       "      <td>0.035294</td>\n",
       "      <td>['composing', 'entertainment', 'guitar', 'musi...</td>\n",
       "      <td>0.347222</td>\n",
       "      <td>0.007498</td>\n",
       "      <td>...</td>\n",
       "      <td>2</td>\n",
       "      <td>2</td>\n",
       "      <td>7</td>\n",
       "      <td>2007</td>\n",
       "      <td>4</td>\n",
       "      <td>14</td>\n",
       "      <td>21</td>\n",
       "      <td>6</td>\n",
       "      <td>428.351</td>\n",
       "      <td>TED</td>\n",
       "    </tr>\n",
       "    <tr>\n",
       "      <th>98</th>\n",
       "      <td>Rachelle Garniez</td>\n",
       "      <td>2</td>\n",
       "      <td>Musician</td>\n",
       "      <td>\"La Vie en Rose\"</td>\n",
       "      <td>Rachelle Garniez: \"La Vie en Rose\"</td>\n",
       "      <td>0.249651</td>\n",
       "      <td>0.011765</td>\n",
       "      <td>['entertainment', 'live music', 'music', 'perf...</td>\n",
       "      <td>0.458333</td>\n",
       "      <td>0.005779</td>\n",
       "      <td>...</td>\n",
       "      <td>2</td>\n",
       "      <td>2</td>\n",
       "      <td>1</td>\n",
       "      <td>2007</td>\n",
       "      <td>4</td>\n",
       "      <td>16</td>\n",
       "      <td>5</td>\n",
       "      <td>1</td>\n",
       "      <td>443.180</td>\n",
       "      <td>TED</td>\n",
       "    </tr>\n",
       "    <tr>\n",
       "      <th>100</th>\n",
       "      <td>Natalie MacMaster</td>\n",
       "      <td>2</td>\n",
       "      <td>Fiddler</td>\n",
       "      <td>Cape Breton fiddling in reel time</td>\n",
       "      <td>Natalie MacMaster: Cape Breton fiddling in ree...</td>\n",
       "      <td>0.147838</td>\n",
       "      <td>0.035294</td>\n",
       "      <td>['entertainment', 'history', 'live music', 'mu...</td>\n",
       "      <td>0.416667</td>\n",
       "      <td>0.010153</td>\n",
       "      <td>...</td>\n",
       "      <td>2</td>\n",
       "      <td>2</td>\n",
       "      <td>6</td>\n",
       "      <td>2007</td>\n",
       "      <td>5</td>\n",
       "      <td>1</td>\n",
       "      <td>17</td>\n",
       "      <td>2</td>\n",
       "      <td>717.002</td>\n",
       "      <td>TED</td>\n",
       "    </tr>\n",
       "    <tr>\n",
       "      <th>101</th>\n",
       "      <td>Sergey Brin + Larry Page</td>\n",
       "      <td>2</td>\n",
       "      <td>Computer scientist, entrepreneur and philanthr...</td>\n",
       "      <td>The genesis of Google</td>\n",
       "      <td>Sergey Brin + Larry Page: The genesis of Google</td>\n",
       "      <td>0.264993</td>\n",
       "      <td>0.211765</td>\n",
       "      <td>['Google', 'TED Brain Trust', 'business', 'col...</td>\n",
       "      <td>0.430556</td>\n",
       "      <td>0.008435</td>\n",
       "      <td>...</td>\n",
       "      <td>2</td>\n",
       "      <td>2</td>\n",
       "      <td>1</td>\n",
       "      <td>2007</td>\n",
       "      <td>5</td>\n",
       "      <td>3</td>\n",
       "      <td>17</td>\n",
       "      <td>4</td>\n",
       "      <td>1451.846</td>\n",
       "      <td>TED</td>\n",
       "    </tr>\n",
       "  </tbody>\n",
       "</table>\n",
       "<p>5 rows × 24 columns</p>\n",
       "</div>"
      ],
      "text/plain": [
       "                 main_speaker  num_speaker  \\\n",
       "93                Eddi Reader            2   \n",
       "94                Eddi Reader            2   \n",
       "98           Rachelle Garniez            2   \n",
       "100         Natalie MacMaster            2   \n",
       "101  Sergey Brin + Larry Page            2   \n",
       "\n",
       "                                    speaker_occupation  \\\n",
       "93                                   Singer/songwriter   \n",
       "94                                   Singer/songwriter   \n",
       "98                                            Musician   \n",
       "100                                            Fiddler   \n",
       "101  Computer scientist, entrepreneur and philanthr...   \n",
       "\n",
       "                                 title  \\\n",
       "93                  \"Kiteflyer's Hill\"   \n",
       "94                   \"What You've Got\"   \n",
       "98                    \"La Vie en Rose\"   \n",
       "100  Cape Breton fiddling in reel time   \n",
       "101              The genesis of Google   \n",
       "\n",
       "                                                  name  description  duration  \\\n",
       "93                     Eddi Reader: \"Kiteflyer's Hill\"     0.096234  0.047059   \n",
       "94                      Eddi Reader: \"What You've Got\"     0.195258  0.035294   \n",
       "98                  Rachelle Garniez: \"La Vie en Rose\"     0.249651  0.011765   \n",
       "100  Natalie MacMaster: Cape Breton fiddling in ree...     0.147838  0.035294   \n",
       "101    Sergey Brin + Larry Page: The genesis of Google     0.264993  0.211765   \n",
       "\n",
       "                                                  tags  languages  comments  \\\n",
       "93   ['composing', 'entertainment', 'guitar', 'memo...   0.388889  0.011403   \n",
       "94   ['composing', 'entertainment', 'guitar', 'musi...   0.347222  0.007498   \n",
       "98   ['entertainment', 'live music', 'music', 'perf...   0.458333  0.005779   \n",
       "100  ['entertainment', 'history', 'live music', 'mu...   0.416667  0.010153   \n",
       "101  ['Google', 'TED Brain Trust', 'business', 'col...   0.430556  0.008435   \n",
       "\n",
       "     ... film_month film_day film_weekday  published_year  published_month  \\\n",
       "93   ...          2        2            7            2007                4   \n",
       "94   ...          2        2            7            2007                4   \n",
       "98   ...          2        2            1            2007                4   \n",
       "100  ...          2        2            6            2007                5   \n",
       "101  ...          2        2            1            2007                5   \n",
       "\n",
       "     published_day  published_hour  published_weekday     views  event_renamed  \n",
       "93              14              21                  6   513.672            TED  \n",
       "94              14              21                  6   428.351            TED  \n",
       "98              16               5                  1   443.180            TED  \n",
       "100              1              17                  2   717.002            TED  \n",
       "101              3              17                  4  1451.846            TED  \n",
       "\n",
       "[5 rows x 24 columns]"
      ]
     },
     "execution_count": 58,
     "metadata": {},
     "output_type": "execute_result"
    }
   ],
   "source": [
    "ted_copy.loc[ted_copy.num_speaker>=2].head() #rows, with more than one speaker"
   ]
  },
  {
   "cell_type": "code",
   "execution_count": 59,
   "metadata": {},
   "outputs": [
    {
     "data": {
      "text/plain": [
       "Series([], Name: main_speaker, dtype: object)"
      ]
     },
     "execution_count": 59,
     "metadata": {},
     "output_type": "execute_result"
    }
   ],
   "source": [
    "ted_copy.main_speaker.loc[ted_copy.num_speaker==0] #looking for videos with no speakers"
   ]
  },
  {
   "cell_type": "code",
   "execution_count": 60,
   "metadata": {
    "scrolled": true
   },
   "outputs": [
    {
     "data": {
      "text/html": [
       "<div>\n",
       "<style scoped>\n",
       "    .dataframe tbody tr th:only-of-type {\n",
       "        vertical-align: middle;\n",
       "    }\n",
       "\n",
       "    .dataframe tbody tr th {\n",
       "        vertical-align: top;\n",
       "    }\n",
       "\n",
       "    .dataframe thead th {\n",
       "        text-align: right;\n",
       "    }\n",
       "</style>\n",
       "<table border=\"1\" class=\"dataframe\">\n",
       "  <thead>\n",
       "    <tr style=\"text-align: right;\">\n",
       "      <th></th>\n",
       "      <th>main_speaker</th>\n",
       "      <th>num_speaker</th>\n",
       "      <th>speaker_occupation</th>\n",
       "      <th>title</th>\n",
       "      <th>name</th>\n",
       "      <th>description</th>\n",
       "      <th>duration</th>\n",
       "      <th>tags</th>\n",
       "      <th>languages</th>\n",
       "      <th>comments</th>\n",
       "      <th>...</th>\n",
       "      <th>film_month</th>\n",
       "      <th>film_day</th>\n",
       "      <th>film_weekday</th>\n",
       "      <th>published_year</th>\n",
       "      <th>published_month</th>\n",
       "      <th>published_day</th>\n",
       "      <th>published_hour</th>\n",
       "      <th>published_weekday</th>\n",
       "      <th>views</th>\n",
       "      <th>event_renamed</th>\n",
       "    </tr>\n",
       "  </thead>\n",
       "  <tbody>\n",
       "    <tr>\n",
       "      <th>796</th>\n",
       "      <td>David Byrne, Ethel + Thomas Dolby</td>\n",
       "      <td>3</td>\n",
       "      <td>Electronic music pioneer</td>\n",
       "      <td>\"(Nothing But) Flowers\" with string quartet</td>\n",
       "      <td>David Byrne, Ethel + Thomas Dolby: \"(Nothing B...</td>\n",
       "      <td>0.158996</td>\n",
       "      <td>0.011765</td>\n",
       "      <td>['future', 'garden', 'music', 'performance', '...</td>\n",
       "      <td>0.472222</td>\n",
       "      <td>0.009528</td>\n",
       "      <td>...</td>\n",
       "      <td>2</td>\n",
       "      <td>12</td>\n",
       "      <td>5</td>\n",
       "      <td>2010</td>\n",
       "      <td>10</td>\n",
       "      <td>22</td>\n",
       "      <td>8</td>\n",
       "      <td>5</td>\n",
       "      <td>621.361</td>\n",
       "      <td>TED</td>\n",
       "    </tr>\n",
       "    <tr>\n",
       "      <th>1107</th>\n",
       "      <td>Lauren Hodge, Shree Bose + Naomi Shah</td>\n",
       "      <td>3</td>\n",
       "      <td>Science fair winner</td>\n",
       "      <td>Award-winning teenage science in action</td>\n",
       "      <td>Lauren Hodge, Shree Bose + Naomi Shah: Award-w...</td>\n",
       "      <td>0.210600</td>\n",
       "      <td>0.164706</td>\n",
       "      <td>['TEDx', 'cancer', 'chemistry', 'code', 'food'...</td>\n",
       "      <td>0.347222</td>\n",
       "      <td>0.026242</td>\n",
       "      <td>...</td>\n",
       "      <td>12</td>\n",
       "      <td>8</td>\n",
       "      <td>4</td>\n",
       "      <td>2012</td>\n",
       "      <td>1</td>\n",
       "      <td>10</td>\n",
       "      <td>16</td>\n",
       "      <td>2</td>\n",
       "      <td>913.084</td>\n",
       "      <td>TEDx</td>\n",
       "    </tr>\n",
       "    <tr>\n",
       "      <th>1543</th>\n",
       "      <td>Diana Reiss, Peter Gabriel, Neil Gershenfeld a...</td>\n",
       "      <td>4</td>\n",
       "      <td>Cognitive psychologist</td>\n",
       "      <td>The interspecies internet? An idea in progress</td>\n",
       "      <td>The interspecies internet? An idea in progress</td>\n",
       "      <td>0.437936</td>\n",
       "      <td>0.211765</td>\n",
       "      <td>['Internet', 'animals', 'technology']</td>\n",
       "      <td>0.277778</td>\n",
       "      <td>0.019994</td>\n",
       "      <td>...</td>\n",
       "      <td>2</td>\n",
       "      <td>28</td>\n",
       "      <td>4</td>\n",
       "      <td>2013</td>\n",
       "      <td>7</td>\n",
       "      <td>10</td>\n",
       "      <td>15</td>\n",
       "      <td>3</td>\n",
       "      <td>717.979</td>\n",
       "      <td>TED</td>\n",
       "    </tr>\n",
       "    <tr>\n",
       "      <th>1971</th>\n",
       "      <td>Bill T. Jones</td>\n",
       "      <td>3</td>\n",
       "      <td>Director/choreographer, dancer</td>\n",
       "      <td>The dancer, the singer, the cellist ... and a ...</td>\n",
       "      <td>Bill T. Jones: The dancer, the singer, the cel...</td>\n",
       "      <td>0.476987</td>\n",
       "      <td>0.047059</td>\n",
       "      <td>['TED Fellows', 'dance', 'entertainment', 'liv...</td>\n",
       "      <td>0.527778</td>\n",
       "      <td>0.015308</td>\n",
       "      <td>...</td>\n",
       "      <td>3</td>\n",
       "      <td>18</td>\n",
       "      <td>3</td>\n",
       "      <td>2015</td>\n",
       "      <td>5</td>\n",
       "      <td>6</td>\n",
       "      <td>15</td>\n",
       "      <td>3</td>\n",
       "      <td>1257.079</td>\n",
       "      <td>TED</td>\n",
       "    </tr>\n",
       "    <tr>\n",
       "      <th>2215</th>\n",
       "      <td>Adam Driver</td>\n",
       "      <td>3</td>\n",
       "      <td>Actor and Marine Corps veteran</td>\n",
       "      <td>My journey from Marine to actor</td>\n",
       "      <td>Adam Driver: My journey from Marine to actor</td>\n",
       "      <td>0.686192</td>\n",
       "      <td>0.188235</td>\n",
       "      <td>['collaboration', 'communication', 'entertainm...</td>\n",
       "      <td>0.333333</td>\n",
       "      <td>0.005311</td>\n",
       "      <td>...</td>\n",
       "      <td>11</td>\n",
       "      <td>3</td>\n",
       "      <td>2</td>\n",
       "      <td>2016</td>\n",
       "      <td>5</td>\n",
       "      <td>27</td>\n",
       "      <td>15</td>\n",
       "      <td>5</td>\n",
       "      <td>3016.666</td>\n",
       "      <td>TEDx</td>\n",
       "    </tr>\n",
       "    <tr>\n",
       "      <th>2319</th>\n",
       "      <td>Amanda Palmer, Jherek Bischoff, Usman Riaz</td>\n",
       "      <td>3</td>\n",
       "      <td>Musician, blogger</td>\n",
       "      <td>\"Space Oddity\"</td>\n",
       "      <td>Amanda Palmer, Jherek Bischoff, Usman Riaz: \"S...</td>\n",
       "      <td>0.271967</td>\n",
       "      <td>0.047059</td>\n",
       "      <td>['TED Fellows', 'guitar', 'live music', 'music...</td>\n",
       "      <td>0.388889</td>\n",
       "      <td>0.000937</td>\n",
       "      <td>...</td>\n",
       "      <td>2</td>\n",
       "      <td>19</td>\n",
       "      <td>5</td>\n",
       "      <td>2016</td>\n",
       "      <td>11</td>\n",
       "      <td>4</td>\n",
       "      <td>12</td>\n",
       "      <td>5</td>\n",
       "      <td>738.590</td>\n",
       "      <td>TED</td>\n",
       "    </tr>\n",
       "    <tr>\n",
       "      <th>2334</th>\n",
       "      <td>Alicia Garza, Patrisse Cullors and Opal Tometi</td>\n",
       "      <td>4</td>\n",
       "      <td>Writer, activist</td>\n",
       "      <td>An interview with the founders of Black Lives ...</td>\n",
       "      <td>Alicia Garza, Patrisse Cullors and Opal Tometi...</td>\n",
       "      <td>0.610879</td>\n",
       "      <td>0.164706</td>\n",
       "      <td>['Africa', 'Gender equality', 'activism', 'col...</td>\n",
       "      <td>0.180556</td>\n",
       "      <td>0.015152</td>\n",
       "      <td>...</td>\n",
       "      <td>10</td>\n",
       "      <td>27</td>\n",
       "      <td>4</td>\n",
       "      <td>2016</td>\n",
       "      <td>11</td>\n",
       "      <td>29</td>\n",
       "      <td>15</td>\n",
       "      <td>2</td>\n",
       "      <td>782.276</td>\n",
       "      <td>TED</td>\n",
       "    </tr>\n",
       "    <tr>\n",
       "      <th>2421</th>\n",
       "      <td>Gretchen Carlson, David Brooks</td>\n",
       "      <td>4</td>\n",
       "      <td>TV journalist, women's empowerment advocate</td>\n",
       "      <td>Political common ground in a polarized United ...</td>\n",
       "      <td>Gretchen Carlson, David Brooks: Political comm...</td>\n",
       "      <td>0.456067</td>\n",
       "      <td>0.529412</td>\n",
       "      <td>['United States', 'collaboration', 'communicat...</td>\n",
       "      <td>0.069444</td>\n",
       "      <td>0.006248</td>\n",
       "      <td>...</td>\n",
       "      <td>3</td>\n",
       "      <td>1</td>\n",
       "      <td>3</td>\n",
       "      <td>2017</td>\n",
       "      <td>4</td>\n",
       "      <td>3</td>\n",
       "      <td>21</td>\n",
       "      <td>1</td>\n",
       "      <td>890.478</td>\n",
       "      <td>TEDx</td>\n",
       "    </tr>\n",
       "    <tr>\n",
       "      <th>2507</th>\n",
       "      <td>Jon Boogz and Lil Buck</td>\n",
       "      <td>5</td>\n",
       "      <td>Movement artist</td>\n",
       "      <td>A dance to honor Mother Earth</td>\n",
       "      <td>Jon Boogz and Lil Buck: A dance to honor Mothe...</td>\n",
       "      <td>0.207810</td>\n",
       "      <td>0.082353</td>\n",
       "      <td>['art', 'creativity', 'dance', 'performance', ...</td>\n",
       "      <td>0.166667</td>\n",
       "      <td>0.000625</td>\n",
       "      <td>...</td>\n",
       "      <td>4</td>\n",
       "      <td>24</td>\n",
       "      <td>1</td>\n",
       "      <td>2017</td>\n",
       "      <td>8</td>\n",
       "      <td>11</td>\n",
       "      <td>10</td>\n",
       "      <td>5</td>\n",
       "      <td>182.975</td>\n",
       "      <td>TED</td>\n",
       "    </tr>\n",
       "  </tbody>\n",
       "</table>\n",
       "<p>9 rows × 24 columns</p>\n",
       "</div>"
      ],
      "text/plain": [
       "                                           main_speaker  num_speaker  \\\n",
       "796                   David Byrne, Ethel + Thomas Dolby            3   \n",
       "1107              Lauren Hodge, Shree Bose + Naomi Shah            3   \n",
       "1543  Diana Reiss, Peter Gabriel, Neil Gershenfeld a...            4   \n",
       "1971                                      Bill T. Jones            3   \n",
       "2215                                        Adam Driver            3   \n",
       "2319         Amanda Palmer, Jherek Bischoff, Usman Riaz            3   \n",
       "2334     Alicia Garza, Patrisse Cullors and Opal Tometi            4   \n",
       "2421                     Gretchen Carlson, David Brooks            4   \n",
       "2507                             Jon Boogz and Lil Buck            5   \n",
       "\n",
       "                               speaker_occupation  \\\n",
       "796                      Electronic music pioneer   \n",
       "1107                          Science fair winner   \n",
       "1543                       Cognitive psychologist   \n",
       "1971               Director/choreographer, dancer   \n",
       "2215               Actor and Marine Corps veteran   \n",
       "2319                            Musician, blogger   \n",
       "2334                             Writer, activist   \n",
       "2421  TV journalist, women's empowerment advocate   \n",
       "2507                              Movement artist   \n",
       "\n",
       "                                                  title  \\\n",
       "796         \"(Nothing But) Flowers\" with string quartet   \n",
       "1107            Award-winning teenage science in action   \n",
       "1543     The interspecies internet? An idea in progress   \n",
       "1971  The dancer, the singer, the cellist ... and a ...   \n",
       "2215                    My journey from Marine to actor   \n",
       "2319                                     \"Space Oddity\"   \n",
       "2334  An interview with the founders of Black Lives ...   \n",
       "2421  Political common ground in a polarized United ...   \n",
       "2507                      A dance to honor Mother Earth   \n",
       "\n",
       "                                                   name  description  \\\n",
       "796   David Byrne, Ethel + Thomas Dolby: \"(Nothing B...     0.158996   \n",
       "1107  Lauren Hodge, Shree Bose + Naomi Shah: Award-w...     0.210600   \n",
       "1543     The interspecies internet? An idea in progress     0.437936   \n",
       "1971  Bill T. Jones: The dancer, the singer, the cel...     0.476987   \n",
       "2215       Adam Driver: My journey from Marine to actor     0.686192   \n",
       "2319  Amanda Palmer, Jherek Bischoff, Usman Riaz: \"S...     0.271967   \n",
       "2334  Alicia Garza, Patrisse Cullors and Opal Tometi...     0.610879   \n",
       "2421  Gretchen Carlson, David Brooks: Political comm...     0.456067   \n",
       "2507  Jon Boogz and Lil Buck: A dance to honor Mothe...     0.207810   \n",
       "\n",
       "      duration                                               tags  languages  \\\n",
       "796   0.011765  ['future', 'garden', 'music', 'performance', '...   0.472222   \n",
       "1107  0.164706  ['TEDx', 'cancer', 'chemistry', 'code', 'food'...   0.347222   \n",
       "1543  0.211765              ['Internet', 'animals', 'technology']   0.277778   \n",
       "1971  0.047059  ['TED Fellows', 'dance', 'entertainment', 'liv...   0.527778   \n",
       "2215  0.188235  ['collaboration', 'communication', 'entertainm...   0.333333   \n",
       "2319  0.047059  ['TED Fellows', 'guitar', 'live music', 'music...   0.388889   \n",
       "2334  0.164706  ['Africa', 'Gender equality', 'activism', 'col...   0.180556   \n",
       "2421  0.529412  ['United States', 'collaboration', 'communicat...   0.069444   \n",
       "2507  0.082353  ['art', 'creativity', 'dance', 'performance', ...   0.166667   \n",
       "\n",
       "      comments  ... film_month film_day film_weekday  published_year  \\\n",
       "796   0.009528  ...          2       12            5            2010   \n",
       "1107  0.026242  ...         12        8            4            2012   \n",
       "1543  0.019994  ...          2       28            4            2013   \n",
       "1971  0.015308  ...          3       18            3            2015   \n",
       "2215  0.005311  ...         11        3            2            2016   \n",
       "2319  0.000937  ...          2       19            5            2016   \n",
       "2334  0.015152  ...         10       27            4            2016   \n",
       "2421  0.006248  ...          3        1            3            2017   \n",
       "2507  0.000625  ...          4       24            1            2017   \n",
       "\n",
       "      published_month  published_day  published_hour  published_weekday  \\\n",
       "796                10             22               8                  5   \n",
       "1107                1             10              16                  2   \n",
       "1543                7             10              15                  3   \n",
       "1971                5              6              15                  3   \n",
       "2215                5             27              15                  5   \n",
       "2319               11              4              12                  5   \n",
       "2334               11             29              15                  2   \n",
       "2421                4              3              21                  1   \n",
       "2507                8             11              10                  5   \n",
       "\n",
       "         views  event_renamed  \n",
       "796    621.361            TED  \n",
       "1107   913.084           TEDx  \n",
       "1543   717.979            TED  \n",
       "1971  1257.079            TED  \n",
       "2215  3016.666           TEDx  \n",
       "2319   738.590            TED  \n",
       "2334   782.276            TED  \n",
       "2421   890.478           TEDx  \n",
       "2507   182.975            TED  \n",
       "\n",
       "[9 rows x 24 columns]"
      ]
     },
     "execution_count": 60,
     "metadata": {},
     "output_type": "execute_result"
    }
   ],
   "source": [
    "ted_copy.loc[ted_copy.num_speaker>=3] #displaying rows with 3 speakers and more to understand the format"
   ]
  },
  {
   "cell_type": "code",
   "execution_count": 61,
   "metadata": {},
   "outputs": [],
   "source": [
    "def speakers(column): # extracting surnames from datapoint\n",
    "    new_column=[]\n",
    "    for content in column:\n",
    "        surnames=content.split(' ')\n",
    "        new_surnames = []\n",
    "        for ind,word in enumerate(surnames):\n",
    "            if len(word)>0 and word[-1]==',':\n",
    "                new_surnames.append(word.strip(','))\n",
    "                \n",
    "            if word=='and' or word=='+':\n",
    "                new_surnames.append(surnames[ind-1])\n",
    "                \n",
    "            if ind==len(surnames)-1:\n",
    "                new_surnames.append(word)\n",
    "        new_column.append(new_surnames)\n",
    "    return new_column"
   ]
  },
  {
   "cell_type": "code",
   "execution_count": 62,
   "metadata": {},
   "outputs": [],
   "source": [
    "ted_copy['speaker'] = speakers(ted_copy.main_speaker)"
   ]
  },
  {
   "cell_type": "code",
   "execution_count": 63,
   "metadata": {},
   "outputs": [],
   "source": [
    "ted_copy = ted_copy.drop(columns='main_speaker')"
   ]
  },
  {
   "cell_type": "code",
   "execution_count": 64,
   "metadata": {
    "scrolled": true
   },
   "outputs": [
    {
     "data": {
      "text/plain": [
       "93                                 [Reader]\n",
       "94                                 [Reader]\n",
       "98                                [Garniez]\n",
       "100                             [MacMaster]\n",
       "101                            [Brin, Page]\n",
       "193                       [Sobule, Sweeney]\n",
       "197                           [Gould, Wong]\n",
       "216                      [Machover, Ellsey]\n",
       "249                       [Shirey, Garniez]\n",
       "272                    [Bowden, Cappadocia]\n",
       "321                       [Kaplan, Schacht]\n",
       "401                          [Maes, Mistry]\n",
       "612                  [Shannon, Hockenberry]\n",
       "680                                 [Dolby]\n",
       "706                       [Brand, Jacobson]\n",
       "796                   [Byrne, Ethel, Dolby]\n",
       "946                          [Gupta, Roman]\n",
       "1018                        [Michel, Aiden]\n",
       "1076                             [Bohannon]\n",
       "1091                         [Cantu, Roche]\n",
       "1107                    [Hodge, Bose, Shah]\n",
       "1112             [Hazlewood, Paraorchestra]\n",
       "1142                       [Hayes, Chaffer]\n",
       "1193                        [Thys, Project]\n",
       "1280                           [Riaz, Reed]\n",
       "1291                                [Mills]\n",
       "1316                     [Caitria, O'Neill]\n",
       "1358                       [Lotto, O'Toole]\n",
       "1543    [Reiss, Gabriel, Gershenfeld, Cerf]\n",
       "1565                [Paravicini, Ockelford]\n",
       "1569                         [Ramirez, Liu]\n",
       "1582                      [Berlow, Gourley]\n",
       "1605                                [Patel]\n",
       "1699                    [Pinker, Goldstein]\n",
       "1714                          [Bill, Gates]\n",
       "1818                        [Hans, Rosling]\n",
       "1864                    [Moon, Vasconcelos]\n",
       "1971                                [Jones]\n",
       "2015                          [Soth, Baker]\n",
       "2105                        [Fonda, Tomlin]\n",
       "2215                               [Driver]\n",
       "2218                                 [Lear]\n",
       "2303                            [Copp, Fox]\n",
       "2313                    [Ensemble, Giddens]\n",
       "2319               [Palmer, Bischoff, Riaz]\n",
       "2322                                [Haidt]\n",
       "2325                             [Crenshaw]\n",
       "2334               [Garza, Cullors, Tometi]\n",
       "2338                         [Milan, Milan]\n",
       "2377                       [Elva, Stranger]\n",
       "2387                               [Harari]\n",
       "2396                              [Ramirez]\n",
       "2421                      [Carlson, Brooks]\n",
       "2439                       [Williams, King]\n",
       "2455                      [Dixon, Garrison]\n",
       "2476                               [Tukker]\n",
       "2507                          [Boogz, Buck]\n",
       "2536                 [Quattromani, Arledge]\n",
       "Name: speaker, dtype: object"
      ]
     },
     "execution_count": 64,
     "metadata": {},
     "output_type": "execute_result"
    }
   ],
   "source": [
    "ted_copy.speaker.loc[ted_copy.num_speaker>=2] #'speaker' contains now a list of surnames"
   ]
  },
  {
   "cell_type": "markdown",
   "metadata": {},
   "source": [
    "#### Name"
   ]
  },
  {
   "cell_type": "markdown",
   "metadata": {},
   "source": [
    "Name column provides no information gain. Column contains only speakers and title - we have that in other columns"
   ]
  },
  {
   "cell_type": "code",
   "execution_count": 65,
   "metadata": {},
   "outputs": [],
   "source": [
    "ted_copy = ted_copy.drop(columns='name') "
   ]
  },
  {
   "cell_type": "markdown",
   "metadata": {},
   "source": [
    "#### Speaker_occupation"
   ]
  },
  {
   "cell_type": "code",
   "execution_count": 66,
   "metadata": {
    "scrolled": true
   },
   "outputs": [
    {
     "data": {
      "text/html": [
       "<div>\n",
       "<style scoped>\n",
       "    .dataframe tbody tr th:only-of-type {\n",
       "        vertical-align: middle;\n",
       "    }\n",
       "\n",
       "    .dataframe tbody tr th {\n",
       "        vertical-align: top;\n",
       "    }\n",
       "\n",
       "    .dataframe thead th {\n",
       "        text-align: right;\n",
       "    }\n",
       "</style>\n",
       "<table border=\"1\" class=\"dataframe\">\n",
       "  <thead>\n",
       "    <tr style=\"text-align: right;\">\n",
       "      <th></th>\n",
       "      <th>num_speaker</th>\n",
       "      <th>speaker_occupation</th>\n",
       "      <th>title</th>\n",
       "      <th>description</th>\n",
       "      <th>duration</th>\n",
       "      <th>tags</th>\n",
       "      <th>languages</th>\n",
       "      <th>comments</th>\n",
       "      <th>related_talks</th>\n",
       "      <th>ratings</th>\n",
       "      <th>...</th>\n",
       "      <th>film_day</th>\n",
       "      <th>film_weekday</th>\n",
       "      <th>published_year</th>\n",
       "      <th>published_month</th>\n",
       "      <th>published_day</th>\n",
       "      <th>published_hour</th>\n",
       "      <th>published_weekday</th>\n",
       "      <th>views</th>\n",
       "      <th>event_renamed</th>\n",
       "      <th>speaker</th>\n",
       "    </tr>\n",
       "  </thead>\n",
       "  <tbody>\n",
       "    <tr>\n",
       "      <th>1113</th>\n",
       "      <td>1</td>\n",
       "      <td>NaN</td>\n",
       "      <td>Meet the Water Canary</td>\n",
       "      <td>0.351464</td>\n",
       "      <td>0.011765</td>\n",
       "      <td>['TED Fellows', 'design', 'global development'...</td>\n",
       "      <td>0.527778</td>\n",
       "      <td>0.022337</td>\n",
       "      <td>[{'id': 523, 'hero': 'https://pe.tedcdn.com/im...</td>\n",
       "      <td>[{'id': 10, 'name': 'Inspiring', 'count': 73},...</td>\n",
       "      <td>...</td>\n",
       "      <td>14</td>\n",
       "      <td>4</td>\n",
       "      <td>2012</td>\n",
       "      <td>1</td>\n",
       "      <td>16</td>\n",
       "      <td>16</td>\n",
       "      <td>1</td>\n",
       "      <td>353.749</td>\n",
       "      <td>TED</td>\n",
       "      <td>[Luthra]</td>\n",
       "    </tr>\n",
       "    <tr>\n",
       "      <th>1192</th>\n",
       "      <td>1</td>\n",
       "      <td>NaN</td>\n",
       "      <td>I am a pirate</td>\n",
       "      <td>0.284519</td>\n",
       "      <td>0.188235</td>\n",
       "      <td>['Internet', 'TEDx', 'global issues', 'politic...</td>\n",
       "      <td>0.138889</td>\n",
       "      <td>0.018744</td>\n",
       "      <td>[{'id': 1329, 'hero': 'https://pe.tedcdn.com/i...</td>\n",
       "      <td>[{'id': 8, 'name': 'Informative', 'count': 156...</td>\n",
       "      <td>...</td>\n",
       "      <td>11</td>\n",
       "      <td>7</td>\n",
       "      <td>2012</td>\n",
       "      <td>4</td>\n",
       "      <td>1</td>\n",
       "      <td>14</td>\n",
       "      <td>7</td>\n",
       "      <td>181.010</td>\n",
       "      <td>TEDx</td>\n",
       "      <td>[Falkvinge]</td>\n",
       "    </tr>\n",
       "    <tr>\n",
       "      <th>1220</th>\n",
       "      <td>1</td>\n",
       "      <td>NaN</td>\n",
       "      <td>Tracking our online trackers</td>\n",
       "      <td>0.478382</td>\n",
       "      <td>0.047059</td>\n",
       "      <td>['Internet', 'advertising', 'business', 'priva...</td>\n",
       "      <td>0.444444</td>\n",
       "      <td>0.039831</td>\n",
       "      <td>[{'id': 1370, 'hero': 'https://pe.tedcdn.com/i...</td>\n",
       "      <td>[{'id': 23, 'name': 'Jaw-dropping', 'count': 9...</td>\n",
       "      <td>...</td>\n",
       "      <td>29</td>\n",
       "      <td>3</td>\n",
       "      <td>2012</td>\n",
       "      <td>5</td>\n",
       "      <td>3</td>\n",
       "      <td>15</td>\n",
       "      <td>4</td>\n",
       "      <td>2098.639</td>\n",
       "      <td>TED</td>\n",
       "      <td>[Kovacs]</td>\n",
       "    </tr>\n",
       "    <tr>\n",
       "      <th>1656</th>\n",
       "      <td>1</td>\n",
       "      <td>NaN</td>\n",
       "      <td>To hear this music you have to be there. Liter...</td>\n",
       "      <td>0.305439</td>\n",
       "      <td>0.047059</td>\n",
       "      <td>['TED Fellows', 'entertainment', 'music', 'tec...</td>\n",
       "      <td>0.458333</td>\n",
       "      <td>0.021556</td>\n",
       "      <td>[{'id': 1152, 'hero': 'https://pe.tedcdn.com/i...</td>\n",
       "      <td>[{'id': 1, 'name': 'Beautiful', 'count': 211},...</td>\n",
       "      <td>...</td>\n",
       "      <td>30</td>\n",
       "      <td>3</td>\n",
       "      <td>2014</td>\n",
       "      <td>1</td>\n",
       "      <td>10</td>\n",
       "      <td>16</td>\n",
       "      <td>5</td>\n",
       "      <td>1284.510</td>\n",
       "      <td>TEDx</td>\n",
       "      <td>[Holladay]</td>\n",
       "    </tr>\n",
       "    <tr>\n",
       "      <th>1911</th>\n",
       "      <td>1</td>\n",
       "      <td>NaN</td>\n",
       "      <td>Old books reborn as art</td>\n",
       "      <td>0.225941</td>\n",
       "      <td>0.047059</td>\n",
       "      <td>['TEDYouth', 'art', 'books', 'creativity']</td>\n",
       "      <td>0.472222</td>\n",
       "      <td>0.007185</td>\n",
       "      <td>[{'id': 610, 'hero': 'https://pe.tedcdn.com/im...</td>\n",
       "      <td>[{'id': 1, 'name': 'Beautiful', 'count': 361},...</td>\n",
       "      <td>...</td>\n",
       "      <td>4</td>\n",
       "      <td>2</td>\n",
       "      <td>2015</td>\n",
       "      <td>2</td>\n",
       "      <td>6</td>\n",
       "      <td>16</td>\n",
       "      <td>5</td>\n",
       "      <td>1159.937</td>\n",
       "      <td>TEDx</td>\n",
       "      <td>[Dettmer]</td>\n",
       "    </tr>\n",
       "    <tr>\n",
       "      <th>1949</th>\n",
       "      <td>1</td>\n",
       "      <td>NaN</td>\n",
       "      <td>The day I stood up alone</td>\n",
       "      <td>0.516039</td>\n",
       "      <td>0.058824</td>\n",
       "      <td>['TED Fellows', 'activism', 'art', 'corruption...</td>\n",
       "      <td>0.458333</td>\n",
       "      <td>0.010622</td>\n",
       "      <td>[{'id': 1757, 'hero': 'https://pe.tedcdn.com/i...</td>\n",
       "      <td>[{'id': 3, 'name': 'Courageous', 'count': 614}...</td>\n",
       "      <td>...</td>\n",
       "      <td>20</td>\n",
       "      <td>1</td>\n",
       "      <td>2015</td>\n",
       "      <td>4</td>\n",
       "      <td>2</td>\n",
       "      <td>15</td>\n",
       "      <td>4</td>\n",
       "      <td>1342.431</td>\n",
       "      <td>TED</td>\n",
       "      <td>[Mwangi]</td>\n",
       "    </tr>\n",
       "  </tbody>\n",
       "</table>\n",
       "<p>6 rows × 23 columns</p>\n",
       "</div>"
      ],
      "text/plain": [
       "      num_speaker speaker_occupation  \\\n",
       "1113            1                NaN   \n",
       "1192            1                NaN   \n",
       "1220            1                NaN   \n",
       "1656            1                NaN   \n",
       "1911            1                NaN   \n",
       "1949            1                NaN   \n",
       "\n",
       "                                                  title  description  \\\n",
       "1113                              Meet the Water Canary     0.351464   \n",
       "1192                                      I am a pirate     0.284519   \n",
       "1220                       Tracking our online trackers     0.478382   \n",
       "1656  To hear this music you have to be there. Liter...     0.305439   \n",
       "1911                            Old books reborn as art     0.225941   \n",
       "1949                           The day I stood up alone     0.516039   \n",
       "\n",
       "      duration                                               tags  languages  \\\n",
       "1113  0.011765  ['TED Fellows', 'design', 'global development'...   0.527778   \n",
       "1192  0.188235  ['Internet', 'TEDx', 'global issues', 'politic...   0.138889   \n",
       "1220  0.047059  ['Internet', 'advertising', 'business', 'priva...   0.444444   \n",
       "1656  0.047059  ['TED Fellows', 'entertainment', 'music', 'tec...   0.458333   \n",
       "1911  0.047059         ['TEDYouth', 'art', 'books', 'creativity']   0.472222   \n",
       "1949  0.058824  ['TED Fellows', 'activism', 'art', 'corruption...   0.458333   \n",
       "\n",
       "      comments                                      related_talks  \\\n",
       "1113  0.022337  [{'id': 523, 'hero': 'https://pe.tedcdn.com/im...   \n",
       "1192  0.018744  [{'id': 1329, 'hero': 'https://pe.tedcdn.com/i...   \n",
       "1220  0.039831  [{'id': 1370, 'hero': 'https://pe.tedcdn.com/i...   \n",
       "1656  0.021556  [{'id': 1152, 'hero': 'https://pe.tedcdn.com/i...   \n",
       "1911  0.007185  [{'id': 610, 'hero': 'https://pe.tedcdn.com/im...   \n",
       "1949  0.010622  [{'id': 1757, 'hero': 'https://pe.tedcdn.com/i...   \n",
       "\n",
       "                                                ratings  ... film_day  \\\n",
       "1113  [{'id': 10, 'name': 'Inspiring', 'count': 73},...  ...       14   \n",
       "1192  [{'id': 8, 'name': 'Informative', 'count': 156...  ...       11   \n",
       "1220  [{'id': 23, 'name': 'Jaw-dropping', 'count': 9...  ...       29   \n",
       "1656  [{'id': 1, 'name': 'Beautiful', 'count': 211},...  ...       30   \n",
       "1911  [{'id': 1, 'name': 'Beautiful', 'count': 361},...  ...        4   \n",
       "1949  [{'id': 3, 'name': 'Courageous', 'count': 614}...  ...       20   \n",
       "\n",
       "      film_weekday  published_year  published_month  published_day  \\\n",
       "1113             4            2012                1             16   \n",
       "1192             7            2012                4              1   \n",
       "1220             3            2012                5              3   \n",
       "1656             3            2014                1             10   \n",
       "1911             2            2015                2              6   \n",
       "1949             1            2015                4              2   \n",
       "\n",
       "      published_hour  published_weekday     views  event_renamed      speaker  \n",
       "1113              16                  1   353.749            TED     [Luthra]  \n",
       "1192              14                  7   181.010           TEDx  [Falkvinge]  \n",
       "1220              15                  4  2098.639            TED     [Kovacs]  \n",
       "1656              16                  5  1284.510           TEDx   [Holladay]  \n",
       "1911              16                  5  1159.937           TEDx    [Dettmer]  \n",
       "1949              15                  4  1342.431            TED     [Mwangi]  \n",
       "\n",
       "[6 rows x 23 columns]"
      ]
     },
     "execution_count": 66,
     "metadata": {},
     "output_type": "execute_result"
    }
   ],
   "source": [
    "ted_copy.loc[ted_copy.speaker_occupation.isnull()==True]"
   ]
  },
  {
   "cell_type": "code",
   "execution_count": 67,
   "metadata": {
    "scrolled": true
   },
   "outputs": [
    {
     "data": {
      "text/plain": [
       "Writer                                     45\n",
       "Artist                                     34\n",
       "Designer                                   34\n",
       "Journalist                                 33\n",
       "Entrepreneur                               31\n",
       "Architect                                  30\n",
       "Inventor                                   27\n",
       "Psychologist                               26\n",
       "Photographer                               25\n",
       "Filmmaker                                  21\n",
       "Educator                                   20\n",
       "Author                                     20\n",
       "Economist                                  20\n",
       "Neuroscientist                             20\n",
       "Roboticist                                 16\n",
       "Philosopher                                16\n",
       "Biologist                                  15\n",
       "Physicist                                  14\n",
       "Musician                                   11\n",
       "Marine biologist                           11\n",
       "Global health expert; data visionary       10\n",
       "Activist                                   10\n",
       "Technologist                               10\n",
       "Graphic designer                            9\n",
       "Behavioral economist                        9\n",
       "Philanthropist                              9\n",
       "Oceanographer                               9\n",
       "Singer/songwriter                           9\n",
       "Astronomer                                  9\n",
       "Poet                                        9\n",
       "                                           ..\n",
       "Social critic                               1\n",
       "Open-source engineer and artist             1\n",
       "Learning expert                             1\n",
       "Brass virtuoso                              1\n",
       "Executive chair, Ford Motor Co.             1\n",
       "Passionate reader                           1\n",
       "Farmer and technologist                     1\n",
       "Language                                    1\n",
       "Positive psychologist                       1\n",
       "Photo editor                                1\n",
       "Newspaper designer                          1\n",
       "Founder and CEO, Future Today Institute     1\n",
       "Business professor                          1\n",
       "Social Justice Activist                     1\n",
       "Space researcher, biologist, artist         1\n",
       "Inspirer                                    1\n",
       "Journalist and psychologist                 1\n",
       "Molecular animator                          1\n",
       "African grey parrot                         1\n",
       "Former governor of Michigan                 1\n",
       "Disrupter                                   1\n",
       "Natural resources expert                    1\n",
       "Psychiatrist, neurologist, author           1\n",
       "Green auto pioneer                          1\n",
       "Cultural theorist                           1\n",
       "Cardiologist and geneticist                 1\n",
       "Polar explorer                              1\n",
       "Mother + ALS Advocate                       1\n",
       "Value-based health care advocate            1\n",
       "Angel Investor                              1\n",
       "Name: speaker_occupation, Length: 1458, dtype: int64"
      ]
     },
     "execution_count": 67,
     "metadata": {},
     "output_type": "execute_result"
    }
   ],
   "source": [
    "ted_copy.speaker_occupation.value_counts()"
   ]
  },
  {
   "cell_type": "code",
   "execution_count": 68,
   "metadata": {},
   "outputs": [],
   "source": [
    "def get_occupation(column): #extracting only first word of occupation\n",
    "    new_column=[]\n",
    "    for row in column:\n",
    "        if pd.isnull(row):\n",
    "            new_column.append('speaker')\n",
    "        else:\n",
    "            line = str(row.split(' ')[0])\n",
    "            line = str(line.split('/')[0])\n",
    "            line = line.strip(',').strip(';').lower()\n",
    "            new_column.append(line)\n",
    "            \n",
    "    return pd.Series(new_column)"
   ]
  },
  {
   "cell_type": "code",
   "execution_count": 69,
   "metadata": {},
   "outputs": [],
   "source": [
    "ted_copy['occupation'] = get_occupation(ted_copy.speaker_occupation)\n",
    "ted_copy = ted_copy.drop(columns='speaker_occupation')"
   ]
  },
  {
   "cell_type": "markdown",
   "metadata": {},
   "source": [
    "#### URL"
   ]
  },
  {
   "cell_type": "markdown",
   "metadata": {},
   "source": [
    "URL provides no information gain"
   ]
  },
  {
   "cell_type": "code",
   "execution_count": 70,
   "metadata": {},
   "outputs": [],
   "source": [
    "ted_copy = ted_copy.drop(columns='url')"
   ]
  },
  {
   "cell_type": "markdown",
   "metadata": {},
   "source": [
    "#### Title"
   ]
  },
  {
   "cell_type": "markdown",
   "metadata": {},
   "source": [
    "It is hard to easly extract and use information provided by title column"
   ]
  },
  {
   "cell_type": "code",
   "execution_count": 71,
   "metadata": {},
   "outputs": [],
   "source": [
    "ted_copy = ted_copy.drop(columns='title')"
   ]
  },
  {
   "cell_type": "markdown",
   "metadata": {},
   "source": [
    "#### Tags"
   ]
  },
  {
   "cell_type": "code",
   "execution_count": 72,
   "metadata": {},
   "outputs": [
    {
     "data": {
      "text/plain": [
       "2545    ['TED Residency', 'United States', 'community'...\n",
       "2546    ['Mars', 'South America', 'TED Fellows', 'astr...\n",
       "2547    ['AI', 'ants', 'fish', 'future', 'innovation',...\n",
       "2548    ['Internet', 'TEDx', 'United States', 'communi...\n",
       "2549    ['cities', 'design', 'future', 'infrastructure...\n",
       "Name: tags, dtype: object"
      ]
     },
     "execution_count": 72,
     "metadata": {},
     "output_type": "execute_result"
    }
   ],
   "source": [
    "ted_copy.tags.tail()"
   ]
  },
  {
   "cell_type": "code",
   "execution_count": 73,
   "metadata": {},
   "outputs": [],
   "source": [
    "def get_tags(column): # extract first 2 tags as they are the closest to what the film is about, ommit TED if it a tag\n",
    "    new_column1=[]\n",
    "    new_column2=[]\n",
    "    for row in column:\n",
    "        line = row.strip('][').split(', ') \n",
    "        line = list(map(lambda x: x.strip(\"'\"), line))\n",
    "        how_many=0\n",
    "        while how_many<2 and how_many<len(line):\n",
    "            if len(line[how_many])>=3:\n",
    "                if line[how_many][:3]==\"TED\":\n",
    "                    line.pop(how_many)   \n",
    "                else:\n",
    "                    how_many+=1\n",
    "            else:\n",
    "                how_many+=1\n",
    "        new_column1.append(line[0])\n",
    "        if len(line)>1:\n",
    "            new_column2.append(line[1])\n",
    "        else:\n",
    "            new_column2.append(line[0])\n",
    "    return pd.Series(new_column1), pd.Series(new_column2)\n",
    "        "
   ]
  },
  {
   "cell_type": "code",
   "execution_count": 74,
   "metadata": {},
   "outputs": [],
   "source": [
    "ted_copy['tag1'], ted_copy['tag2'] = get_tags(ted_copy.tags) #creating 2 new columns with tags"
   ]
  },
  {
   "cell_type": "code",
   "execution_count": 75,
   "metadata": {},
   "outputs": [],
   "source": [
    "ted_copy = ted_copy.drop(columns='tags')"
   ]
  },
  {
   "cell_type": "code",
   "execution_count": 76,
   "metadata": {},
   "outputs": [
    {
     "data": {
      "text/html": [
       "<div>\n",
       "<style scoped>\n",
       "    .dataframe tbody tr th:only-of-type {\n",
       "        vertical-align: middle;\n",
       "    }\n",
       "\n",
       "    .dataframe tbody tr th {\n",
       "        vertical-align: top;\n",
       "    }\n",
       "\n",
       "    .dataframe thead th {\n",
       "        text-align: right;\n",
       "    }\n",
       "</style>\n",
       "<table border=\"1\" class=\"dataframe\">\n",
       "  <thead>\n",
       "    <tr style=\"text-align: right;\">\n",
       "      <th></th>\n",
       "      <th>num_speaker</th>\n",
       "      <th>description</th>\n",
       "      <th>duration</th>\n",
       "      <th>languages</th>\n",
       "      <th>comments</th>\n",
       "      <th>related_talks</th>\n",
       "      <th>ratings</th>\n",
       "      <th>film_year</th>\n",
       "      <th>film_month</th>\n",
       "      <th>film_day</th>\n",
       "      <th>...</th>\n",
       "      <th>published_month</th>\n",
       "      <th>published_day</th>\n",
       "      <th>published_hour</th>\n",
       "      <th>published_weekday</th>\n",
       "      <th>views</th>\n",
       "      <th>event_renamed</th>\n",
       "      <th>speaker</th>\n",
       "      <th>occupation</th>\n",
       "      <th>tag1</th>\n",
       "      <th>tag2</th>\n",
       "    </tr>\n",
       "  </thead>\n",
       "  <tbody>\n",
       "    <tr>\n",
       "      <th>2545</th>\n",
       "      <td>1</td>\n",
       "      <td>0.560669</td>\n",
       "      <td>0.058824</td>\n",
       "      <td>0.055556</td>\n",
       "      <td>0.002343</td>\n",
       "      <td>[{'id': 2596, 'hero': 'https://pe.tedcdn.com/i...</td>\n",
       "      <td>[{'id': 3, 'name': 'Courageous', 'count': 24},...</td>\n",
       "      <td>2017</td>\n",
       "      <td>6</td>\n",
       "      <td>6</td>\n",
       "      <td>...</td>\n",
       "      <td>9</td>\n",
       "      <td>19</td>\n",
       "      <td>20</td>\n",
       "      <td>2</td>\n",
       "      <td>450.430</td>\n",
       "      <td>TED</td>\n",
       "      <td>[Geraldino]</td>\n",
       "      <td>journalist</td>\n",
       "      <td>United States</td>\n",
       "      <td>community</td>\n",
       "    </tr>\n",
       "    <tr>\n",
       "      <th>2546</th>\n",
       "      <td>1</td>\n",
       "      <td>0.548117</td>\n",
       "      <td>0.023529</td>\n",
       "      <td>0.041667</td>\n",
       "      <td>0.000625</td>\n",
       "      <td>[{'id': 2491, 'hero': 'https://pe.tedcdn.com/i...</td>\n",
       "      <td>[{'id': 22, 'name': 'Fascinating', 'count': 32...</td>\n",
       "      <td>2017</td>\n",
       "      <td>4</td>\n",
       "      <td>24</td>\n",
       "      <td>...</td>\n",
       "      <td>9</td>\n",
       "      <td>20</td>\n",
       "      <td>15</td>\n",
       "      <td>3</td>\n",
       "      <td>417.470</td>\n",
       "      <td>TED</td>\n",
       "      <td>[Azua-Bustos]</td>\n",
       "      <td>astrobiologist</td>\n",
       "      <td>Mars</td>\n",
       "      <td>South America</td>\n",
       "    </tr>\n",
       "    <tr>\n",
       "      <th>2547</th>\n",
       "      <td>1</td>\n",
       "      <td>0.726639</td>\n",
       "      <td>0.094118</td>\n",
       "      <td>0.013889</td>\n",
       "      <td>0.001250</td>\n",
       "      <td>[{'id': 2346, 'hero': 'https://pe.tedcdn.com/i...</td>\n",
       "      <td>[{'id': 1, 'name': 'Beautiful', 'count': 14}, ...</td>\n",
       "      <td>2017</td>\n",
       "      <td>4</td>\n",
       "      <td>24</td>\n",
       "      <td>...</td>\n",
       "      <td>9</td>\n",
       "      <td>21</td>\n",
       "      <td>15</td>\n",
       "      <td>4</td>\n",
       "      <td>375.647</td>\n",
       "      <td>TED</td>\n",
       "      <td>[Nagpal]</td>\n",
       "      <td></td>\n",
       "      <td>AI</td>\n",
       "      <td>ants</td>\n",
       "    </tr>\n",
       "    <tr>\n",
       "      <th>2548</th>\n",
       "      <td>1</td>\n",
       "      <td>0.581590</td>\n",
       "      <td>0.188235</td>\n",
       "      <td>0.013889</td>\n",
       "      <td>0.004686</td>\n",
       "      <td>[{'id': 2512, 'hero': 'https://pe.tedcdn.com/i...</td>\n",
       "      <td>[{'id': 11, 'name': 'Longwinded', 'count': 3},...</td>\n",
       "      <td>2017</td>\n",
       "      <td>7</td>\n",
       "      <td>8</td>\n",
       "      <td>...</td>\n",
       "      <td>9</td>\n",
       "      <td>21</td>\n",
       "      <td>20</td>\n",
       "      <td>4</td>\n",
       "      <td>419.309</td>\n",
       "      <td>TEDx</td>\n",
       "      <td>[Wilson]</td>\n",
       "      <td>public</td>\n",
       "      <td>Internet</td>\n",
       "      <td>United States</td>\n",
       "    </tr>\n",
       "    <tr>\n",
       "      <th>2549</th>\n",
       "      <td>1</td>\n",
       "      <td>0.594142</td>\n",
       "      <td>0.070588</td>\n",
       "      <td>0.013889</td>\n",
       "      <td>0.000937</td>\n",
       "      <td>[{'id': 2682, 'hero': 'https://pe.tedcdn.com/i...</td>\n",
       "      <td>[{'id': 21, 'name': 'Unconvincing', 'count': 2...</td>\n",
       "      <td>2017</td>\n",
       "      <td>4</td>\n",
       "      <td>24</td>\n",
       "      <td>...</td>\n",
       "      <td>9</td>\n",
       "      <td>22</td>\n",
       "      <td>15</td>\n",
       "      <td>5</td>\n",
       "      <td>391.721</td>\n",
       "      <td>TED</td>\n",
       "      <td>[Korppoo]</td>\n",
       "      <td>game</td>\n",
       "      <td>cities</td>\n",
       "      <td>design</td>\n",
       "    </tr>\n",
       "  </tbody>\n",
       "</table>\n",
       "<p>5 rows × 22 columns</p>\n",
       "</div>"
      ],
      "text/plain": [
       "      num_speaker  description  duration  languages  comments  \\\n",
       "2545            1     0.560669  0.058824   0.055556  0.002343   \n",
       "2546            1     0.548117  0.023529   0.041667  0.000625   \n",
       "2547            1     0.726639  0.094118   0.013889  0.001250   \n",
       "2548            1     0.581590  0.188235   0.013889  0.004686   \n",
       "2549            1     0.594142  0.070588   0.013889  0.000937   \n",
       "\n",
       "                                          related_talks  \\\n",
       "2545  [{'id': 2596, 'hero': 'https://pe.tedcdn.com/i...   \n",
       "2546  [{'id': 2491, 'hero': 'https://pe.tedcdn.com/i...   \n",
       "2547  [{'id': 2346, 'hero': 'https://pe.tedcdn.com/i...   \n",
       "2548  [{'id': 2512, 'hero': 'https://pe.tedcdn.com/i...   \n",
       "2549  [{'id': 2682, 'hero': 'https://pe.tedcdn.com/i...   \n",
       "\n",
       "                                                ratings  film_year  \\\n",
       "2545  [{'id': 3, 'name': 'Courageous', 'count': 24},...       2017   \n",
       "2546  [{'id': 22, 'name': 'Fascinating', 'count': 32...       2017   \n",
       "2547  [{'id': 1, 'name': 'Beautiful', 'count': 14}, ...       2017   \n",
       "2548  [{'id': 11, 'name': 'Longwinded', 'count': 3},...       2017   \n",
       "2549  [{'id': 21, 'name': 'Unconvincing', 'count': 2...       2017   \n",
       "\n",
       "      film_month  film_day  ...  published_month  published_day  \\\n",
       "2545           6         6  ...                9             19   \n",
       "2546           4        24  ...                9             20   \n",
       "2547           4        24  ...                9             21   \n",
       "2548           7         8  ...                9             21   \n",
       "2549           4        24  ...                9             22   \n",
       "\n",
       "      published_hour  published_weekday    views  event_renamed  \\\n",
       "2545              20                  2  450.430            TED   \n",
       "2546              15                  3  417.470            TED   \n",
       "2547              15                  4  375.647            TED   \n",
       "2548              20                  4  419.309           TEDx   \n",
       "2549              15                  5  391.721            TED   \n",
       "\n",
       "            speaker      occupation           tag1           tag2  \n",
       "2545    [Geraldino]      journalist  United States      community  \n",
       "2546  [Azua-Bustos]  astrobiologist           Mars  South America  \n",
       "2547       [Nagpal]                             AI           ants  \n",
       "2548       [Wilson]          public       Internet  United States  \n",
       "2549      [Korppoo]            game         cities         design  \n",
       "\n",
       "[5 rows x 22 columns]"
      ]
     },
     "execution_count": 76,
     "metadata": {},
     "output_type": "execute_result"
    }
   ],
   "source": [
    "ted_copy.tail()"
   ]
  },
  {
   "cell_type": "code",
   "execution_count": 77,
   "metadata": {},
   "outputs": [],
   "source": [
    "ted_copy = ted_copy.drop(columns=['related_talks', 'ratings'])"
   ]
  },
  {
   "cell_type": "markdown",
   "metadata": {},
   "source": [
    "## Building model"
   ]
  },
  {
   "cell_type": "code",
   "execution_count": 78,
   "metadata": {},
   "outputs": [],
   "source": [
    "X = ted_copy.copy()"
   ]
  },
  {
   "cell_type": "code",
   "execution_count": 79,
   "metadata": {},
   "outputs": [],
   "source": [
    "def dummy_generator(df, features):\n",
    "    for x in features:\n",
    "        dummies = pd.get_dummies(df[x], prefix=x, dummy_na=False)\n",
    "        df = df.drop(x,1)\n",
    "        df = pd.concat([df,dummies], axis=1)\n",
    "    return df"
   ]
  },
  {
   "cell_type": "code",
   "execution_count": 80,
   "metadata": {},
   "outputs": [],
   "source": [
    "def outlier_detection(column):\n",
    "    outliers=[]\n",
    "    threshold=3\n",
    "    mean = np.mean(column)\n",
    "    std = np.std(column)\n",
    "    \n",
    "    for index,row in enumerate(column):\n",
    "        z_score = (row-mean)/std\n",
    "        if np.abs(z_score) > threshold:\n",
    "            outliers.append(index)\n",
    "    return outliers"
   ]
  },
  {
   "cell_type": "markdown",
   "metadata": {},
   "source": [
    "Our data contains outlier in columns: views, languages, comments, duration. These outliers does not come from errors, that is why we will not delete or correct them"
   ]
  },
  {
   "cell_type": "code",
   "execution_count": 81,
   "metadata": {},
   "outputs": [
    {
     "data": {
      "text/plain": [
       "(2550, 20)"
      ]
     },
     "execution_count": 81,
     "metadata": {},
     "output_type": "execute_result"
    }
   ],
   "source": [
    "outliers = outlier_detection(X.views)\n",
    "len(outliers)\n",
    "#X = X.drop(outliers) #we do not drop outliers because they are not errors\n",
    "X.shape"
   ]
  },
  {
   "cell_type": "code",
   "execution_count": 82,
   "metadata": {},
   "outputs": [],
   "source": [
    "X = X.drop(columns=['speaker','occupation','tag1','tag2', 'published_hour'])\n",
    "X = dummy_generator(X, ['event_renamed'])\n",
    "X = X.drop(columns=['event_renamed_Other'])\n",
    "X_train, X_test, Y_train, y_test = train_test_split(X, X['views'])"
   ]
  },
  {
   "cell_type": "markdown",
   "metadata": {},
   "source": [
    "#### Random Forest Regressor"
   ]
  },
  {
   "cell_type": "code",
   "execution_count": 83,
   "metadata": {},
   "outputs": [
    {
     "name": "stderr",
     "output_type": "stream",
     "text": [
      "C:\\ProgramData\\Anaconda3\\lib\\site-packages\\sklearn\\model_selection\\_search.py:813: DeprecationWarning: The default of the `iid` parameter will change from True to False in version 0.22 and will be removed in 0.24. This will change numeric results when test-set sizes are unequal.\n",
      "  DeprecationWarning)\n"
     ]
    },
    {
     "name": "stdout",
     "output_type": "stream",
     "text": [
      "done\n"
     ]
    }
   ],
   "source": [
    "params = dict(n_estimators = list(np.arange(1,101, step=10)))\n",
    "\n",
    "grid = GridSearchCV(RandomForestRegressor(), params, cv=10, scoring='neg_mean_squared_error', return_train_score=False )\n",
    "grid.fit(X_train, Y_train)\n",
    "print('done')"
   ]
  },
  {
   "cell_type": "code",
   "execution_count": 84,
   "metadata": {},
   "outputs": [
    {
     "data": {
      "text/html": [
       "<div>\n",
       "<style scoped>\n",
       "    .dataframe tbody tr th:only-of-type {\n",
       "        vertical-align: middle;\n",
       "    }\n",
       "\n",
       "    .dataframe tbody tr th {\n",
       "        vertical-align: top;\n",
       "    }\n",
       "\n",
       "    .dataframe thead th {\n",
       "        text-align: right;\n",
       "    }\n",
       "</style>\n",
       "<table border=\"1\" class=\"dataframe\">\n",
       "  <thead>\n",
       "    <tr style=\"text-align: right;\">\n",
       "      <th></th>\n",
       "      <th>mean_fit_time</th>\n",
       "      <th>std_fit_time</th>\n",
       "      <th>mean_score_time</th>\n",
       "      <th>std_score_time</th>\n",
       "      <th>param_n_estimators</th>\n",
       "      <th>params</th>\n",
       "      <th>split0_test_score</th>\n",
       "      <th>split1_test_score</th>\n",
       "      <th>split2_test_score</th>\n",
       "      <th>split3_test_score</th>\n",
       "      <th>split4_test_score</th>\n",
       "      <th>split5_test_score</th>\n",
       "      <th>split6_test_score</th>\n",
       "      <th>split7_test_score</th>\n",
       "      <th>split8_test_score</th>\n",
       "      <th>split9_test_score</th>\n",
       "      <th>mean_test_score</th>\n",
       "      <th>std_test_score</th>\n",
       "      <th>rank_test_score</th>\n",
       "    </tr>\n",
       "  </thead>\n",
       "  <tbody>\n",
       "    <tr>\n",
       "      <th>9</th>\n",
       "      <td>0.725135</td>\n",
       "      <td>0.006692</td>\n",
       "      <td>0.007185</td>\n",
       "      <td>0.000397</td>\n",
       "      <td>91</td>\n",
       "      <td>{'n_estimators': 91}</td>\n",
       "      <td>-217.856463</td>\n",
       "      <td>-22877.387668</td>\n",
       "      <td>-10590.842539</td>\n",
       "      <td>-35932.745266</td>\n",
       "      <td>-9.683602e+05</td>\n",
       "      <td>-1344.796049</td>\n",
       "      <td>-587713.961675</td>\n",
       "      <td>-9965.939678</td>\n",
       "      <td>-9584.441707</td>\n",
       "      <td>-3216.862952</td>\n",
       "      <td>-164820.011897</td>\n",
       "      <td>318160.539361</td>\n",
       "      <td>1</td>\n",
       "    </tr>\n",
       "    <tr>\n",
       "      <th>5</th>\n",
       "      <td>0.409369</td>\n",
       "      <td>0.006091</td>\n",
       "      <td>0.004961</td>\n",
       "      <td>0.000560</td>\n",
       "      <td>51</td>\n",
       "      <td>{'n_estimators': 51}</td>\n",
       "      <td>-466.380047</td>\n",
       "      <td>-17680.521876</td>\n",
       "      <td>-14333.049252</td>\n",
       "      <td>-15810.110573</td>\n",
       "      <td>-7.936766e+05</td>\n",
       "      <td>-3824.906979</td>\n",
       "      <td>-808226.273432</td>\n",
       "      <td>-630.209140</td>\n",
       "      <td>-23705.548598</td>\n",
       "      <td>-5144.547708</td>\n",
       "      <td>-168183.203761</td>\n",
       "      <td>316279.298159</td>\n",
       "      <td>2</td>\n",
       "    </tr>\n",
       "    <tr>\n",
       "      <th>6</th>\n",
       "      <td>0.493969</td>\n",
       "      <td>0.008010</td>\n",
       "      <td>0.005900</td>\n",
       "      <td>0.000839</td>\n",
       "      <td>61</td>\n",
       "      <td>{'n_estimators': 61}</td>\n",
       "      <td>-345.900034</td>\n",
       "      <td>-6411.125111</td>\n",
       "      <td>-4450.074749</td>\n",
       "      <td>-110398.923380</td>\n",
       "      <td>-9.708055e+05</td>\n",
       "      <td>-1784.766197</td>\n",
       "      <td>-797764.272755</td>\n",
       "      <td>-4055.019881</td>\n",
       "      <td>-17279.176195</td>\n",
       "      <td>-2862.555677</td>\n",
       "      <td>-191418.830285</td>\n",
       "      <td>349769.967965</td>\n",
       "      <td>3</td>\n",
       "    </tr>\n",
       "    <tr>\n",
       "      <th>7</th>\n",
       "      <td>0.565390</td>\n",
       "      <td>0.007343</td>\n",
       "      <td>0.006644</td>\n",
       "      <td>0.000888</td>\n",
       "      <td>71</td>\n",
       "      <td>{'n_estimators': 71}</td>\n",
       "      <td>-117.623115</td>\n",
       "      <td>-10038.548354</td>\n",
       "      <td>-12433.636139</td>\n",
       "      <td>-92525.236695</td>\n",
       "      <td>-9.308174e+05</td>\n",
       "      <td>-3532.492978</td>\n",
       "      <td>-840307.652945</td>\n",
       "      <td>-5020.025845</td>\n",
       "      <td>-17475.389544</td>\n",
       "      <td>-4904.628551</td>\n",
       "      <td>-191522.036031</td>\n",
       "      <td>348318.898068</td>\n",
       "      <td>4</td>\n",
       "    </tr>\n",
       "    <tr>\n",
       "      <th>8</th>\n",
       "      <td>0.649752</td>\n",
       "      <td>0.005382</td>\n",
       "      <td>0.007378</td>\n",
       "      <td>0.000792</td>\n",
       "      <td>81</td>\n",
       "      <td>{'n_estimators': 81}</td>\n",
       "      <td>-276.974854</td>\n",
       "      <td>-18774.373784</td>\n",
       "      <td>-7854.100467</td>\n",
       "      <td>-68948.241966</td>\n",
       "      <td>-1.012779e+06</td>\n",
       "      <td>-631.192504</td>\n",
       "      <td>-786351.335390</td>\n",
       "      <td>-11527.749036</td>\n",
       "      <td>-11904.284797</td>\n",
       "      <td>-3667.628557</td>\n",
       "      <td>-192080.311980</td>\n",
       "      <td>357610.656831</td>\n",
       "      <td>5</td>\n",
       "    </tr>\n",
       "  </tbody>\n",
       "</table>\n",
       "</div>"
      ],
      "text/plain": [
       "   mean_fit_time  std_fit_time  mean_score_time  std_score_time  \\\n",
       "9       0.725135      0.006692         0.007185        0.000397   \n",
       "5       0.409369      0.006091         0.004961        0.000560   \n",
       "6       0.493969      0.008010         0.005900        0.000839   \n",
       "7       0.565390      0.007343         0.006644        0.000888   \n",
       "8       0.649752      0.005382         0.007378        0.000792   \n",
       "\n",
       "  param_n_estimators                params  split0_test_score  \\\n",
       "9                 91  {'n_estimators': 91}        -217.856463   \n",
       "5                 51  {'n_estimators': 51}        -466.380047   \n",
       "6                 61  {'n_estimators': 61}        -345.900034   \n",
       "7                 71  {'n_estimators': 71}        -117.623115   \n",
       "8                 81  {'n_estimators': 81}        -276.974854   \n",
       "\n",
       "   split1_test_score  split2_test_score  split3_test_score  split4_test_score  \\\n",
       "9      -22877.387668      -10590.842539      -35932.745266      -9.683602e+05   \n",
       "5      -17680.521876      -14333.049252      -15810.110573      -7.936766e+05   \n",
       "6       -6411.125111       -4450.074749     -110398.923380      -9.708055e+05   \n",
       "7      -10038.548354      -12433.636139      -92525.236695      -9.308174e+05   \n",
       "8      -18774.373784       -7854.100467      -68948.241966      -1.012779e+06   \n",
       "\n",
       "   split5_test_score  split6_test_score  split7_test_score  split8_test_score  \\\n",
       "9       -1344.796049     -587713.961675       -9965.939678       -9584.441707   \n",
       "5       -3824.906979     -808226.273432        -630.209140      -23705.548598   \n",
       "6       -1784.766197     -797764.272755       -4055.019881      -17279.176195   \n",
       "7       -3532.492978     -840307.652945       -5020.025845      -17475.389544   \n",
       "8        -631.192504     -786351.335390      -11527.749036      -11904.284797   \n",
       "\n",
       "   split9_test_score  mean_test_score  std_test_score  rank_test_score  \n",
       "9       -3216.862952   -164820.011897   318160.539361                1  \n",
       "5       -5144.547708   -168183.203761   316279.298159                2  \n",
       "6       -2862.555677   -191418.830285   349769.967965                3  \n",
       "7       -4904.628551   -191522.036031   348318.898068                4  \n",
       "8       -3667.628557   -192080.311980   357610.656831                5  "
      ]
     },
     "execution_count": 84,
     "metadata": {},
     "output_type": "execute_result"
    }
   ],
   "source": [
    "grid_scores_df = pd.DataFrame(grid.cv_results_)#[['param_n_estimators', 'mean_test_score', 'rank_test_score']]\n",
    "grid_scores_df.sort_values(by='rank_test_score').head()"
   ]
  },
  {
   "cell_type": "code",
   "execution_count": 85,
   "metadata": {},
   "outputs": [],
   "source": [
    "random_forest = RandomForestRegressor(n_estimators=11)\n",
    "random_forest.fit(X_train, Y_train)\n",
    "random_forest_prediciton = random_forest.predict(X_test)"
   ]
  },
  {
   "cell_type": "code",
   "execution_count": 86,
   "metadata": {},
   "outputs": [
    {
     "name": "stdout",
     "output_type": "stream",
     "text": [
      "MAE for Random Forest 15.035970931889441\n",
      "MSE for Random Forest 16704.611941310202\n",
      "R2 for Random Forest 0.9950979287947358\n"
     ]
    }
   ],
   "source": [
    "print('MAE for Random Forest', mean_absolute_error(y_test, random_forest_prediciton))\n",
    "print('MSE for Random Forest', mean_squared_error(y_test, random_forest_prediciton))\n",
    "print('R2 for Random Forest', r2_score(y_test, random_forest_prediciton))"
   ]
  },
  {
   "cell_type": "markdown",
   "metadata": {},
   "source": [
    "#### K Neighbors Regressor"
   ]
  },
  {
   "cell_type": "code",
   "execution_count": 87,
   "metadata": {},
   "outputs": [
    {
     "name": "stdout",
     "output_type": "stream",
     "text": [
      "done\n"
     ]
    },
    {
     "name": "stderr",
     "output_type": "stream",
     "text": [
      "C:\\ProgramData\\Anaconda3\\lib\\site-packages\\sklearn\\model_selection\\_search.py:813: DeprecationWarning: The default of the `iid` parameter will change from True to False in version 0.22 and will be removed in 0.24. This will change numeric results when test-set sizes are unequal.\n",
      "  DeprecationWarning)\n"
     ]
    }
   ],
   "source": [
    "params = dict(n_neighbors = list(np.arange(1,22, step=4)), leaf_size = list(np.arange(5,50, step=5)))\n",
    "\n",
    "grid = GridSearchCV(KNeighborsRegressor(), params, cv=10, scoring='neg_mean_squared_error', return_train_score=False )\n",
    "grid.fit(X_train, Y_train)\n",
    "print('done')"
   ]
  },
  {
   "cell_type": "code",
   "execution_count": 88,
   "metadata": {},
   "outputs": [
    {
     "data": {
      "text/html": [
       "<div>\n",
       "<style scoped>\n",
       "    .dataframe tbody tr th:only-of-type {\n",
       "        vertical-align: middle;\n",
       "    }\n",
       "\n",
       "    .dataframe tbody tr th {\n",
       "        vertical-align: top;\n",
       "    }\n",
       "\n",
       "    .dataframe thead th {\n",
       "        text-align: right;\n",
       "    }\n",
       "</style>\n",
       "<table border=\"1\" class=\"dataframe\">\n",
       "  <thead>\n",
       "    <tr style=\"text-align: right;\">\n",
       "      <th></th>\n",
       "      <th>mean_test_score</th>\n",
       "      <th>params</th>\n",
       "      <th>rank_test_score</th>\n",
       "    </tr>\n",
       "  </thead>\n",
       "  <tbody>\n",
       "    <tr>\n",
       "      <th>0</th>\n",
       "      <td>-30502.436966</td>\n",
       "      <td>{'leaf_size': 5, 'n_neighbors': 1}</td>\n",
       "      <td>1</td>\n",
       "    </tr>\n",
       "    <tr>\n",
       "      <th>18</th>\n",
       "      <td>-30502.436966</td>\n",
       "      <td>{'leaf_size': 20, 'n_neighbors': 1}</td>\n",
       "      <td>1</td>\n",
       "    </tr>\n",
       "    <tr>\n",
       "      <th>30</th>\n",
       "      <td>-30502.436966</td>\n",
       "      <td>{'leaf_size': 30, 'n_neighbors': 1}</td>\n",
       "      <td>1</td>\n",
       "    </tr>\n",
       "    <tr>\n",
       "      <th>36</th>\n",
       "      <td>-30502.436966</td>\n",
       "      <td>{'leaf_size': 35, 'n_neighbors': 1}</td>\n",
       "      <td>1</td>\n",
       "    </tr>\n",
       "    <tr>\n",
       "      <th>12</th>\n",
       "      <td>-30502.436966</td>\n",
       "      <td>{'leaf_size': 15, 'n_neighbors': 1}</td>\n",
       "      <td>1</td>\n",
       "    </tr>\n",
       "  </tbody>\n",
       "</table>\n",
       "</div>"
      ],
      "text/plain": [
       "    mean_test_score                               params  rank_test_score\n",
       "0     -30502.436966   {'leaf_size': 5, 'n_neighbors': 1}                1\n",
       "18    -30502.436966  {'leaf_size': 20, 'n_neighbors': 1}                1\n",
       "30    -30502.436966  {'leaf_size': 30, 'n_neighbors': 1}                1\n",
       "36    -30502.436966  {'leaf_size': 35, 'n_neighbors': 1}                1\n",
       "12    -30502.436966  {'leaf_size': 15, 'n_neighbors': 1}                1"
      ]
     },
     "execution_count": 88,
     "metadata": {},
     "output_type": "execute_result"
    }
   ],
   "source": [
    "grid_scores_df = pd.DataFrame(grid.cv_results_)[['mean_test_score', 'params', 'rank_test_score']]\n",
    "grid_scores_df.sort_values(by='rank_test_score').head()"
   ]
  },
  {
   "cell_type": "code",
   "execution_count": 89,
   "metadata": {},
   "outputs": [],
   "source": [
    "kneighbors = KNeighborsRegressor(leaf_size=5)\n",
    "kneighbors.fit(X_train, Y_train)\n",
    "kneighbors_predictions = kneighbors.predict(X_test)"
   ]
  },
  {
   "cell_type": "code",
   "execution_count": 90,
   "metadata": {},
   "outputs": [
    {
     "name": "stdout",
     "output_type": "stream",
     "text": [
      "MAE 6.538309090909077\n",
      "MSE 1371.8357366797427\n",
      "R^2 0.9996\n"
     ]
    }
   ],
   "source": [
    "print('MAE', mean_absolute_error(y_test, kneighbors_predictions))\n",
    "print('MSE', mean_squared_error(y_test, kneighbors_predictions))\n",
    "print('R^2', round(r2_score(y_test, kneighbors_predictions), ndigits=5))"
   ]
  },
  {
   "cell_type": "markdown",
   "metadata": {},
   "source": [
    "#### Dummy Regressor"
   ]
  },
  {
   "cell_type": "code",
   "execution_count": 93,
   "metadata": {},
   "outputs": [],
   "source": [
    "dummy_regressor = DummyRegressor(strategy='median')\n",
    "dummy_regressor.fit(X_train, Y_train)\n",
    "dummy_regressor_predictions = dummy_regressor.predict(X_test)"
   ]
  },
  {
   "cell_type": "code",
   "execution_count": 94,
   "metadata": {},
   "outputs": [
    {
     "name": "stdout",
     "output_type": "stream",
     "text": [
      "877.5289576802508\n",
      "3631748.6531030773\n",
      "-0.06576\n"
     ]
    }
   ],
   "source": [
    "print(mean_absolute_error(y_test, dummy_regressor_predictions)) \n",
    "print(mean_squared_error(y_test, dummy_regressor_predictions))\n",
    "print(round(r2_score(y_test, dummy_regressor_predictions), ndigits=5))"
   ]
  },
  {
   "cell_type": "code",
   "execution_count": null,
   "metadata": {},
   "outputs": [],
   "source": []
  },
  {
   "cell_type": "code",
   "execution_count": null,
   "metadata": {},
   "outputs": [],
   "source": []
  },
  {
   "cell_type": "code",
   "execution_count": null,
   "metadata": {},
   "outputs": [],
   "source": []
  }
 ],
 "metadata": {
  "kernelspec": {
   "display_name": "Python 3",
   "language": "python",
   "name": "python3"
  },
  "language_info": {
   "codemirror_mode": {
    "name": "ipython",
    "version": 3
   },
   "file_extension": ".py",
   "mimetype": "text/x-python",
   "name": "python",
   "nbconvert_exporter": "python",
   "pygments_lexer": "ipython3",
   "version": "3.7.3"
  }
 },
 "nbformat": 4,
 "nbformat_minor": 2
}
