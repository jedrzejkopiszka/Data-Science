{
 "cells": [
  {
   "cell_type": "markdown",
   "metadata": {
    "cell_style": "split"
   },
   "source": [
    "<img src='ted_logo.png' style=\"width:300px\">"
   ]
  },
  {
   "cell_type": "markdown",
   "metadata": {
    "cell_style": "split"
   },
   "source": [
    "## Predicting views of TED Talk"
   ]
  },
  {
   "cell_type": "markdown",
   "metadata": {
    "cell_style": "split"
   },
   "source": [
    "Dataset on CC license aquired from Kaggle: https://www.kaggle.com/rounakbanik/ted-talks"
   ]
  },
  {
   "cell_type": "code",
   "execution_count": 816,
   "metadata": {},
   "outputs": [],
   "source": [
    "from datetime import datetime, date\n",
    "import math\n",
    "import numpy as np\n",
    "import pandas as pd \n",
    "import matplotlib.pyplot as plt\n",
    "import seaborn as sns\n",
    "from sklearn.preprocessing import MinMaxScaler, LabelEncoder\n",
    "from sklearn.feature_selection import RFE, RFECV, SelectKBest, f_regression\n",
    "from sklearn.model_selection import train_test_split, GridSearchCV, cross_val_score\n",
    "from sklearn.metrics import mean_absolute_error, mean_squared_error, r2_score\n",
    "from sklearn.dummy import DummyRegressor\n",
    "from sklearn.ensemble import RandomForestRegressor, ExtraTreesRegressor\n",
    "from sklearn.neighbors import KNeighborsRegressor"
   ]
  },
  {
   "cell_type": "markdown",
   "metadata": {},
   "source": [
    "## 1. Dataset reading, simple transformation"
   ]
  },
  {
   "cell_type": "code",
   "execution_count": 653,
   "metadata": {},
   "outputs": [
    {
     "data": {
      "text/html": [
       "<div>\n",
       "<style scoped>\n",
       "    .dataframe tbody tr th:only-of-type {\n",
       "        vertical-align: middle;\n",
       "    }\n",
       "\n",
       "    .dataframe tbody tr th {\n",
       "        vertical-align: top;\n",
       "    }\n",
       "\n",
       "    .dataframe thead th {\n",
       "        text-align: right;\n",
       "    }\n",
       "</style>\n",
       "<table border=\"1\" class=\"dataframe\">\n",
       "  <thead>\n",
       "    <tr style=\"text-align: right;\">\n",
       "      <th></th>\n",
       "      <th>comments</th>\n",
       "      <th>description</th>\n",
       "      <th>duration</th>\n",
       "      <th>event</th>\n",
       "      <th>film_date</th>\n",
       "      <th>languages</th>\n",
       "      <th>main_speaker</th>\n",
       "      <th>name</th>\n",
       "      <th>num_speaker</th>\n",
       "      <th>published_date</th>\n",
       "      <th>ratings</th>\n",
       "      <th>related_talks</th>\n",
       "      <th>speaker_occupation</th>\n",
       "      <th>tags</th>\n",
       "      <th>title</th>\n",
       "      <th>url</th>\n",
       "      <th>views</th>\n",
       "    </tr>\n",
       "  </thead>\n",
       "  <tbody>\n",
       "    <tr>\n",
       "      <th>0</th>\n",
       "      <td>4553</td>\n",
       "      <td>Sir Ken Robinson makes an entertaining and pro...</td>\n",
       "      <td>1164</td>\n",
       "      <td>TED2006</td>\n",
       "      <td>1140825600</td>\n",
       "      <td>60</td>\n",
       "      <td>Ken Robinson</td>\n",
       "      <td>Ken Robinson: Do schools kill creativity?</td>\n",
       "      <td>1</td>\n",
       "      <td>1151367060</td>\n",
       "      <td>[{'id': 7, 'name': 'Funny', 'count': 19645}, {...</td>\n",
       "      <td>[{'id': 865, 'hero': 'https://pe.tedcdn.com/im...</td>\n",
       "      <td>Author/educator</td>\n",
       "      <td>['children', 'creativity', 'culture', 'dance',...</td>\n",
       "      <td>Do schools kill creativity?</td>\n",
       "      <td>https://www.ted.com/talks/ken_robinson_says_sc...</td>\n",
       "      <td>47227110</td>\n",
       "    </tr>\n",
       "    <tr>\n",
       "      <th>1</th>\n",
       "      <td>265</td>\n",
       "      <td>With the same humor and humanity he exuded in ...</td>\n",
       "      <td>977</td>\n",
       "      <td>TED2006</td>\n",
       "      <td>1140825600</td>\n",
       "      <td>43</td>\n",
       "      <td>Al Gore</td>\n",
       "      <td>Al Gore: Averting the climate crisis</td>\n",
       "      <td>1</td>\n",
       "      <td>1151367060</td>\n",
       "      <td>[{'id': 7, 'name': 'Funny', 'count': 544}, {'i...</td>\n",
       "      <td>[{'id': 243, 'hero': 'https://pe.tedcdn.com/im...</td>\n",
       "      <td>Climate advocate</td>\n",
       "      <td>['alternative energy', 'cars', 'climate change...</td>\n",
       "      <td>Averting the climate crisis</td>\n",
       "      <td>https://www.ted.com/talks/al_gore_on_averting_...</td>\n",
       "      <td>3200520</td>\n",
       "    </tr>\n",
       "    <tr>\n",
       "      <th>2</th>\n",
       "      <td>124</td>\n",
       "      <td>New York Times columnist David Pogue takes aim...</td>\n",
       "      <td>1286</td>\n",
       "      <td>TED2006</td>\n",
       "      <td>1140739200</td>\n",
       "      <td>26</td>\n",
       "      <td>David Pogue</td>\n",
       "      <td>David Pogue: Simplicity sells</td>\n",
       "      <td>1</td>\n",
       "      <td>1151367060</td>\n",
       "      <td>[{'id': 7, 'name': 'Funny', 'count': 964}, {'i...</td>\n",
       "      <td>[{'id': 1725, 'hero': 'https://pe.tedcdn.com/i...</td>\n",
       "      <td>Technology columnist</td>\n",
       "      <td>['computers', 'entertainment', 'interface desi...</td>\n",
       "      <td>Simplicity sells</td>\n",
       "      <td>https://www.ted.com/talks/david_pogue_says_sim...</td>\n",
       "      <td>1636292</td>\n",
       "    </tr>\n",
       "  </tbody>\n",
       "</table>\n",
       "</div>"
      ],
      "text/plain": [
       "   comments                                        description  duration  \\\n",
       "0      4553  Sir Ken Robinson makes an entertaining and pro...      1164   \n",
       "1       265  With the same humor and humanity he exuded in ...       977   \n",
       "2       124  New York Times columnist David Pogue takes aim...      1286   \n",
       "\n",
       "     event   film_date  languages  main_speaker  \\\n",
       "0  TED2006  1140825600         60  Ken Robinson   \n",
       "1  TED2006  1140825600         43       Al Gore   \n",
       "2  TED2006  1140739200         26   David Pogue   \n",
       "\n",
       "                                        name  num_speaker  published_date  \\\n",
       "0  Ken Robinson: Do schools kill creativity?            1      1151367060   \n",
       "1       Al Gore: Averting the climate crisis            1      1151367060   \n",
       "2              David Pogue: Simplicity sells            1      1151367060   \n",
       "\n",
       "                                             ratings  \\\n",
       "0  [{'id': 7, 'name': 'Funny', 'count': 19645}, {...   \n",
       "1  [{'id': 7, 'name': 'Funny', 'count': 544}, {'i...   \n",
       "2  [{'id': 7, 'name': 'Funny', 'count': 964}, {'i...   \n",
       "\n",
       "                                       related_talks    speaker_occupation  \\\n",
       "0  [{'id': 865, 'hero': 'https://pe.tedcdn.com/im...       Author/educator   \n",
       "1  [{'id': 243, 'hero': 'https://pe.tedcdn.com/im...      Climate advocate   \n",
       "2  [{'id': 1725, 'hero': 'https://pe.tedcdn.com/i...  Technology columnist   \n",
       "\n",
       "                                                tags  \\\n",
       "0  ['children', 'creativity', 'culture', 'dance',...   \n",
       "1  ['alternative energy', 'cars', 'climate change...   \n",
       "2  ['computers', 'entertainment', 'interface desi...   \n",
       "\n",
       "                         title  \\\n",
       "0  Do schools kill creativity?   \n",
       "1  Averting the climate crisis   \n",
       "2             Simplicity sells   \n",
       "\n",
       "                                                 url     views  \n",
       "0  https://www.ted.com/talks/ken_robinson_says_sc...  47227110  \n",
       "1  https://www.ted.com/talks/al_gore_on_averting_...   3200520  \n",
       "2  https://www.ted.com/talks/david_pogue_says_sim...   1636292  "
      ]
     },
     "execution_count": 653,
     "metadata": {},
     "output_type": "execute_result"
    }
   ],
   "source": [
    "ted_path = r'C:\\Users\\Jędrzej\\OneDrive\\Pulpit\\Zbiorczy\\data analysis Udacity\\TedTalksProject\\ted_main.csv'\n",
    "ted = pd.read_csv(ted_path)\n",
    "ted.head(3)"
   ]
  },
  {
   "cell_type": "code",
   "execution_count": 654,
   "metadata": {
    "cell_style": "split"
   },
   "outputs": [
    {
     "name": "stdout",
     "output_type": "stream",
     "text": [
      "<class 'pandas.core.frame.DataFrame'>\n",
      "RangeIndex: 2550 entries, 0 to 2549\n",
      "Data columns (total 17 columns):\n",
      "comments              2550 non-null int64\n",
      "description           2550 non-null object\n",
      "duration              2550 non-null int64\n",
      "event                 2550 non-null object\n",
      "film_date             2550 non-null int64\n",
      "languages             2550 non-null int64\n",
      "main_speaker          2550 non-null object\n",
      "name                  2550 non-null object\n",
      "num_speaker           2550 non-null int64\n",
      "published_date        2550 non-null int64\n",
      "ratings               2550 non-null object\n",
      "related_talks         2550 non-null object\n",
      "speaker_occupation    2544 non-null object\n",
      "tags                  2550 non-null object\n",
      "title                 2550 non-null object\n",
      "url                   2550 non-null object\n",
      "views                 2550 non-null int64\n",
      "dtypes: int64(7), object(10)\n",
      "memory usage: 338.8+ KB\n"
     ]
    }
   ],
   "source": [
    "ted.info()"
   ]
  },
  {
   "cell_type": "code",
   "execution_count": 655,
   "metadata": {
    "cell_style": "split"
   },
   "outputs": [
    {
     "data": {
      "text/plain": [
       "Index(['comments', 'description', 'duration', 'event', 'film_date',\n",
       "       'languages', 'main_speaker', 'name', 'num_speaker', 'published_date',\n",
       "       'ratings', 'related_talks', 'speaker_occupation', 'tags', 'title',\n",
       "       'url', 'views'],\n",
       "      dtype='object')"
      ]
     },
     "execution_count": 655,
     "metadata": {},
     "output_type": "execute_result"
    }
   ],
   "source": [
    "ted.columns"
   ]
  },
  {
   "cell_type": "markdown",
   "metadata": {},
   "source": [
    "### Transforming date columns"
   ]
  },
  {
   "cell_type": "code",
   "execution_count": 656,
   "metadata": {
    "cell_style": "center"
   },
   "outputs": [],
   "source": [
    "def date_to_weekday(column): #from date take weekday\n",
    "    new_column=[]\n",
    "    for row in column:\n",
    "        weekday = row.split('-')\n",
    "        weekday = date(int(weekday[0]), int(weekday[1]), int(weekday[2])).isoweekday()\n",
    "        new_column.append(weekday)\n",
    "    return pd.Series(new_column)"
   ]
  },
  {
   "cell_type": "markdown",
   "metadata": {},
   "source": [
    "#### Film_date transformation from UNIX to human-readable format"
   ]
  },
  {
   "cell_type": "code",
   "execution_count": 657,
   "metadata": {},
   "outputs": [],
   "source": [
    "ted['film_year'] = ted.film_date.apply(lambda x: int(datetime.utcfromtimestamp(x).strftime('%Y')))\n",
    "ted['film_month'] = ted.film_date.apply(lambda x: int(datetime.utcfromtimestamp(x).strftime('%m')))\n",
    "ted['film_day'] = ted.film_date.apply(lambda x: int(datetime.utcfromtimestamp(x).strftime('%d')))\n",
    "ted['film_weekday'] = date_to_weekday(ted.film_date.apply(lambda x: datetime.utcfromtimestamp(x).strftime('%Y-%m-%d')))"
   ]
  },
  {
   "cell_type": "code",
   "execution_count": 658,
   "metadata": {
    "cell_style": "center",
    "scrolled": true
   },
   "outputs": [
    {
     "data": {
      "text/plain": [
       "2017-04-24, 00:00:00    64\n",
       "2007-03-03, 00:00:00    54\n",
       "2009-02-06, 00:00:00    31\n",
       "2009-02-05, 00:00:00    30\n",
       "2011-03-02, 00:00:00    30\n",
       "Name: film_date, dtype: int64"
      ]
     },
     "execution_count": 658,
     "metadata": {},
     "output_type": "execute_result"
    }
   ],
   "source": [
    "ted.film_date = ted.film_date.apply(lambda x: datetime.utcfromtimestamp(x).strftime('%Y-%m-%d, %H:%M:%S'))\n",
    "ted.film_date.value_counts().head()"
   ]
  },
  {
   "cell_type": "markdown",
   "metadata": {},
   "source": [
    "#### Published_date transformation from UNIX to human-readable format"
   ]
  },
  {
   "cell_type": "code",
   "execution_count": 659,
   "metadata": {
    "scrolled": true
   },
   "outputs": [],
   "source": [
    "ted['published_year'] = ted.published_date.apply(lambda x: int(datetime.utcfromtimestamp(x).strftime('%Y')))\n",
    "ted['published_month'] = ted.published_date.apply(lambda x: int(datetime.utcfromtimestamp(x).strftime('%m')))\n",
    "ted['published_day'] = ted.published_date.apply(lambda x: int(datetime.utcfromtimestamp(x).strftime('%d')))\n",
    "ted['published_weekday'] = date_to_weekday(ted.published_date.apply(lambda x: datetime.utcfromtimestamp(x).strftime('%Y-%m-%d')))"
   ]
  },
  {
   "cell_type": "code",
   "execution_count": 660,
   "metadata": {
    "cell_style": "center",
    "scrolled": true
   },
   "outputs": [
    {
     "data": {
      "text/plain": [
       "2007-04-05,00:11:00    20\n",
       "2006-06-27,00:11:00     4\n",
       "2006-07-25,00:11:00     3\n",
       "2006-12-14,00:11:00     3\n",
       "2006-10-31,00:11:00     3\n",
       "Name: published_date, dtype: int64"
      ]
     },
     "execution_count": 660,
     "metadata": {},
     "output_type": "execute_result"
    }
   ],
   "source": [
    "ted.published_date = ted.published_date.apply(lambda x: datetime.utcfromtimestamp(x).strftime('%Y-%m-%d,%H:%M:%S'))\n",
    "ted.published_date.value_counts().head() #not every time is 00:00:00, we will not drop that"
   ]
  },
  {
   "cell_type": "code",
   "execution_count": 661,
   "metadata": {},
   "outputs": [],
   "source": [
    "ted['published_hour'] = ted.published_date.apply(lambda x: int(x.split(',')[1][:2]))"
   ]
  },
  {
   "cell_type": "code",
   "execution_count": 662,
   "metadata": {},
   "outputs": [],
   "source": [
    "ted = ted.drop(columns=['published_date', 'film_date']) #drop transformed columns"
   ]
  },
  {
   "cell_type": "markdown",
   "metadata": {},
   "source": [
    "#### Transform duration from seconds to minutes"
   ]
  },
  {
   "cell_type": "code",
   "execution_count": 663,
   "metadata": {},
   "outputs": [],
   "source": [
    "ted.duration = ted.duration.apply(lambda x: int(x/60))"
   ]
  },
  {
   "cell_type": "markdown",
   "metadata": {},
   "source": [
    "#### Views will be displayed in thousands "
   ]
  },
  {
   "cell_type": "code",
   "execution_count": 664,
   "metadata": {},
   "outputs": [],
   "source": [
    "ted.views = ted.views.apply(lambda x: x/1000)"
   ]
  },
  {
   "cell_type": "code",
   "execution_count": 665,
   "metadata": {},
   "outputs": [
    {
     "data": {
      "text/plain": [
       "Index(['comments', 'description', 'duration', 'event', 'languages',\n",
       "       'main_speaker', 'name', 'num_speaker', 'ratings', 'related_talks',\n",
       "       'speaker_occupation', 'tags', 'title', 'url', 'views', 'film_year',\n",
       "       'film_month', 'film_day', 'film_weekday', 'published_year',\n",
       "       'published_month', 'published_day', 'published_weekday',\n",
       "       'published_hour'],\n",
       "      dtype='object')"
      ]
     },
     "execution_count": 665,
     "metadata": {},
     "output_type": "execute_result"
    }
   ],
   "source": [
    "ted.columns"
   ]
  },
  {
   "cell_type": "code",
   "execution_count": 666,
   "metadata": {},
   "outputs": [],
   "source": [
    "ted = ted[['main_speaker', 'num_speaker','speaker_occupation', 'title', 'name', 'description', 'event', 'duration', 'tags','languages','comments','related_talks', 'ratings', 'url', 'film_year','film_month','film_day','film_weekday', 'published_year','published_month','published_day','published_hour','published_weekday', 'views']]\n",
    "# setting different order of columns"
   ]
  },
  {
   "cell_type": "code",
   "execution_count": 667,
   "metadata": {},
   "outputs": [
    {
     "data": {
      "text/html": [
       "<div>\n",
       "<style scoped>\n",
       "    .dataframe tbody tr th:only-of-type {\n",
       "        vertical-align: middle;\n",
       "    }\n",
       "\n",
       "    .dataframe tbody tr th {\n",
       "        vertical-align: top;\n",
       "    }\n",
       "\n",
       "    .dataframe thead th {\n",
       "        text-align: right;\n",
       "    }\n",
       "</style>\n",
       "<table border=\"1\" class=\"dataframe\">\n",
       "  <thead>\n",
       "    <tr style=\"text-align: right;\">\n",
       "      <th></th>\n",
       "      <th>num_speaker</th>\n",
       "      <th>duration</th>\n",
       "      <th>languages</th>\n",
       "      <th>comments</th>\n",
       "      <th>film_year</th>\n",
       "      <th>film_month</th>\n",
       "      <th>film_day</th>\n",
       "      <th>film_weekday</th>\n",
       "      <th>published_year</th>\n",
       "      <th>published_month</th>\n",
       "      <th>published_day</th>\n",
       "      <th>published_hour</th>\n",
       "      <th>published_weekday</th>\n",
       "      <th>views</th>\n",
       "    </tr>\n",
       "  </thead>\n",
       "  <tbody>\n",
       "    <tr>\n",
       "      <th>count</th>\n",
       "      <td>2550.000000</td>\n",
       "      <td>2550.000000</td>\n",
       "      <td>2550.000000</td>\n",
       "      <td>2550.000000</td>\n",
       "      <td>2550.000000</td>\n",
       "      <td>2550.000000</td>\n",
       "      <td>2550.000000</td>\n",
       "      <td>2550.000000</td>\n",
       "      <td>2550.000000</td>\n",
       "      <td>2550.000000</td>\n",
       "      <td>2550.000000</td>\n",
       "      <td>2550.000000</td>\n",
       "      <td>2550.000000</td>\n",
       "      <td>2550.000000</td>\n",
       "    </tr>\n",
       "    <tr>\n",
       "      <th>mean</th>\n",
       "      <td>1.028235</td>\n",
       "      <td>13.277255</td>\n",
       "      <td>27.326275</td>\n",
       "      <td>191.562353</td>\n",
       "      <td>2011.466275</td>\n",
       "      <td>5.660784</td>\n",
       "      <td>14.425882</td>\n",
       "      <td>3.718431</td>\n",
       "      <td>2012.093333</td>\n",
       "      <td>6.301569</td>\n",
       "      <td>15.421961</td>\n",
       "      <td>11.929412</td>\n",
       "      <td>3.152941</td>\n",
       "      <td>1698.297482</td>\n",
       "    </tr>\n",
       "    <tr>\n",
       "      <th>std</th>\n",
       "      <td>0.207705</td>\n",
       "      <td>6.230784</td>\n",
       "      <td>9.563452</td>\n",
       "      <td>282.315223</td>\n",
       "      <td>3.727823</td>\n",
       "      <td>3.397757</td>\n",
       "      <td>8.933113</td>\n",
       "      <td>1.670579</td>\n",
       "      <td>3.011667</td>\n",
       "      <td>3.367925</td>\n",
       "      <td>8.644089</td>\n",
       "      <td>5.541643</td>\n",
       "      <td>1.542691</td>\n",
       "      <td>2498.479372</td>\n",
       "    </tr>\n",
       "    <tr>\n",
       "      <th>min</th>\n",
       "      <td>1.000000</td>\n",
       "      <td>2.000000</td>\n",
       "      <td>0.000000</td>\n",
       "      <td>2.000000</td>\n",
       "      <td>1972.000000</td>\n",
       "      <td>1.000000</td>\n",
       "      <td>1.000000</td>\n",
       "      <td>1.000000</td>\n",
       "      <td>2006.000000</td>\n",
       "      <td>1.000000</td>\n",
       "      <td>1.000000</td>\n",
       "      <td>0.000000</td>\n",
       "      <td>1.000000</td>\n",
       "      <td>50.443000</td>\n",
       "    </tr>\n",
       "    <tr>\n",
       "      <th>25%</th>\n",
       "      <td>1.000000</td>\n",
       "      <td>9.000000</td>\n",
       "      <td>23.000000</td>\n",
       "      <td>63.000000</td>\n",
       "      <td>2009.000000</td>\n",
       "      <td>3.000000</td>\n",
       "      <td>6.000000</td>\n",
       "      <td>3.000000</td>\n",
       "      <td>2010.000000</td>\n",
       "      <td>3.000000</td>\n",
       "      <td>8.000000</td>\n",
       "      <td>9.000000</td>\n",
       "      <td>2.000000</td>\n",
       "      <td>755.792750</td>\n",
       "    </tr>\n",
       "    <tr>\n",
       "      <th>50%</th>\n",
       "      <td>1.000000</td>\n",
       "      <td>14.000000</td>\n",
       "      <td>28.000000</td>\n",
       "      <td>118.000000</td>\n",
       "      <td>2012.000000</td>\n",
       "      <td>5.000000</td>\n",
       "      <td>14.000000</td>\n",
       "      <td>4.000000</td>\n",
       "      <td>2012.000000</td>\n",
       "      <td>6.000000</td>\n",
       "      <td>15.000000</td>\n",
       "      <td>15.000000</td>\n",
       "      <td>3.000000</td>\n",
       "      <td>1124.523500</td>\n",
       "    </tr>\n",
       "    <tr>\n",
       "      <th>75%</th>\n",
       "      <td>1.000000</td>\n",
       "      <td>17.000000</td>\n",
       "      <td>33.000000</td>\n",
       "      <td>221.750000</td>\n",
       "      <td>2014.000000</td>\n",
       "      <td>9.000000</td>\n",
       "      <td>23.000000</td>\n",
       "      <td>5.000000</td>\n",
       "      <td>2015.000000</td>\n",
       "      <td>9.000000</td>\n",
       "      <td>23.000000</td>\n",
       "      <td>15.000000</td>\n",
       "      <td>4.000000</td>\n",
       "      <td>1700.759500</td>\n",
       "    </tr>\n",
       "    <tr>\n",
       "      <th>max</th>\n",
       "      <td>5.000000</td>\n",
       "      <td>87.000000</td>\n",
       "      <td>72.000000</td>\n",
       "      <td>6404.000000</td>\n",
       "      <td>2017.000000</td>\n",
       "      <td>12.000000</td>\n",
       "      <td>31.000000</td>\n",
       "      <td>7.000000</td>\n",
       "      <td>2017.000000</td>\n",
       "      <td>12.000000</td>\n",
       "      <td>31.000000</td>\n",
       "      <td>23.000000</td>\n",
       "      <td>7.000000</td>\n",
       "      <td>47227.110000</td>\n",
       "    </tr>\n",
       "  </tbody>\n",
       "</table>\n",
       "</div>"
      ],
      "text/plain": [
       "       num_speaker     duration    languages     comments    film_year  \\\n",
       "count  2550.000000  2550.000000  2550.000000  2550.000000  2550.000000   \n",
       "mean      1.028235    13.277255    27.326275   191.562353  2011.466275   \n",
       "std       0.207705     6.230784     9.563452   282.315223     3.727823   \n",
       "min       1.000000     2.000000     0.000000     2.000000  1972.000000   \n",
       "25%       1.000000     9.000000    23.000000    63.000000  2009.000000   \n",
       "50%       1.000000    14.000000    28.000000   118.000000  2012.000000   \n",
       "75%       1.000000    17.000000    33.000000   221.750000  2014.000000   \n",
       "max       5.000000    87.000000    72.000000  6404.000000  2017.000000   \n",
       "\n",
       "        film_month     film_day  film_weekday  published_year  \\\n",
       "count  2550.000000  2550.000000   2550.000000     2550.000000   \n",
       "mean      5.660784    14.425882      3.718431     2012.093333   \n",
       "std       3.397757     8.933113      1.670579        3.011667   \n",
       "min       1.000000     1.000000      1.000000     2006.000000   \n",
       "25%       3.000000     6.000000      3.000000     2010.000000   \n",
       "50%       5.000000    14.000000      4.000000     2012.000000   \n",
       "75%       9.000000    23.000000      5.000000     2015.000000   \n",
       "max      12.000000    31.000000      7.000000     2017.000000   \n",
       "\n",
       "       published_month  published_day  published_hour  published_weekday  \\\n",
       "count      2550.000000    2550.000000     2550.000000        2550.000000   \n",
       "mean          6.301569      15.421961       11.929412           3.152941   \n",
       "std           3.367925       8.644089        5.541643           1.542691   \n",
       "min           1.000000       1.000000        0.000000           1.000000   \n",
       "25%           3.000000       8.000000        9.000000           2.000000   \n",
       "50%           6.000000      15.000000       15.000000           3.000000   \n",
       "75%           9.000000      23.000000       15.000000           4.000000   \n",
       "max          12.000000      31.000000       23.000000           7.000000   \n",
       "\n",
       "              views  \n",
       "count   2550.000000  \n",
       "mean    1698.297482  \n",
       "std     2498.479372  \n",
       "min       50.443000  \n",
       "25%      755.792750  \n",
       "50%     1124.523500  \n",
       "75%     1700.759500  \n",
       "max    47227.110000  "
      ]
     },
     "execution_count": 667,
     "metadata": {},
     "output_type": "execute_result"
    }
   ],
   "source": [
    "ted.describe() #describing numerical columns"
   ]
  },
  {
   "cell_type": "markdown",
   "metadata": {},
   "source": [
    "## 2. Plotting correlation between selected numeric features"
   ]
  },
  {
   "cell_type": "code",
   "execution_count": 668,
   "metadata": {},
   "outputs": [
    {
     "name": "stdout",
     "output_type": "stream",
     "text": [
      "(2550, 14)\n"
     ]
    },
    {
     "data": {
      "text/html": [
       "<div>\n",
       "<style scoped>\n",
       "    .dataframe tbody tr th:only-of-type {\n",
       "        vertical-align: middle;\n",
       "    }\n",
       "\n",
       "    .dataframe tbody tr th {\n",
       "        vertical-align: top;\n",
       "    }\n",
       "\n",
       "    .dataframe thead th {\n",
       "        text-align: right;\n",
       "    }\n",
       "</style>\n",
       "<table border=\"1\" class=\"dataframe\">\n",
       "  <thead>\n",
       "    <tr style=\"text-align: right;\">\n",
       "      <th></th>\n",
       "      <th>num_speaker</th>\n",
       "      <th>duration</th>\n",
       "      <th>languages</th>\n",
       "      <th>comments</th>\n",
       "      <th>film_year</th>\n",
       "      <th>film_month</th>\n",
       "      <th>film_day</th>\n",
       "      <th>film_weekday</th>\n",
       "      <th>published_year</th>\n",
       "      <th>published_month</th>\n",
       "      <th>published_day</th>\n",
       "      <th>published_hour</th>\n",
       "      <th>published_weekday</th>\n",
       "      <th>views</th>\n",
       "    </tr>\n",
       "  </thead>\n",
       "  <tbody>\n",
       "    <tr>\n",
       "      <th>0</th>\n",
       "      <td>1</td>\n",
       "      <td>19</td>\n",
       "      <td>60</td>\n",
       "      <td>4553</td>\n",
       "      <td>2006</td>\n",
       "      <td>2</td>\n",
       "      <td>25</td>\n",
       "      <td>6</td>\n",
       "      <td>2006</td>\n",
       "      <td>6</td>\n",
       "      <td>27</td>\n",
       "      <td>0</td>\n",
       "      <td>2</td>\n",
       "      <td>47227.110</td>\n",
       "    </tr>\n",
       "    <tr>\n",
       "      <th>1</th>\n",
       "      <td>1</td>\n",
       "      <td>16</td>\n",
       "      <td>43</td>\n",
       "      <td>265</td>\n",
       "      <td>2006</td>\n",
       "      <td>2</td>\n",
       "      <td>25</td>\n",
       "      <td>6</td>\n",
       "      <td>2006</td>\n",
       "      <td>6</td>\n",
       "      <td>27</td>\n",
       "      <td>0</td>\n",
       "      <td>2</td>\n",
       "      <td>3200.520</td>\n",
       "    </tr>\n",
       "    <tr>\n",
       "      <th>2</th>\n",
       "      <td>1</td>\n",
       "      <td>21</td>\n",
       "      <td>26</td>\n",
       "      <td>124</td>\n",
       "      <td>2006</td>\n",
       "      <td>2</td>\n",
       "      <td>24</td>\n",
       "      <td>5</td>\n",
       "      <td>2006</td>\n",
       "      <td>6</td>\n",
       "      <td>27</td>\n",
       "      <td>0</td>\n",
       "      <td>2</td>\n",
       "      <td>1636.292</td>\n",
       "    </tr>\n",
       "    <tr>\n",
       "      <th>3</th>\n",
       "      <td>1</td>\n",
       "      <td>18</td>\n",
       "      <td>35</td>\n",
       "      <td>200</td>\n",
       "      <td>2006</td>\n",
       "      <td>2</td>\n",
       "      <td>26</td>\n",
       "      <td>7</td>\n",
       "      <td>2006</td>\n",
       "      <td>6</td>\n",
       "      <td>27</td>\n",
       "      <td>0</td>\n",
       "      <td>2</td>\n",
       "      <td>1697.550</td>\n",
       "    </tr>\n",
       "    <tr>\n",
       "      <th>4</th>\n",
       "      <td>1</td>\n",
       "      <td>19</td>\n",
       "      <td>48</td>\n",
       "      <td>593</td>\n",
       "      <td>2006</td>\n",
       "      <td>2</td>\n",
       "      <td>22</td>\n",
       "      <td>3</td>\n",
       "      <td>2006</td>\n",
       "      <td>6</td>\n",
       "      <td>27</td>\n",
       "      <td>20</td>\n",
       "      <td>2</td>\n",
       "      <td>12005.869</td>\n",
       "    </tr>\n",
       "  </tbody>\n",
       "</table>\n",
       "</div>"
      ],
      "text/plain": [
       "   num_speaker  duration  languages  comments  film_year  film_month  \\\n",
       "0            1        19         60      4553       2006           2   \n",
       "1            1        16         43       265       2006           2   \n",
       "2            1        21         26       124       2006           2   \n",
       "3            1        18         35       200       2006           2   \n",
       "4            1        19         48       593       2006           2   \n",
       "\n",
       "   film_day  film_weekday  published_year  published_month  published_day  \\\n",
       "0        25             6            2006                6             27   \n",
       "1        25             6            2006                6             27   \n",
       "2        24             5            2006                6             27   \n",
       "3        26             7            2006                6             27   \n",
       "4        22             3            2006                6             27   \n",
       "\n",
       "   published_hour  published_weekday      views  \n",
       "0               0                  2  47227.110  \n",
       "1               0                  2   3200.520  \n",
       "2               0                  2   1636.292  \n",
       "3               0                  2   1697.550  \n",
       "4              20                  2  12005.869  "
      ]
     },
     "execution_count": 668,
     "metadata": {},
     "output_type": "execute_result"
    }
   ],
   "source": [
    "numerics = ['int16', 'int32', 'int64', 'float16', 'float32', 'float64'] #numeric values\n",
    "ted_numerics = ted.select_dtypes(include=numerics)\n",
    "print(ted_numerics.shape) \n",
    "ted_numerics.head()"
   ]
  },
  {
   "cell_type": "markdown",
   "metadata": {},
   "source": [
    "### 2.1 Data distribution"
   ]
  },
  {
   "cell_type": "code",
   "execution_count": 669,
   "metadata": {
    "cell_style": "split",
    "scrolled": false
   },
   "outputs": [
    {
     "data": {
      "text/plain": [
       "Text(0.5, 1.0, 'Impact of comments on views')"
      ]
     },
     "execution_count": 669,
     "metadata": {},
     "output_type": "execute_result"
    },
    {
     "data": {
      "image/png": "[encoded data removed]",
      "text/plain": [
       "<Figure size 432x288 with 1 Axes>"
      ]
     },
     "metadata": {
      "needs_background": "light"
     },
     "output_type": "display_data"
    }
   ],
   "source": [
    "sns.regplot(data=ted, x='comments', y='views')\n",
    "plt.title(\"Impact of comments on views\")"
   ]
  },
  {
   "cell_type": "code",
   "execution_count": 670,
   "metadata": {
    "cell_style": "split",
    "scrolled": true
   },
   "outputs": [
    {
     "data": {
      "text/plain": [
       "Text(0, 0.5, 'views (in thousands)')"
      ]
     },
     "execution_count": 670,
     "metadata": {},
     "output_type": "execute_result"
    },
    {
     "data": {
      "image/png": "[encoded data removed]",
      "text/plain": [
       "<Figure size 432x288 with 1 Axes>"
      ]
     },
     "metadata": {
      "needs_background": "light"
     },
     "output_type": "display_data"
    }
   ],
   "source": [
    "sns.kdeplot(data=ted.duration, data2=ted.views, shade=True)\n",
    "plt.title('Duration distribution')\n",
    "plt.ylabel(\"views (in thousands)\")"
   ]
  },
  {
   "cell_type": "code",
   "execution_count": 671,
   "metadata": {
    "cell_style": "split",
    "scrolled": true
   },
   "outputs": [
    {
     "data": {
      "text/plain": [
       "Text(0, 0.5, 'views (in thousands)')"
      ]
     },
     "execution_count": 671,
     "metadata": {},
     "output_type": "execute_result"
    },
    {
     "data": {
      "image/png": "[encoded data removed]",
      "text/plain": [
       "<Figure size 432x288 with 1 Axes>"
      ]
     },
     "metadata": {
      "needs_background": "light"
     },
     "output_type": "display_data"
    }
   ],
   "source": [
    "sns.regplot(data=ted, x='duration', y='views')\n",
    "plt.title(\"Impact of duration on views\")\n",
    "plt.ylabel('views (in thousands)')"
   ]
  },
  {
   "cell_type": "code",
   "execution_count": 672,
   "metadata": {
    "cell_style": "split",
    "scrolled": true
   },
   "outputs": [
    {
     "data": {
      "text/plain": [
       "Text(0, 0.5, 'views (in thousands)')"
      ]
     },
     "execution_count": 672,
     "metadata": {},
     "output_type": "execute_result"
    },
    {
     "data": {
      "image/png": "[encoded data removed]",
      "text/plain": [
       "<Figure size 432x288 with 1 Axes>"
      ]
     },
     "metadata": {
      "needs_background": "light"
     },
     "output_type": "display_data"
    }
   ],
   "source": [
    "sns.regplot(data=ted, x='languages', y='views')\n",
    "plt.title('Number of languages, the video was translated to, and views')\n",
    "plt.ylabel('views (in thousands)')"
   ]
  },
  {
   "cell_type": "code",
   "execution_count": 673,
   "metadata": {
    "cell_style": "split",
    "scrolled": false
   },
   "outputs": [
    {
     "data": {
      "text/plain": [
       "Text(0, 0.5, 'views (in thousands)')"
      ]
     },
     "execution_count": 673,
     "metadata": {},
     "output_type": "execute_result"
    },
    {
     "data": {
      "image/png": "[encoded data removed]",
      "text/plain": [
       "<Figure size 432x288 with 1 Axes>"
      ]
     },
     "metadata": {
      "needs_background": "light"
     },
     "output_type": "display_data"
    }
   ],
   "source": [
    "sns.violinplot(data=ted, x='num_speaker', y='views')\n",
    "plt.title('Distribution of num_speakers for views')\n",
    "plt.ylabel('views (in thousands)')"
   ]
  },
  {
   "cell_type": "code",
   "execution_count": 674,
   "metadata": {
    "cell_style": "split",
    "scrolled": false
   },
   "outputs": [
    {
     "data": {
      "text/plain": [
       "Text(0.5, 1.0, 'Distribution of films for each month by production and publication day')"
      ]
     },
     "execution_count": 674,
     "metadata": {},
     "output_type": "execute_result"
    },
    {
     "data": {
      "image/png": "[encoded data removed]",
      "text/plain": [
       "<Figure size 432x288 with 1 Axes>"
      ]
     },
     "metadata": {
      "needs_background": "light"
     },
     "output_type": "display_data"
    }
   ],
   "source": [
    "sns.distplot(ted.published_day, kde=False, label='published_day')\n",
    "sns.distplot(ted.film_day, kde=False, label='film_day')\n",
    "plt.xticks(np.arange(1,32, step=5))\n",
    "plt.legend()\n",
    "plt.ylabel('value counts')\n",
    "plt.title('Distribution of films for each month by production and publication day')"
   ]
  },
  {
   "cell_type": "code",
   "execution_count": 675,
   "metadata": {
    "cell_style": "split",
    "scrolled": false
   },
   "outputs": [
    {
     "data": {
      "text/plain": [
       "<matplotlib.legend.Legend at 0x13a8a911358>"
      ]
     },
     "execution_count": 675,
     "metadata": {},
     "output_type": "execute_result"
    },
    {
     "data": {
      "image/png": "[encoded data removed]",
      "text/plain": [
       "<Figure size 432x288 with 1 Axes>"
      ]
     },
     "metadata": {
      "needs_background": "light"
     },
     "output_type": "display_data"
    }
   ],
   "source": [
    "sns.distplot(ted.published_year, label='pubished_year')\n",
    "sns.distplot(ted.film_year, label='film_year')\n",
    "plt.xlim(left=2003, right=2017)\n",
    "plt.xticks(np.arange(2003, 2018, step=2))\n",
    "plt.ylabel('value counts')\n",
    "plt.title('Distribution of films for each month by production and publication year')\n",
    "plt.legend()"
   ]
  },
  {
   "cell_type": "code",
   "execution_count": 676,
   "metadata": {
    "cell_style": "split",
    "scrolled": false
   },
   "outputs": [
    {
     "data": {
      "text/plain": [
       "Text(0.5, 1.0, 'Distribution of films for each month by production and publication month')"
      ]
     },
     "execution_count": 676,
     "metadata": {},
     "output_type": "execute_result"
    },
    {
     "data": {
      "image/png": "[encoded data removed]",
      "text/plain": [
       "<Figure size 432x288 with 1 Axes>"
      ]
     },
     "metadata": {
      "needs_background": "light"
     },
     "output_type": "display_data"
    }
   ],
   "source": [
    "sns.distplot(ted.published_month, kde=False, label='published_month')\n",
    "sns.distplot(ted.film_month, kde=False, label='film_month')\n",
    "plt.xticks(np.arange(1,13, step=1))\n",
    "plt.legend()\n",
    "plt.ylabel('value counts')\n",
    "plt.title('Distribution of films for each month by production and publication month')"
   ]
  },
  {
   "cell_type": "markdown",
   "metadata": {},
   "source": [
    "### 2.2 Data correlation"
   ]
  },
  {
   "cell_type": "code",
   "execution_count": 677,
   "metadata": {
    "cell_style": "center",
    "scrolled": false
   },
   "outputs": [
    {
     "data": {
      "text/plain": [
       "Text(0.5, 1.0, 'Data distribution over years of publication and production')"
      ]
     },
     "execution_count": 677,
     "metadata": {},
     "output_type": "execute_result"
    },
    {
     "data": {
      "image/png": "[encoded data removed]",
      "text/plain": [
       "<Figure size 432x288 with 1 Axes>"
      ]
     },
     "metadata": {
      "needs_background": "light"
     },
     "output_type": "display_data"
    }
   ],
   "source": [
    "x=np.linspace(1990, 2017, 100)\n",
    "y=x\n",
    "sns.scatterplot(data=ted, x='film_year', y='published_year')\n",
    "plt.plot(x, y, c='red')\n",
    "plt.xlim(left=1990, right=2017)\n",
    "plt.ylim(bottom=1990, top=2017)\n",
    "plt.xticks(np.arange(1990, 2018, step=4), rotation='vertical')\n",
    "plt.yticks(np.arange(1990, 2018, step=4))\n",
    "plt.title('Data distribution over years of publication and production')"
   ]
  },
  {
   "cell_type": "code",
   "execution_count": 678,
   "metadata": {
    "cell_style": "split",
    "scrolled": true
   },
   "outputs": [
    {
     "data": {
      "text/plain": [
       "Text(0.5, 1.0, 'Median of views for each month of production and publication ')"
      ]
     },
     "execution_count": 678,
     "metadata": {},
     "output_type": "execute_result"
    },
    {
     "data": {
      "image/png": "[encoded data removed]",
      "text/plain": [
       "<Figure size 432x288 with 1 Axes>"
      ]
     },
     "metadata": {
      "needs_background": "light"
     },
     "output_type": "display_data"
    }
   ],
   "source": [
    "y1=ted.groupby(by='film_month').views.median()\n",
    "y2=ted.groupby(by='published_month').views.median()\n",
    "\n",
    "by_month = pd.concat([y1,y2], axis=1)\n",
    "by_month.columns=['film_month', 'published_month']\n",
    "by_month.plot(kind='bar')\n",
    "plt.xlabel('Months')\n",
    "plt.ylabel('Views (int thousands)')\n",
    "plt.title('Median of views for each month of production and publication ')"
   ]
  },
  {
   "cell_type": "code",
   "execution_count": 679,
   "metadata": {
    "cell_style": "split",
    "scrolled": true
   },
   "outputs": [
    {
     "data": {
      "text/plain": [
       "Text(0.5, 1.0, 'Median of views for each publication day')"
      ]
     },
     "execution_count": 679,
     "metadata": {},
     "output_type": "execute_result"
    },
    {
     "data": {
      "image/png": "[encoded data removed]",
      "text/plain": [
       "<Figure size 432x288 with 1 Axes>"
      ]
     },
     "metadata": {
      "needs_background": "light"
     },
     "output_type": "display_data"
    }
   ],
   "source": [
    "sns.barplot(x=ted.published_weekday.unique(), y=ted.groupby(by='published_weekday').views.median())\n",
    "plt.xlabel('Weekday')\n",
    "plt.ylabel('Views (in thousands)')\n",
    "plt.title('Median of views for each publication day')"
   ]
  },
  {
   "cell_type": "code",
   "execution_count": 680,
   "metadata": {
    "cell_style": "center",
    "scrolled": false
   },
   "outputs": [
    {
     "data": {
      "text/plain": [
       "Text(0.5, 1.0, 'Median of views for each production day')"
      ]
     },
     "execution_count": 680,
     "metadata": {},
     "output_type": "execute_result"
    },
    {
     "data": {
      "image/png": "[encoded data removed]",
      "text/plain": [
       "<Figure size 432x288 with 1 Axes>"
      ]
     },
     "metadata": {
      "needs_background": "light"
     },
     "output_type": "display_data"
    }
   ],
   "source": [
    "sns.barplot(x=ted.film_weekday.unique(), y=ted.groupby(by='film_weekday').views.median())\n",
    "plt.xlabel('Weekday')\n",
    "plt.ylabel('Views (in thousands)')\n",
    "plt.title('Median of views for each production day')"
   ]
  },
  {
   "cell_type": "code",
   "execution_count": 681,
   "metadata": {
    "cell_style": "center",
    "scrolled": false
   },
   "outputs": [
    {
     "data": {
      "text/plain": [
       "Text(0, 0.5, 'Views (in thousands)')"
      ]
     },
     "execution_count": 681,
     "metadata": {},
     "output_type": "execute_result"
    },
    {
     "data": {
      "image/png": "[encoded data removed]",
      "text/plain": [
       "<Figure size 432x288 with 1 Axes>"
      ]
     },
     "metadata": {
      "needs_background": "light"
     },
     "output_type": "display_data"
    }
   ],
   "source": [
    "sns.barplot(x=ted.film_year.unique(), y=ted.groupby(by='film_year').views.median())\n",
    "plt.xticks(rotation='vertical')\n",
    "plt.title('Median of views for each production year')\n",
    "plt.xlabel('Year of production')\n",
    "plt.ylabel('Views (in thousands)')"
   ]
  },
  {
   "cell_type": "code",
   "execution_count": 682,
   "metadata": {
    "cell_style": "split",
    "scrolled": false
   },
   "outputs": [
    {
     "data": {
      "text/plain": [
       "Text(0, 0.5, 'Views (in thousands)')"
      ]
     },
     "execution_count": 682,
     "metadata": {},
     "output_type": "execute_result"
    },
    {
     "data": {
      "image/png": "[encoded data removed]",
      "text/plain": [
       "<Figure size 432x288 with 1 Axes>"
      ]
     },
     "metadata": {
      "needs_background": "light"
     },
     "output_type": "display_data"
    }
   ],
   "source": [
    "sns.barplot(x=ted.published_year.unique(), y=ted.groupby(by='published_year').views.median())\n",
    "plt.xticks(rotation='vertical')\n",
    "plt.title('Median of views for each publication year')\n",
    "plt.xlabel('Year of publication')\n",
    "plt.ylabel('Views (in thousands)')"
   ]
  },
  {
   "cell_type": "code",
   "execution_count": 683,
   "metadata": {
    "cell_style": "split",
    "scrolled": true
   },
   "outputs": [
    {
     "data": {
      "text/plain": [
       "<matplotlib.axes._subplots.AxesSubplot at 0x13a8a741a90>"
      ]
     },
     "execution_count": 683,
     "metadata": {},
     "output_type": "execute_result"
    },
    {
     "data": {
      "image/png": "[encoded data removed]",
      "text/plain": [
       "<Figure size 432x288 with 1 Axes>"
      ]
     },
     "metadata": {
      "needs_background": "light"
     },
     "output_type": "display_data"
    }
   ],
   "source": [
    "sns.regplot(data=ted, x='languages', y='comments')"
   ]
  },
  {
   "cell_type": "code",
   "execution_count": 684,
   "metadata": {
    "cell_style": "center",
    "scrolled": true
   },
   "outputs": [
    {
     "data": {
      "text/plain": [
       "<matplotlib.axes._subplots.AxesSubplot at 0x13a8af343c8>"
      ]
     },
     "execution_count": 684,
     "metadata": {},
     "output_type": "execute_result"
    },
    {
     "data": {
      "image/png": "[encoded data removed]",
      "text/plain": [
       "<Figure size 432x288 with 1 Axes>"
      ]
     },
     "metadata": {
      "needs_background": "light"
     },
     "output_type": "display_data"
    }
   ],
   "source": [
    "sns.regplot(data=ted, x='languages', y='duration')"
   ]
  },
  {
   "cell_type": "markdown",
   "metadata": {},
   "source": [
    "## 3. Data pre-processing"
   ]
  },
  {
   "cell_type": "code",
   "execution_count": 685,
   "metadata": {},
   "outputs": [],
   "source": [
    "ted_copy = ted.copy() #creating a copy of dataset\n",
    "label_encoder = LabelEncoder() #generating label encoder for categorical data"
   ]
  },
  {
   "cell_type": "code",
   "execution_count": 686,
   "metadata": {
    "scrolled": true
   },
   "outputs": [
    {
     "data": {
      "text/plain": [
       "Index(['main_speaker', 'num_speaker', 'speaker_occupation', 'title', 'name',\n",
       "       'description', 'event', 'duration', 'tags', 'languages', 'comments',\n",
       "       'related_talks', 'ratings', 'url', 'film_year', 'film_month',\n",
       "       'film_day', 'film_weekday', 'published_year', 'published_month',\n",
       "       'published_day', 'published_hour', 'published_weekday', 'views'],\n",
       "      dtype='object')"
      ]
     },
     "execution_count": 686,
     "metadata": {},
     "output_type": "execute_result"
    }
   ],
   "source": [
    "ted_copy.columns"
   ]
  },
  {
   "cell_type": "markdown",
   "metadata": {},
   "source": [
    "#### Comments feature"
   ]
  },
  {
   "cell_type": "code",
   "execution_count": 687,
   "metadata": {},
   "outputs": [],
   "source": [
    "#ted_copy = ted_copy.drop(columns='comments')"
   ]
  },
  {
   "cell_type": "markdown",
   "metadata": {},
   "source": [
    "We would be dropping comments if we were to predict views of newly released Ted-talk. "
   ]
  },
  {
   "cell_type": "markdown",
   "metadata": {},
   "source": [
    "#### Description feature"
   ]
  },
  {
   "cell_type": "markdown",
   "metadata": {},
   "source": [
    "It is difficult to interpret the information contained in description. We can create length of the description and show the impact of length on views"
   ]
  },
  {
   "cell_type": "code",
   "execution_count": 688,
   "metadata": {},
   "outputs": [
    {
     "data": {
      "text/plain": [
       "2545    Between 2008 and 2016, the United States depor...\n",
       "2546    How can you study Mars without a spaceship? He...\n",
       "2547    Science fiction visions of the future show us ...\n",
       "2548    In an unmissable talk about race and politics ...\n",
       "2549    With more than half of the world population li...\n",
       "Name: description, dtype: object"
      ]
     },
     "execution_count": 688,
     "metadata": {},
     "output_type": "execute_result"
    }
   ],
   "source": [
    "ted_copy.description.tail() #simple text, describing content of the video"
   ]
  },
  {
   "cell_type": "code",
   "execution_count": 689,
   "metadata": {},
   "outputs": [],
   "source": [
    "ted_copy.description = ted_copy.description.apply(lambda x: len(x)) #changing description to len(description)"
   ]
  },
  {
   "cell_type": "code",
   "execution_count": 690,
   "metadata": {},
   "outputs": [],
   "source": [
    "ted_copy[['description']] = MinMaxScaler().fit_transform(ted_copy[['description']])"
   ]
  },
  {
   "cell_type": "code",
   "execution_count": 691,
   "metadata": {},
   "outputs": [
    {
     "data": {
      "text/plain": [
       "Text(0, 0.5, 'views (in thousands)')"
      ]
     },
     "execution_count": 691,
     "metadata": {},
     "output_type": "execute_result"
    },
    {
     "data": {
      "image/png": "[encoded data removed]",
      "text/plain": [
       "<Figure size 432x288 with 1 Axes>"
      ]
     },
     "metadata": {
      "needs_background": "light"
     },
     "output_type": "display_data"
    }
   ],
   "source": [
    "sns.regplot(data=ted_copy, x='description', y='views')\n",
    "plt.title('Correlation between length of description and views')\n",
    "plt.ylabel('views (in thousands)')"
   ]
  },
  {
   "cell_type": "markdown",
   "metadata": {},
   "source": [
    "#### Duration"
   ]
  },
  {
   "cell_type": "code",
   "execution_count": 692,
   "metadata": {},
   "outputs": [],
   "source": [
    "ted_copy[['duration']] = MinMaxScaler().fit_transform(ted_copy[['duration']])"
   ]
  },
  {
   "cell_type": "markdown",
   "metadata": {},
   "source": [
    "#### Event"
   ]
  },
  {
   "cell_type": "code",
   "execution_count": 693,
   "metadata": {
    "cell_style": "split",
    "scrolled": true
   },
   "outputs": [
    {
     "data": {
      "text/plain": [
       "Elizabeth G. Anderson School    1\n",
       "TEDxVictoria                    1\n",
       "TEDxAmazonia                    1\n",
       "TEDxEQChCh                      1\n",
       "TED@Nairobi                     1\n",
       "Name: event, dtype: int64"
      ]
     },
     "execution_count": 693,
     "metadata": {},
     "output_type": "execute_result"
    }
   ],
   "source": [
    "ted_copy.event.value_counts().tail()"
   ]
  },
  {
   "cell_type": "code",
   "execution_count": 694,
   "metadata": {
    "cell_style": "split",
    "scrolled": true
   },
   "outputs": [
    {
     "data": {
      "text/plain": [
       "['TED2006', 'TED2004', 'TED2005']"
      ]
     },
     "execution_count": 694,
     "metadata": {},
     "output_type": "execute_result"
    }
   ],
   "source": [
    "list(ted_copy.event.unique())[:3]"
   ]
  },
  {
   "cell_type": "markdown",
   "metadata": {},
   "source": [
    "We will divide values to 3 categories - TED, TEDx, Others"
   ]
  },
  {
   "cell_type": "code",
   "execution_count": 695,
   "metadata": {
    "scrolled": false
   },
   "outputs": [],
   "source": [
    "def event_rename(column):\n",
    "    new_column = []\n",
    "    for index, content in enumerate(column):\n",
    "        one_name = ''.join(content.split(' '))\n",
    "        if one_name[3] in ['1','2'] and one_name.startswith('TED'):\n",
    "            new_column.append('TED')\n",
    "        elif one_name.startswith('TEDGlobal') or one_name.startswith('TEDWomen'):\n",
    "            new_column.append('TED')\n",
    "        elif one_name.startswith('TED'):\n",
    "            new_column.append('TEDx')\n",
    "        else:\n",
    "            new_column.append('Other')\n",
    "    return pd.Series(new_column)\n",
    "ted_copy['event_renamed'] = event_rename(ted_copy.event)"
   ]
  },
  {
   "cell_type": "code",
   "execution_count": 696,
   "metadata": {},
   "outputs": [
    {
     "data": {
      "text/html": [
       "<div>\n",
       "<style scoped>\n",
       "    .dataframe tbody tr th:only-of-type {\n",
       "        vertical-align: middle;\n",
       "    }\n",
       "\n",
       "    .dataframe tbody tr th {\n",
       "        vertical-align: top;\n",
       "    }\n",
       "\n",
       "    .dataframe thead th {\n",
       "        text-align: right;\n",
       "    }\n",
       "</style>\n",
       "<table border=\"1\" class=\"dataframe\">\n",
       "  <thead>\n",
       "    <tr style=\"text-align: right;\">\n",
       "      <th></th>\n",
       "      <th>event</th>\n",
       "      <th>event_renamed</th>\n",
       "    </tr>\n",
       "  </thead>\n",
       "  <tbody>\n",
       "    <tr>\n",
       "      <th>0</th>\n",
       "      <td>TED2006</td>\n",
       "      <td>TED</td>\n",
       "    </tr>\n",
       "    <tr>\n",
       "      <th>1</th>\n",
       "      <td>TED2006</td>\n",
       "      <td>TED</td>\n",
       "    </tr>\n",
       "    <tr>\n",
       "      <th>2</th>\n",
       "      <td>TED2006</td>\n",
       "      <td>TED</td>\n",
       "    </tr>\n",
       "    <tr>\n",
       "      <th>3</th>\n",
       "      <td>TED2006</td>\n",
       "      <td>TED</td>\n",
       "    </tr>\n",
       "    <tr>\n",
       "      <th>4</th>\n",
       "      <td>TED2006</td>\n",
       "      <td>TED</td>\n",
       "    </tr>\n",
       "  </tbody>\n",
       "</table>\n",
       "</div>"
      ],
      "text/plain": [
       "     event event_renamed\n",
       "0  TED2006           TED\n",
       "1  TED2006           TED\n",
       "2  TED2006           TED\n",
       "3  TED2006           TED\n",
       "4  TED2006           TED"
      ]
     },
     "execution_count": 696,
     "metadata": {},
     "output_type": "execute_result"
    }
   ],
   "source": [
    "ted_copy.loc[:,['event', 'event_renamed']].head()"
   ]
  },
  {
   "cell_type": "code",
   "execution_count": 697,
   "metadata": {},
   "outputs": [],
   "source": [
    "ted_copy = ted_copy.drop(columns='event')"
   ]
  },
  {
   "cell_type": "markdown",
   "metadata": {},
   "source": [
    "#### Comments"
   ]
  },
  {
   "cell_type": "code",
   "execution_count": 698,
   "metadata": {},
   "outputs": [],
   "source": [
    "ted_copy[['comments']] = MinMaxScaler().fit_transform(ted_copy[['comments']])"
   ]
  },
  {
   "cell_type": "markdown",
   "metadata": {},
   "source": [
    "#### Languages"
   ]
  },
  {
   "cell_type": "code",
   "execution_count": 699,
   "metadata": {},
   "outputs": [],
   "source": [
    "ted_copy[['languages']] = MinMaxScaler().fit_transform(ted_copy[['languages']])"
   ]
  },
  {
   "cell_type": "markdown",
   "metadata": {
    "cell_style": "center"
   },
   "source": [
    "#### Main_speaker"
   ]
  },
  {
   "cell_type": "code",
   "execution_count": 700,
   "metadata": {
    "scrolled": true
   },
   "outputs": [
    {
     "data": {
      "text/html": [
       "<div>\n",
       "<style scoped>\n",
       "    .dataframe tbody tr th:only-of-type {\n",
       "        vertical-align: middle;\n",
       "    }\n",
       "\n",
       "    .dataframe tbody tr th {\n",
       "        vertical-align: top;\n",
       "    }\n",
       "\n",
       "    .dataframe thead th {\n",
       "        text-align: right;\n",
       "    }\n",
       "</style>\n",
       "<table border=\"1\" class=\"dataframe\">\n",
       "  <thead>\n",
       "    <tr style=\"text-align: right;\">\n",
       "      <th></th>\n",
       "      <th>main_speaker</th>\n",
       "      <th>num_speaker</th>\n",
       "      <th>speaker_occupation</th>\n",
       "      <th>title</th>\n",
       "      <th>name</th>\n",
       "      <th>description</th>\n",
       "      <th>duration</th>\n",
       "      <th>tags</th>\n",
       "      <th>languages</th>\n",
       "      <th>comments</th>\n",
       "      <th>...</th>\n",
       "      <th>film_month</th>\n",
       "      <th>film_day</th>\n",
       "      <th>film_weekday</th>\n",
       "      <th>published_year</th>\n",
       "      <th>published_month</th>\n",
       "      <th>published_day</th>\n",
       "      <th>published_hour</th>\n",
       "      <th>published_weekday</th>\n",
       "      <th>views</th>\n",
       "      <th>event_renamed</th>\n",
       "    </tr>\n",
       "  </thead>\n",
       "  <tbody>\n",
       "    <tr>\n",
       "      <th>796</th>\n",
       "      <td>David Byrne, Ethel + Thomas Dolby</td>\n",
       "      <td>3</td>\n",
       "      <td>Electronic music pioneer</td>\n",
       "      <td>\"(Nothing But) Flowers\" with string quartet</td>\n",
       "      <td>David Byrne, Ethel + Thomas Dolby: \"(Nothing B...</td>\n",
       "      <td>0.158996</td>\n",
       "      <td>0.011765</td>\n",
       "      <td>['future', 'garden', 'music', 'performance', '...</td>\n",
       "      <td>0.472222</td>\n",
       "      <td>0.009528</td>\n",
       "      <td>...</td>\n",
       "      <td>2</td>\n",
       "      <td>12</td>\n",
       "      <td>5</td>\n",
       "      <td>2010</td>\n",
       "      <td>10</td>\n",
       "      <td>22</td>\n",
       "      <td>8</td>\n",
       "      <td>5</td>\n",
       "      <td>621.361</td>\n",
       "      <td>TED</td>\n",
       "    </tr>\n",
       "    <tr>\n",
       "      <th>1107</th>\n",
       "      <td>Lauren Hodge, Shree Bose + Naomi Shah</td>\n",
       "      <td>3</td>\n",
       "      <td>Science fair winner</td>\n",
       "      <td>Award-winning teenage science in action</td>\n",
       "      <td>Lauren Hodge, Shree Bose + Naomi Shah: Award-w...</td>\n",
       "      <td>0.210600</td>\n",
       "      <td>0.164706</td>\n",
       "      <td>['TEDx', 'cancer', 'chemistry', 'code', 'food'...</td>\n",
       "      <td>0.347222</td>\n",
       "      <td>0.026242</td>\n",
       "      <td>...</td>\n",
       "      <td>12</td>\n",
       "      <td>8</td>\n",
       "      <td>4</td>\n",
       "      <td>2012</td>\n",
       "      <td>1</td>\n",
       "      <td>10</td>\n",
       "      <td>16</td>\n",
       "      <td>2</td>\n",
       "      <td>913.084</td>\n",
       "      <td>TEDx</td>\n",
       "    </tr>\n",
       "    <tr>\n",
       "      <th>1543</th>\n",
       "      <td>Diana Reiss, Peter Gabriel, Neil Gershenfeld a...</td>\n",
       "      <td>4</td>\n",
       "      <td>Cognitive psychologist</td>\n",
       "      <td>The interspecies internet? An idea in progress</td>\n",
       "      <td>The interspecies internet? An idea in progress</td>\n",
       "      <td>0.437936</td>\n",
       "      <td>0.211765</td>\n",
       "      <td>['Internet', 'animals', 'technology']</td>\n",
       "      <td>0.277778</td>\n",
       "      <td>0.019994</td>\n",
       "      <td>...</td>\n",
       "      <td>2</td>\n",
       "      <td>28</td>\n",
       "      <td>4</td>\n",
       "      <td>2013</td>\n",
       "      <td>7</td>\n",
       "      <td>10</td>\n",
       "      <td>15</td>\n",
       "      <td>3</td>\n",
       "      <td>717.979</td>\n",
       "      <td>TED</td>\n",
       "    </tr>\n",
       "    <tr>\n",
       "      <th>1971</th>\n",
       "      <td>Bill T. Jones</td>\n",
       "      <td>3</td>\n",
       "      <td>Director/choreographer, dancer</td>\n",
       "      <td>The dancer, the singer, the cellist ... and a ...</td>\n",
       "      <td>Bill T. Jones: The dancer, the singer, the cel...</td>\n",
       "      <td>0.476987</td>\n",
       "      <td>0.047059</td>\n",
       "      <td>['TED Fellows', 'dance', 'entertainment', 'liv...</td>\n",
       "      <td>0.527778</td>\n",
       "      <td>0.015308</td>\n",
       "      <td>...</td>\n",
       "      <td>3</td>\n",
       "      <td>18</td>\n",
       "      <td>3</td>\n",
       "      <td>2015</td>\n",
       "      <td>5</td>\n",
       "      <td>6</td>\n",
       "      <td>15</td>\n",
       "      <td>3</td>\n",
       "      <td>1257.079</td>\n",
       "      <td>TED</td>\n",
       "    </tr>\n",
       "    <tr>\n",
       "      <th>2215</th>\n",
       "      <td>Adam Driver</td>\n",
       "      <td>3</td>\n",
       "      <td>Actor and Marine Corps veteran</td>\n",
       "      <td>My journey from Marine to actor</td>\n",
       "      <td>Adam Driver: My journey from Marine to actor</td>\n",
       "      <td>0.686192</td>\n",
       "      <td>0.188235</td>\n",
       "      <td>['collaboration', 'communication', 'entertainm...</td>\n",
       "      <td>0.333333</td>\n",
       "      <td>0.005311</td>\n",
       "      <td>...</td>\n",
       "      <td>11</td>\n",
       "      <td>3</td>\n",
       "      <td>2</td>\n",
       "      <td>2016</td>\n",
       "      <td>5</td>\n",
       "      <td>27</td>\n",
       "      <td>15</td>\n",
       "      <td>5</td>\n",
       "      <td>3016.666</td>\n",
       "      <td>TEDx</td>\n",
       "    </tr>\n",
       "    <tr>\n",
       "      <th>2319</th>\n",
       "      <td>Amanda Palmer, Jherek Bischoff, Usman Riaz</td>\n",
       "      <td>3</td>\n",
       "      <td>Musician, blogger</td>\n",
       "      <td>\"Space Oddity\"</td>\n",
       "      <td>Amanda Palmer, Jherek Bischoff, Usman Riaz: \"S...</td>\n",
       "      <td>0.271967</td>\n",
       "      <td>0.047059</td>\n",
       "      <td>['TED Fellows', 'guitar', 'live music', 'music...</td>\n",
       "      <td>0.388889</td>\n",
       "      <td>0.000937</td>\n",
       "      <td>...</td>\n",
       "      <td>2</td>\n",
       "      <td>19</td>\n",
       "      <td>5</td>\n",
       "      <td>2016</td>\n",
       "      <td>11</td>\n",
       "      <td>4</td>\n",
       "      <td>12</td>\n",
       "      <td>5</td>\n",
       "      <td>738.590</td>\n",
       "      <td>TED</td>\n",
       "    </tr>\n",
       "    <tr>\n",
       "      <th>2334</th>\n",
       "      <td>Alicia Garza, Patrisse Cullors and Opal Tometi</td>\n",
       "      <td>4</td>\n",
       "      <td>Writer, activist</td>\n",
       "      <td>An interview with the founders of Black Lives ...</td>\n",
       "      <td>Alicia Garza, Patrisse Cullors and Opal Tometi...</td>\n",
       "      <td>0.610879</td>\n",
       "      <td>0.164706</td>\n",
       "      <td>['Africa', 'Gender equality', 'activism', 'col...</td>\n",
       "      <td>0.180556</td>\n",
       "      <td>0.015152</td>\n",
       "      <td>...</td>\n",
       "      <td>10</td>\n",
       "      <td>27</td>\n",
       "      <td>4</td>\n",
       "      <td>2016</td>\n",
       "      <td>11</td>\n",
       "      <td>29</td>\n",
       "      <td>15</td>\n",
       "      <td>2</td>\n",
       "      <td>782.276</td>\n",
       "      <td>TED</td>\n",
       "    </tr>\n",
       "    <tr>\n",
       "      <th>2421</th>\n",
       "      <td>Gretchen Carlson, David Brooks</td>\n",
       "      <td>4</td>\n",
       "      <td>TV journalist, women's empowerment advocate</td>\n",
       "      <td>Political common ground in a polarized United ...</td>\n",
       "      <td>Gretchen Carlson, David Brooks: Political comm...</td>\n",
       "      <td>0.456067</td>\n",
       "      <td>0.529412</td>\n",
       "      <td>['United States', 'collaboration', 'communicat...</td>\n",
       "      <td>0.069444</td>\n",
       "      <td>0.006248</td>\n",
       "      <td>...</td>\n",
       "      <td>3</td>\n",
       "      <td>1</td>\n",
       "      <td>3</td>\n",
       "      <td>2017</td>\n",
       "      <td>4</td>\n",
       "      <td>3</td>\n",
       "      <td>21</td>\n",
       "      <td>1</td>\n",
       "      <td>890.478</td>\n",
       "      <td>TEDx</td>\n",
       "    </tr>\n",
       "    <tr>\n",
       "      <th>2507</th>\n",
       "      <td>Jon Boogz and Lil Buck</td>\n",
       "      <td>5</td>\n",
       "      <td>Movement artist</td>\n",
       "      <td>A dance to honor Mother Earth</td>\n",
       "      <td>Jon Boogz and Lil Buck: A dance to honor Mothe...</td>\n",
       "      <td>0.207810</td>\n",
       "      <td>0.082353</td>\n",
       "      <td>['art', 'creativity', 'dance', 'performance', ...</td>\n",
       "      <td>0.166667</td>\n",
       "      <td>0.000625</td>\n",
       "      <td>...</td>\n",
       "      <td>4</td>\n",
       "      <td>24</td>\n",
       "      <td>1</td>\n",
       "      <td>2017</td>\n",
       "      <td>8</td>\n",
       "      <td>11</td>\n",
       "      <td>10</td>\n",
       "      <td>5</td>\n",
       "      <td>182.975</td>\n",
       "      <td>TED</td>\n",
       "    </tr>\n",
       "  </tbody>\n",
       "</table>\n",
       "<p>9 rows × 24 columns</p>\n",
       "</div>"
      ],
      "text/plain": [
       "                                           main_speaker  num_speaker  \\\n",
       "796                   David Byrne, Ethel + Thomas Dolby            3   \n",
       "1107              Lauren Hodge, Shree Bose + Naomi Shah            3   \n",
       "1543  Diana Reiss, Peter Gabriel, Neil Gershenfeld a...            4   \n",
       "1971                                      Bill T. Jones            3   \n",
       "2215                                        Adam Driver            3   \n",
       "2319         Amanda Palmer, Jherek Bischoff, Usman Riaz            3   \n",
       "2334     Alicia Garza, Patrisse Cullors and Opal Tometi            4   \n",
       "2421                     Gretchen Carlson, David Brooks            4   \n",
       "2507                             Jon Boogz and Lil Buck            5   \n",
       "\n",
       "                               speaker_occupation  \\\n",
       "796                      Electronic music pioneer   \n",
       "1107                          Science fair winner   \n",
       "1543                       Cognitive psychologist   \n",
       "1971               Director/choreographer, dancer   \n",
       "2215               Actor and Marine Corps veteran   \n",
       "2319                            Musician, blogger   \n",
       "2334                             Writer, activist   \n",
       "2421  TV journalist, women's empowerment advocate   \n",
       "2507                              Movement artist   \n",
       "\n",
       "                                                  title  \\\n",
       "796         \"(Nothing But) Flowers\" with string quartet   \n",
       "1107            Award-winning teenage science in action   \n",
       "1543     The interspecies internet? An idea in progress   \n",
       "1971  The dancer, the singer, the cellist ... and a ...   \n",
       "2215                    My journey from Marine to actor   \n",
       "2319                                     \"Space Oddity\"   \n",
       "2334  An interview with the founders of Black Lives ...   \n",
       "2421  Political common ground in a polarized United ...   \n",
       "2507                      A dance to honor Mother Earth   \n",
       "\n",
       "                                                   name  description  \\\n",
       "796   David Byrne, Ethel + Thomas Dolby: \"(Nothing B...     0.158996   \n",
       "1107  Lauren Hodge, Shree Bose + Naomi Shah: Award-w...     0.210600   \n",
       "1543     The interspecies internet? An idea in progress     0.437936   \n",
       "1971  Bill T. Jones: The dancer, the singer, the cel...     0.476987   \n",
       "2215       Adam Driver: My journey from Marine to actor     0.686192   \n",
       "2319  Amanda Palmer, Jherek Bischoff, Usman Riaz: \"S...     0.271967   \n",
       "2334  Alicia Garza, Patrisse Cullors and Opal Tometi...     0.610879   \n",
       "2421  Gretchen Carlson, David Brooks: Political comm...     0.456067   \n",
       "2507  Jon Boogz and Lil Buck: A dance to honor Mothe...     0.207810   \n",
       "\n",
       "      duration                                               tags  languages  \\\n",
       "796   0.011765  ['future', 'garden', 'music', 'performance', '...   0.472222   \n",
       "1107  0.164706  ['TEDx', 'cancer', 'chemistry', 'code', 'food'...   0.347222   \n",
       "1543  0.211765              ['Internet', 'animals', 'technology']   0.277778   \n",
       "1971  0.047059  ['TED Fellows', 'dance', 'entertainment', 'liv...   0.527778   \n",
       "2215  0.188235  ['collaboration', 'communication', 'entertainm...   0.333333   \n",
       "2319  0.047059  ['TED Fellows', 'guitar', 'live music', 'music...   0.388889   \n",
       "2334  0.164706  ['Africa', 'Gender equality', 'activism', 'col...   0.180556   \n",
       "2421  0.529412  ['United States', 'collaboration', 'communicat...   0.069444   \n",
       "2507  0.082353  ['art', 'creativity', 'dance', 'performance', ...   0.166667   \n",
       "\n",
       "      comments  ... film_month film_day film_weekday  published_year  \\\n",
       "796   0.009528  ...          2       12            5            2010   \n",
       "1107  0.026242  ...         12        8            4            2012   \n",
       "1543  0.019994  ...          2       28            4            2013   \n",
       "1971  0.015308  ...          3       18            3            2015   \n",
       "2215  0.005311  ...         11        3            2            2016   \n",
       "2319  0.000937  ...          2       19            5            2016   \n",
       "2334  0.015152  ...         10       27            4            2016   \n",
       "2421  0.006248  ...          3        1            3            2017   \n",
       "2507  0.000625  ...          4       24            1            2017   \n",
       "\n",
       "      published_month  published_day  published_hour  published_weekday  \\\n",
       "796                10             22               8                  5   \n",
       "1107                1             10              16                  2   \n",
       "1543                7             10              15                  3   \n",
       "1971                5              6              15                  3   \n",
       "2215                5             27              15                  5   \n",
       "2319               11              4              12                  5   \n",
       "2334               11             29              15                  2   \n",
       "2421                4              3              21                  1   \n",
       "2507                8             11              10                  5   \n",
       "\n",
       "         views  event_renamed  \n",
       "796    621.361            TED  \n",
       "1107   913.084           TEDx  \n",
       "1543   717.979            TED  \n",
       "1971  1257.079            TED  \n",
       "2215  3016.666           TEDx  \n",
       "2319   738.590            TED  \n",
       "2334   782.276            TED  \n",
       "2421   890.478           TEDx  \n",
       "2507   182.975            TED  \n",
       "\n",
       "[9 rows x 24 columns]"
      ]
     },
     "execution_count": 700,
     "metadata": {},
     "output_type": "execute_result"
    }
   ],
   "source": [
    "ted_copy.loc[ted_copy.num_speaker>=3] #displaying rows with 3 speakers and more to understand the format"
   ]
  },
  {
   "cell_type": "code",
   "execution_count": 701,
   "metadata": {},
   "outputs": [
    {
     "data": {
      "text/plain": [
       "Series([], Name: main_speaker, dtype: object)"
      ]
     },
     "execution_count": 701,
     "metadata": {},
     "output_type": "execute_result"
    }
   ],
   "source": [
    "ted_copy.main_speaker.loc[ted_copy.num_speaker==0] #looking for videos with no speakers"
   ]
  },
  {
   "cell_type": "code",
   "execution_count": 702,
   "metadata": {},
   "outputs": [],
   "source": [
    "def speakers(column): # extracting surnames from datapoint\n",
    "    new_column=[]\n",
    "    for content in column:\n",
    "        surnames=content.split(' ')\n",
    "        new_surnames = []\n",
    "        for ind,word in enumerate(surnames):\n",
    "            if len(word)>0 and word[-1]==',':\n",
    "                new_surnames.append(word.strip(','))\n",
    "                \n",
    "            if word=='and' or word=='+':\n",
    "                new_surnames.append(surnames[ind-1])\n",
    "                \n",
    "            if ind==len(surnames)-1:\n",
    "                new_surnames.append(word)\n",
    "        new_column.append(new_surnames)\n",
    "    return new_column"
   ]
  },
  {
   "cell_type": "code",
   "execution_count": 703,
   "metadata": {},
   "outputs": [],
   "source": [
    "ted_copy['speaker'] = speakers(ted_copy.main_speaker)"
   ]
  },
  {
   "cell_type": "code",
   "execution_count": 704,
   "metadata": {},
   "outputs": [],
   "source": [
    "ted_copy = ted_copy.drop(columns=['main_speaker','speaker'])"
   ]
  },
  {
   "cell_type": "markdown",
   "metadata": {},
   "source": [
    "#### Name"
   ]
  },
  {
   "cell_type": "markdown",
   "metadata": {},
   "source": [
    "Name column provides no information gain. Column contains only speakers and title - we have that in other columns"
   ]
  },
  {
   "cell_type": "code",
   "execution_count": 705,
   "metadata": {},
   "outputs": [],
   "source": [
    "ted_copy = ted_copy.drop(columns='name') "
   ]
  },
  {
   "cell_type": "markdown",
   "metadata": {},
   "source": [
    "#### Speaker_occupation"
   ]
  },
  {
   "cell_type": "code",
   "execution_count": 706,
   "metadata": {
    "scrolled": true
   },
   "outputs": [
    {
     "data": {
      "text/html": [
       "<div>\n",
       "<style scoped>\n",
       "    .dataframe tbody tr th:only-of-type {\n",
       "        vertical-align: middle;\n",
       "    }\n",
       "\n",
       "    .dataframe tbody tr th {\n",
       "        vertical-align: top;\n",
       "    }\n",
       "\n",
       "    .dataframe thead th {\n",
       "        text-align: right;\n",
       "    }\n",
       "</style>\n",
       "<table border=\"1\" class=\"dataframe\">\n",
       "  <thead>\n",
       "    <tr style=\"text-align: right;\">\n",
       "      <th></th>\n",
       "      <th>num_speaker</th>\n",
       "      <th>speaker_occupation</th>\n",
       "      <th>title</th>\n",
       "      <th>description</th>\n",
       "      <th>duration</th>\n",
       "      <th>tags</th>\n",
       "      <th>languages</th>\n",
       "      <th>comments</th>\n",
       "      <th>related_talks</th>\n",
       "      <th>ratings</th>\n",
       "      <th>...</th>\n",
       "      <th>film_month</th>\n",
       "      <th>film_day</th>\n",
       "      <th>film_weekday</th>\n",
       "      <th>published_year</th>\n",
       "      <th>published_month</th>\n",
       "      <th>published_day</th>\n",
       "      <th>published_hour</th>\n",
       "      <th>published_weekday</th>\n",
       "      <th>views</th>\n",
       "      <th>event_renamed</th>\n",
       "    </tr>\n",
       "  </thead>\n",
       "  <tbody>\n",
       "    <tr>\n",
       "      <th>1113</th>\n",
       "      <td>1</td>\n",
       "      <td>NaN</td>\n",
       "      <td>Meet the Water Canary</td>\n",
       "      <td>0.351464</td>\n",
       "      <td>0.011765</td>\n",
       "      <td>['TED Fellows', 'design', 'global development'...</td>\n",
       "      <td>0.527778</td>\n",
       "      <td>0.022337</td>\n",
       "      <td>[{'id': 523, 'hero': 'https://pe.tedcdn.com/im...</td>\n",
       "      <td>[{'id': 10, 'name': 'Inspiring', 'count': 73},...</td>\n",
       "      <td>...</td>\n",
       "      <td>7</td>\n",
       "      <td>14</td>\n",
       "      <td>4</td>\n",
       "      <td>2012</td>\n",
       "      <td>1</td>\n",
       "      <td>16</td>\n",
       "      <td>16</td>\n",
       "      <td>1</td>\n",
       "      <td>353.749</td>\n",
       "      <td>TED</td>\n",
       "    </tr>\n",
       "    <tr>\n",
       "      <th>1192</th>\n",
       "      <td>1</td>\n",
       "      <td>NaN</td>\n",
       "      <td>I am a pirate</td>\n",
       "      <td>0.284519</td>\n",
       "      <td>0.188235</td>\n",
       "      <td>['Internet', 'TEDx', 'global issues', 'politic...</td>\n",
       "      <td>0.138889</td>\n",
       "      <td>0.018744</td>\n",
       "      <td>[{'id': 1329, 'hero': 'https://pe.tedcdn.com/i...</td>\n",
       "      <td>[{'id': 8, 'name': 'Informative', 'count': 156...</td>\n",
       "      <td>...</td>\n",
       "      <td>3</td>\n",
       "      <td>11</td>\n",
       "      <td>7</td>\n",
       "      <td>2012</td>\n",
       "      <td>4</td>\n",
       "      <td>1</td>\n",
       "      <td>14</td>\n",
       "      <td>7</td>\n",
       "      <td>181.010</td>\n",
       "      <td>TEDx</td>\n",
       "    </tr>\n",
       "    <tr>\n",
       "      <th>1220</th>\n",
       "      <td>1</td>\n",
       "      <td>NaN</td>\n",
       "      <td>Tracking our online trackers</td>\n",
       "      <td>0.478382</td>\n",
       "      <td>0.047059</td>\n",
       "      <td>['Internet', 'advertising', 'business', 'priva...</td>\n",
       "      <td>0.444444</td>\n",
       "      <td>0.039831</td>\n",
       "      <td>[{'id': 1370, 'hero': 'https://pe.tedcdn.com/i...</td>\n",
       "      <td>[{'id': 23, 'name': 'Jaw-dropping', 'count': 9...</td>\n",
       "      <td>...</td>\n",
       "      <td>2</td>\n",
       "      <td>29</td>\n",
       "      <td>3</td>\n",
       "      <td>2012</td>\n",
       "      <td>5</td>\n",
       "      <td>3</td>\n",
       "      <td>15</td>\n",
       "      <td>4</td>\n",
       "      <td>2098.639</td>\n",
       "      <td>TED</td>\n",
       "    </tr>\n",
       "    <tr>\n",
       "      <th>1656</th>\n",
       "      <td>1</td>\n",
       "      <td>NaN</td>\n",
       "      <td>To hear this music you have to be there. Liter...</td>\n",
       "      <td>0.305439</td>\n",
       "      <td>0.047059</td>\n",
       "      <td>['TED Fellows', 'entertainment', 'music', 'tec...</td>\n",
       "      <td>0.458333</td>\n",
       "      <td>0.021556</td>\n",
       "      <td>[{'id': 1152, 'hero': 'https://pe.tedcdn.com/i...</td>\n",
       "      <td>[{'id': 1, 'name': 'Beautiful', 'count': 211},...</td>\n",
       "      <td>...</td>\n",
       "      <td>10</td>\n",
       "      <td>30</td>\n",
       "      <td>3</td>\n",
       "      <td>2014</td>\n",
       "      <td>1</td>\n",
       "      <td>10</td>\n",
       "      <td>16</td>\n",
       "      <td>5</td>\n",
       "      <td>1284.510</td>\n",
       "      <td>TEDx</td>\n",
       "    </tr>\n",
       "    <tr>\n",
       "      <th>1911</th>\n",
       "      <td>1</td>\n",
       "      <td>NaN</td>\n",
       "      <td>Old books reborn as art</td>\n",
       "      <td>0.225941</td>\n",
       "      <td>0.047059</td>\n",
       "      <td>['TEDYouth', 'art', 'books', 'creativity']</td>\n",
       "      <td>0.472222</td>\n",
       "      <td>0.007185</td>\n",
       "      <td>[{'id': 610, 'hero': 'https://pe.tedcdn.com/im...</td>\n",
       "      <td>[{'id': 1, 'name': 'Beautiful', 'count': 361},...</td>\n",
       "      <td>...</td>\n",
       "      <td>11</td>\n",
       "      <td>4</td>\n",
       "      <td>2</td>\n",
       "      <td>2015</td>\n",
       "      <td>2</td>\n",
       "      <td>6</td>\n",
       "      <td>16</td>\n",
       "      <td>5</td>\n",
       "      <td>1159.937</td>\n",
       "      <td>TEDx</td>\n",
       "    </tr>\n",
       "    <tr>\n",
       "      <th>1949</th>\n",
       "      <td>1</td>\n",
       "      <td>NaN</td>\n",
       "      <td>The day I stood up alone</td>\n",
       "      <td>0.516039</td>\n",
       "      <td>0.058824</td>\n",
       "      <td>['TED Fellows', 'activism', 'art', 'corruption...</td>\n",
       "      <td>0.458333</td>\n",
       "      <td>0.010622</td>\n",
       "      <td>[{'id': 1757, 'hero': 'https://pe.tedcdn.com/i...</td>\n",
       "      <td>[{'id': 3, 'name': 'Courageous', 'count': 614}...</td>\n",
       "      <td>...</td>\n",
       "      <td>10</td>\n",
       "      <td>20</td>\n",
       "      <td>1</td>\n",
       "      <td>2015</td>\n",
       "      <td>4</td>\n",
       "      <td>2</td>\n",
       "      <td>15</td>\n",
       "      <td>4</td>\n",
       "      <td>1342.431</td>\n",
       "      <td>TED</td>\n",
       "    </tr>\n",
       "  </tbody>\n",
       "</table>\n",
       "<p>6 rows × 22 columns</p>\n",
       "</div>"
      ],
      "text/plain": [
       "      num_speaker speaker_occupation  \\\n",
       "1113            1                NaN   \n",
       "1192            1                NaN   \n",
       "1220            1                NaN   \n",
       "1656            1                NaN   \n",
       "1911            1                NaN   \n",
       "1949            1                NaN   \n",
       "\n",
       "                                                  title  description  \\\n",
       "1113                              Meet the Water Canary     0.351464   \n",
       "1192                                      I am a pirate     0.284519   \n",
       "1220                       Tracking our online trackers     0.478382   \n",
       "1656  To hear this music you have to be there. Liter...     0.305439   \n",
       "1911                            Old books reborn as art     0.225941   \n",
       "1949                           The day I stood up alone     0.516039   \n",
       "\n",
       "      duration                                               tags  languages  \\\n",
       "1113  0.011765  ['TED Fellows', 'design', 'global development'...   0.527778   \n",
       "1192  0.188235  ['Internet', 'TEDx', 'global issues', 'politic...   0.138889   \n",
       "1220  0.047059  ['Internet', 'advertising', 'business', 'priva...   0.444444   \n",
       "1656  0.047059  ['TED Fellows', 'entertainment', 'music', 'tec...   0.458333   \n",
       "1911  0.047059         ['TEDYouth', 'art', 'books', 'creativity']   0.472222   \n",
       "1949  0.058824  ['TED Fellows', 'activism', 'art', 'corruption...   0.458333   \n",
       "\n",
       "      comments                                      related_talks  \\\n",
       "1113  0.022337  [{'id': 523, 'hero': 'https://pe.tedcdn.com/im...   \n",
       "1192  0.018744  [{'id': 1329, 'hero': 'https://pe.tedcdn.com/i...   \n",
       "1220  0.039831  [{'id': 1370, 'hero': 'https://pe.tedcdn.com/i...   \n",
       "1656  0.021556  [{'id': 1152, 'hero': 'https://pe.tedcdn.com/i...   \n",
       "1911  0.007185  [{'id': 610, 'hero': 'https://pe.tedcdn.com/im...   \n",
       "1949  0.010622  [{'id': 1757, 'hero': 'https://pe.tedcdn.com/i...   \n",
       "\n",
       "                                                ratings  ... film_month  \\\n",
       "1113  [{'id': 10, 'name': 'Inspiring', 'count': 73},...  ...          7   \n",
       "1192  [{'id': 8, 'name': 'Informative', 'count': 156...  ...          3   \n",
       "1220  [{'id': 23, 'name': 'Jaw-dropping', 'count': 9...  ...          2   \n",
       "1656  [{'id': 1, 'name': 'Beautiful', 'count': 211},...  ...         10   \n",
       "1911  [{'id': 1, 'name': 'Beautiful', 'count': 361},...  ...         11   \n",
       "1949  [{'id': 3, 'name': 'Courageous', 'count': 614}...  ...         10   \n",
       "\n",
       "      film_day  film_weekday  published_year  published_month  published_day  \\\n",
       "1113        14             4            2012                1             16   \n",
       "1192        11             7            2012                4              1   \n",
       "1220        29             3            2012                5              3   \n",
       "1656        30             3            2014                1             10   \n",
       "1911         4             2            2015                2              6   \n",
       "1949        20             1            2015                4              2   \n",
       "\n",
       "      published_hour  published_weekday     views  event_renamed  \n",
       "1113              16                  1   353.749            TED  \n",
       "1192              14                  7   181.010           TEDx  \n",
       "1220              15                  4  2098.639            TED  \n",
       "1656              16                  5  1284.510           TEDx  \n",
       "1911              16                  5  1159.937           TEDx  \n",
       "1949              15                  4  1342.431            TED  \n",
       "\n",
       "[6 rows x 22 columns]"
      ]
     },
     "execution_count": 706,
     "metadata": {},
     "output_type": "execute_result"
    }
   ],
   "source": [
    "ted_copy.loc[ted_copy.speaker_occupation.isnull()==True] #occupation is NaN"
   ]
  },
  {
   "cell_type": "code",
   "execution_count": 707,
   "metadata": {
    "scrolled": true
   },
   "outputs": [
    {
     "data": {
      "text/plain": [
       "Writer          45\n",
       "Designer        34\n",
       "Artist          34\n",
       "Journalist      33\n",
       "Entrepreneur    31\n",
       "Name: speaker_occupation, dtype: int64"
      ]
     },
     "execution_count": 707,
     "metadata": {},
     "output_type": "execute_result"
    }
   ],
   "source": [
    "ted_copy.speaker_occupation.value_counts().head()"
   ]
  },
  {
   "cell_type": "code",
   "execution_count": 708,
   "metadata": {},
   "outputs": [],
   "source": [
    "def get_occupation(column): #extracting only first word of occupation\n",
    "    new_column=[]\n",
    "    for row in column:\n",
    "        if pd.isnull(row):\n",
    "            new_column.append('speaker')\n",
    "        else:\n",
    "            line = str(row.split(' ')[0])\n",
    "            line = str(line.split('/')[0])\n",
    "            line = line.strip(',').strip(';').lower()\n",
    "            new_column.append(line)\n",
    "            \n",
    "    return pd.Series(new_column)"
   ]
  },
  {
   "cell_type": "code",
   "execution_count": 709,
   "metadata": {},
   "outputs": [],
   "source": [
    "ted_copy['occupation'] = get_occupation(ted_copy.speaker_occupation) \n",
    "ted_copy = ted_copy.drop(columns='speaker_occupation') #drop orignial occupation"
   ]
  },
  {
   "cell_type": "code",
   "execution_count": 710,
   "metadata": {},
   "outputs": [],
   "source": [
    "jobs = set(ted_copy.occupation.value_counts().head().index) #most popular occupations\n",
    "ted_copy.occupation = ted_copy.occupation.apply(lambda x: x if x in jobs else 'other') \n",
    "ted_copy['occupation'] = label_encoder.fit_transform(ted_copy['occupation']) #label encoder for the most popular occupations"
   ]
  },
  {
   "cell_type": "markdown",
   "metadata": {},
   "source": [
    "#### URL"
   ]
  },
  {
   "cell_type": "markdown",
   "metadata": {},
   "source": [
    "URL provides no information gain"
   ]
  },
  {
   "cell_type": "code",
   "execution_count": 711,
   "metadata": {},
   "outputs": [],
   "source": [
    "ted_copy = ted_copy.drop(columns='url')"
   ]
  },
  {
   "cell_type": "markdown",
   "metadata": {},
   "source": [
    "#### Title"
   ]
  },
  {
   "cell_type": "markdown",
   "metadata": {},
   "source": [
    "It is hard to easly extract and use information provided by title column"
   ]
  },
  {
   "cell_type": "code",
   "execution_count": 712,
   "metadata": {},
   "outputs": [],
   "source": [
    "ted_copy = ted_copy.drop(columns='title')"
   ]
  },
  {
   "cell_type": "markdown",
   "metadata": {},
   "source": [
    "#### Tags"
   ]
  },
  {
   "cell_type": "code",
   "execution_count": 713,
   "metadata": {},
   "outputs": [
    {
     "data": {
      "text/plain": [
       "2545    ['TED Residency', 'United States', 'community'...\n",
       "2546    ['Mars', 'South America', 'TED Fellows', 'astr...\n",
       "2547    ['AI', 'ants', 'fish', 'future', 'innovation',...\n",
       "2548    ['Internet', 'TEDx', 'United States', 'communi...\n",
       "2549    ['cities', 'design', 'future', 'infrastructure...\n",
       "Name: tags, dtype: object"
      ]
     },
     "execution_count": 713,
     "metadata": {},
     "output_type": "execute_result"
    }
   ],
   "source": [
    "ted_copy.tags.tail()"
   ]
  },
  {
   "cell_type": "code",
   "execution_count": 714,
   "metadata": {},
   "outputs": [],
   "source": [
    "def get_tags(column): # extract first 2 tags as they are the closest to what the film is about, ommit TED if it a tag\n",
    "    new_column1=[]\n",
    "    new_column2=[]\n",
    "    for row in column:\n",
    "        line = row.strip('][').split(', ') \n",
    "        line = list(map(lambda x: x.strip(\"'\"), line))\n",
    "        how_many=0\n",
    "        while how_many<2 and how_many<len(line):\n",
    "            if len(line[how_many])>=3:\n",
    "                if line[how_many][:3]==\"TED\":\n",
    "                    line.pop(how_many)   \n",
    "                else:\n",
    "                    how_many+=1\n",
    "            else:\n",
    "                how_many+=1\n",
    "        new_column1.append(line[0])\n",
    "        if len(line)>1:\n",
    "            new_column2.append(line[1])\n",
    "        else:\n",
    "            new_column2.append(line[0])\n",
    "    return pd.Series(new_column1), pd.Series(new_column2)\n",
    "        "
   ]
  },
  {
   "cell_type": "code",
   "execution_count": 715,
   "metadata": {},
   "outputs": [],
   "source": [
    "ted_copy['tag1'], ted_copy['tag2'] = get_tags(ted_copy.tags) #creating 2 new columns with tags\n",
    "ted_copy = ted_copy.drop(columns='tags') #drop original tags column"
   ]
  },
  {
   "cell_type": "code",
   "execution_count": 716,
   "metadata": {},
   "outputs": [],
   "source": [
    "tag1 = list(ted_copy.tag1.value_counts().head(5).index) #5 most popular from tag1\n",
    "tag2 = list(ted_copy.tag2.value_counts().head(5).index)# 5 most popular from tag2\n",
    "tags = set(tag1+tag2) #set of the most popular tags"
   ]
  },
  {
   "cell_type": "code",
   "execution_count": 717,
   "metadata": {},
   "outputs": [],
   "source": [
    "ted_copy.tag1 = ted_copy.tag1.apply(lambda x: x if x in tags else 'other') #saving only the most popular tags\n",
    "ted_copy.tag2 = ted_copy.tag2.apply(lambda x: x if x in tags else 'other') \n",
    "\n",
    "ted_copy['tag1'] = label_encoder.fit_transform(ted_copy['tag1']) #label encoder for remaining tags\n",
    "ted_copy['tag2'] = label_encoder.fit_transform(ted_copy['tag2'])"
   ]
  },
  {
   "cell_type": "markdown",
   "metadata": {},
   "source": [
    "#### Related_talks and ratings"
   ]
  },
  {
   "cell_type": "code",
   "execution_count": 718,
   "metadata": {},
   "outputs": [],
   "source": [
    "ted_copy = ted_copy.drop(columns=['related_talks', 'ratings'])"
   ]
  },
  {
   "cell_type": "code",
   "execution_count": 719,
   "metadata": {},
   "outputs": [
    {
     "data": {
      "text/html": [
       "<div>\n",
       "<style scoped>\n",
       "    .dataframe tbody tr th:only-of-type {\n",
       "        vertical-align: middle;\n",
       "    }\n",
       "\n",
       "    .dataframe tbody tr th {\n",
       "        vertical-align: top;\n",
       "    }\n",
       "\n",
       "    .dataframe thead th {\n",
       "        text-align: right;\n",
       "    }\n",
       "</style>\n",
       "<table border=\"1\" class=\"dataframe\">\n",
       "  <thead>\n",
       "    <tr style=\"text-align: right;\">\n",
       "      <th></th>\n",
       "      <th>num_speaker</th>\n",
       "      <th>description</th>\n",
       "      <th>duration</th>\n",
       "      <th>languages</th>\n",
       "      <th>comments</th>\n",
       "      <th>film_year</th>\n",
       "      <th>film_month</th>\n",
       "      <th>film_day</th>\n",
       "      <th>film_weekday</th>\n",
       "      <th>published_year</th>\n",
       "      <th>published_month</th>\n",
       "      <th>published_day</th>\n",
       "      <th>published_hour</th>\n",
       "      <th>published_weekday</th>\n",
       "      <th>views</th>\n",
       "      <th>event_renamed</th>\n",
       "      <th>occupation</th>\n",
       "      <th>tag1</th>\n",
       "      <th>tag2</th>\n",
       "    </tr>\n",
       "  </thead>\n",
       "  <tbody>\n",
       "    <tr>\n",
       "      <th>0</th>\n",
       "      <td>1</td>\n",
       "      <td>0.135286</td>\n",
       "      <td>0.200000</td>\n",
       "      <td>0.833333</td>\n",
       "      <td>0.710872</td>\n",
       "      <td>2006</td>\n",
       "      <td>2</td>\n",
       "      <td>25</td>\n",
       "      <td>6</td>\n",
       "      <td>2006</td>\n",
       "      <td>6</td>\n",
       "      <td>27</td>\n",
       "      <td>0</td>\n",
       "      <td>2</td>\n",
       "      <td>47227.110</td>\n",
       "      <td>TED</td>\n",
       "      <td>1</td>\n",
       "      <td>8</td>\n",
       "      <td>8</td>\n",
       "    </tr>\n",
       "    <tr>\n",
       "      <th>1</th>\n",
       "      <td>1</td>\n",
       "      <td>0.252441</td>\n",
       "      <td>0.164706</td>\n",
       "      <td>0.597222</td>\n",
       "      <td>0.041081</td>\n",
       "      <td>2006</td>\n",
       "      <td>2</td>\n",
       "      <td>25</td>\n",
       "      <td>6</td>\n",
       "      <td>2006</td>\n",
       "      <td>6</td>\n",
       "      <td>27</td>\n",
       "      <td>0</td>\n",
       "      <td>2</td>\n",
       "      <td>3200.520</td>\n",
       "      <td>TED</td>\n",
       "      <td>4</td>\n",
       "      <td>8</td>\n",
       "      <td>8</td>\n",
       "    </tr>\n",
       "    <tr>\n",
       "      <th>2</th>\n",
       "      <td>1</td>\n",
       "      <td>0.209205</td>\n",
       "      <td>0.223529</td>\n",
       "      <td>0.361111</td>\n",
       "      <td>0.019057</td>\n",
       "      <td>2006</td>\n",
       "      <td>2</td>\n",
       "      <td>24</td>\n",
       "      <td>5</td>\n",
       "      <td>2006</td>\n",
       "      <td>6</td>\n",
       "      <td>27</td>\n",
       "      <td>0</td>\n",
       "      <td>2</td>\n",
       "      <td>1636.292</td>\n",
       "      <td>TED</td>\n",
       "      <td>4</td>\n",
       "      <td>8</td>\n",
       "      <td>6</td>\n",
       "    </tr>\n",
       "    <tr>\n",
       "      <th>3</th>\n",
       "      <td>1</td>\n",
       "      <td>0.224547</td>\n",
       "      <td>0.188235</td>\n",
       "      <td>0.486111</td>\n",
       "      <td>0.030928</td>\n",
       "      <td>2006</td>\n",
       "      <td>2</td>\n",
       "      <td>26</td>\n",
       "      <td>7</td>\n",
       "      <td>2006</td>\n",
       "      <td>6</td>\n",
       "      <td>27</td>\n",
       "      <td>0</td>\n",
       "      <td>2</td>\n",
       "      <td>1697.550</td>\n",
       "      <td>TED</td>\n",
       "      <td>4</td>\n",
       "      <td>8</td>\n",
       "      <td>1</td>\n",
       "    </tr>\n",
       "    <tr>\n",
       "      <th>4</th>\n",
       "      <td>1</td>\n",
       "      <td>0.167364</td>\n",
       "      <td>0.200000</td>\n",
       "      <td>0.666667</td>\n",
       "      <td>0.092315</td>\n",
       "      <td>2006</td>\n",
       "      <td>2</td>\n",
       "      <td>22</td>\n",
       "      <td>3</td>\n",
       "      <td>2006</td>\n",
       "      <td>6</td>\n",
       "      <td>27</td>\n",
       "      <td>20</td>\n",
       "      <td>2</td>\n",
       "      <td>12005.869</td>\n",
       "      <td>TED</td>\n",
       "      <td>4</td>\n",
       "      <td>0</td>\n",
       "      <td>8</td>\n",
       "    </tr>\n",
       "  </tbody>\n",
       "</table>\n",
       "</div>"
      ],
      "text/plain": [
       "   num_speaker  description  duration  languages  comments  film_year  \\\n",
       "0            1     0.135286  0.200000   0.833333  0.710872       2006   \n",
       "1            1     0.252441  0.164706   0.597222  0.041081       2006   \n",
       "2            1     0.209205  0.223529   0.361111  0.019057       2006   \n",
       "3            1     0.224547  0.188235   0.486111  0.030928       2006   \n",
       "4            1     0.167364  0.200000   0.666667  0.092315       2006   \n",
       "\n",
       "   film_month  film_day  film_weekday  published_year  published_month  \\\n",
       "0           2        25             6            2006                6   \n",
       "1           2        25             6            2006                6   \n",
       "2           2        24             5            2006                6   \n",
       "3           2        26             7            2006                6   \n",
       "4           2        22             3            2006                6   \n",
       "\n",
       "   published_day  published_hour  published_weekday      views event_renamed  \\\n",
       "0             27               0                  2  47227.110           TED   \n",
       "1             27               0                  2   3200.520           TED   \n",
       "2             27               0                  2   1636.292           TED   \n",
       "3             27               0                  2   1697.550           TED   \n",
       "4             27              20                  2  12005.869           TED   \n",
       "\n",
       "   occupation  tag1  tag2  \n",
       "0           1     8     8  \n",
       "1           4     8     8  \n",
       "2           4     8     6  \n",
       "3           4     8     1  \n",
       "4           4     0     8  "
      ]
     },
     "execution_count": 719,
     "metadata": {},
     "output_type": "execute_result"
    }
   ],
   "source": [
    "ted_copy.head()"
   ]
  },
  {
   "cell_type": "markdown",
   "metadata": {},
   "source": [
    "## 4. Model building"
   ]
  },
  {
   "cell_type": "markdown",
   "metadata": {},
   "source": [
    "### 4.1 Preparation"
   ]
  },
  {
   "cell_type": "code",
   "execution_count": 742,
   "metadata": {},
   "outputs": [],
   "source": [
    "X = ted_copy.copy()"
   ]
  },
  {
   "cell_type": "code",
   "execution_count": 743,
   "metadata": {},
   "outputs": [],
   "source": [
    "def dummy_generator(df, features):\n",
    "    for x in features:\n",
    "        dummies = pd.get_dummies(df[x], prefix=x, dummy_na=False)\n",
    "        df = df.drop(x,1)\n",
    "        df = pd.concat([df,dummies], axis=1)\n",
    "    return df"
   ]
  },
  {
   "cell_type": "code",
   "execution_count": 744,
   "metadata": {},
   "outputs": [],
   "source": [
    "def outlier_detection(column):\n",
    "    outliers=[]\n",
    "    threshold=10 \n",
    "    mean = np.mean(column)\n",
    "    std = np.std(column)\n",
    "    \n",
    "    for index,row in enumerate(column):\n",
    "        z_score = (row-mean)/std\n",
    "        if np.abs(z_score) > threshold:\n",
    "            outliers.append(index)\n",
    "    return outliers"
   ]
  },
  {
   "cell_type": "code",
   "execution_count": 745,
   "metadata": {},
   "outputs": [],
   "source": [
    "def mape(y_true, y_pred):  # mean absolute percentage error\n",
    "    y_true,y_pred = np.array(y_true), np.array(y_pred)\n",
    "    return np.mean(np.abs((y_true-y_pred)/y_true))*100"
   ]
  },
  {
   "cell_type": "code",
   "execution_count": 746,
   "metadata": {},
   "outputs": [
    {
     "data": {
      "text/plain": [
       "(2546, 19)"
      ]
     },
     "execution_count": 746,
     "metadata": {},
     "output_type": "execute_result"
    }
   ],
   "source": [
    "outliers = outlier_detection(X.views)  # outlier selection\n",
    "X = X.drop(outliers)  # drop outliers\n",
    "X.shape"
   ]
  },
  {
   "cell_type": "code",
   "execution_count": 747,
   "metadata": {},
   "outputs": [],
   "source": [
    "X = dummy_generator(X, ['event_renamed'])  # binary encoded event_renamed column"
   ]
  },
  {
   "cell_type": "code",
   "execution_count": 748,
   "metadata": {},
   "outputs": [],
   "source": [
    "Y = X['views'] \n",
    "X = X.drop(columns=['views'])\n",
    "X_train, X_test, y_train, y_test = train_test_split(X, Y) "
   ]
  },
  {
   "cell_type": "markdown",
   "metadata": {},
   "source": [
    "### 4.2 Feature selection"
   ]
  },
  {
   "cell_type": "code",
   "execution_count": 821,
   "metadata": {},
   "outputs": [
    {
     "data": {
      "text/html": [
       "<div>\n",
       "<style scoped>\n",
       "    .dataframe tbody tr th:only-of-type {\n",
       "        vertical-align: middle;\n",
       "    }\n",
       "\n",
       "    .dataframe tbody tr th {\n",
       "        vertical-align: top;\n",
       "    }\n",
       "\n",
       "    .dataframe thead th {\n",
       "        text-align: right;\n",
       "    }\n",
       "</style>\n",
       "<table border=\"1\" class=\"dataframe\">\n",
       "  <thead>\n",
       "    <tr style=\"text-align: right;\">\n",
       "      <th></th>\n",
       "      <th>features</th>\n",
       "      <th>score</th>\n",
       "    </tr>\n",
       "  </thead>\n",
       "  <tbody>\n",
       "    <tr>\n",
       "      <th>4</th>\n",
       "      <td>comments</td>\n",
       "      <td>443.437514</td>\n",
       "    </tr>\n",
       "    <tr>\n",
       "      <th>3</th>\n",
       "      <td>languages</td>\n",
       "      <td>374.507409</td>\n",
       "    </tr>\n",
       "    <tr>\n",
       "      <th>18</th>\n",
       "      <td>event_renamed_TED</td>\n",
       "      <td>16.765051</td>\n",
       "    </tr>\n",
       "    <tr>\n",
       "      <th>17</th>\n",
       "      <td>event_renamed_Other</td>\n",
       "      <td>8.835406</td>\n",
       "    </tr>\n",
       "    <tr>\n",
       "      <th>6</th>\n",
       "      <td>film_month</td>\n",
       "      <td>8.421327</td>\n",
       "    </tr>\n",
       "    <tr>\n",
       "      <th>19</th>\n",
       "      <td>event_renamed_TEDx</td>\n",
       "      <td>8.342931</td>\n",
       "    </tr>\n",
       "    <tr>\n",
       "      <th>10</th>\n",
       "      <td>published_month</td>\n",
       "      <td>3.580899</td>\n",
       "    </tr>\n",
       "    <tr>\n",
       "      <th>14</th>\n",
       "      <td>occupation</td>\n",
       "      <td>2.344097</td>\n",
       "    </tr>\n",
       "    <tr>\n",
       "      <th>2</th>\n",
       "      <td>duration</td>\n",
       "      <td>1.948770</td>\n",
       "    </tr>\n",
       "    <tr>\n",
       "      <th>7</th>\n",
       "      <td>film_day</td>\n",
       "      <td>1.776880</td>\n",
       "    </tr>\n",
       "  </tbody>\n",
       "</table>\n",
       "</div>"
      ],
      "text/plain": [
       "               features       score\n",
       "4              comments  443.437514\n",
       "3             languages  374.507409\n",
       "18    event_renamed_TED   16.765051\n",
       "17  event_renamed_Other    8.835406\n",
       "6            film_month    8.421327\n",
       "19   event_renamed_TEDx    8.342931\n",
       "10      published_month    3.580899\n",
       "14           occupation    2.344097\n",
       "2              duration    1.948770\n",
       "7              film_day    1.776880"
      ]
     },
     "execution_count": 821,
     "metadata": {},
     "output_type": "execute_result"
    }
   ],
   "source": [
    "select_features = SelectKBest(score_func=f_regression).fit(X_train, y_train)\n",
    "\n",
    "select_features_df = pd.DataFrame({'features': list(X_train), 'score': select_features.scores_})\n",
    "select_features_df.sort_values(by='score', ascending=False).head(10)"
   ]
  },
  {
   "cell_type": "code",
   "execution_count": 794,
   "metadata": {},
   "outputs": [],
   "source": [
    "selector = RFECV(RandomForestRegressor(n_estimators=10), cv=5, scoring='neg_mean_absolute_error')\n",
    "selector = selector.fit(X_train, y_train)"
   ]
  },
  {
   "cell_type": "code",
   "execution_count": 807,
   "metadata": {},
   "outputs": [
    {
     "data": {
      "image/png": "[encoded data removed]",
      "text/plain": [
       "<Figure size 432x288 with 1 Axes>"
      ]
     },
     "metadata": {
      "needs_background": "light"
     },
     "output_type": "display_data"
    }
   ],
   "source": [
    "plt.figure()\n",
    "plt.plot(range(1, len(selector.grid_scores_)+1), selector.grid_scores_)\n",
    "plt.xticks(np.arange(1,20, step=1))\n",
    "plt.grid(axis='x')\n",
    "plt.xlabel('number of selected features')\n",
    "plt.ylabel('MAE')\n",
    "plt.title('Random Forest Regressor on different subsets of features')\n",
    "plt.show()"
   ]
  },
  {
   "cell_type": "code",
   "execution_count": 801,
   "metadata": {},
   "outputs": [],
   "source": [
    "X_train_rfecv = selector.transform(X_train)\n",
    "X_test_rfecv = selector.transform(X_test)"
   ]
  },
  {
   "cell_type": "code",
   "execution_count": 828,
   "metadata": {},
   "outputs": [
    {
     "name": "stdout",
     "output_type": "stream",
     "text": [
      "Features extracted from all columns using RFECV: \n",
      " ['description', 'duration', 'languages', 'comments', 'film_year', 'film_day', 'published_year']\n"
     ]
    }
   ],
   "source": [
    "features=[]\n",
    "for feature, boolean in zip(list(X_train.columns), list(selector.get_support())):\n",
    "    if boolean==True:\n",
    "        features.append(feature)\n",
    "print('Features extracted from all columns using RFECV: \\n', features)"
   ]
  },
  {
   "cell_type": "markdown",
   "metadata": {},
   "source": [
    "### 4.3 Model building"
   ]
  },
  {
   "cell_type": "markdown",
   "metadata": {},
   "source": [
    "#### Dummy Regressor"
   ]
  },
  {
   "cell_type": "code",
   "execution_count": 762,
   "metadata": {},
   "outputs": [],
   "source": [
    "dummy_regressor = DummyRegressor(strategy='median')\n",
    "dummy_regressor.fit(X_train_rfecv, y_train)\n",
    "dummy_regressor_predictions = dummy_regressor.predict(X_test_rfecv)"
   ]
  },
  {
   "cell_type": "code",
   "execution_count": 808,
   "metadata": {},
   "outputs": [
    {
     "name": "stdout",
     "output_type": "stream",
     "text": [
      "854.8702794348509\n",
      "1915.1347816428524\n",
      "-0.04695\n"
     ]
    }
   ],
   "source": [
    "print(mean_absolute_error(y_test, dummy_regressor_predictions)) \n",
    "print(np.sqrt(mean_squared_error(y_test, dummy_regressor_predictions)))\n",
    "print(round(r2_score(y_test, dummy_regressor_predictions), ndigits=5))"
   ]
  },
  {
   "cell_type": "markdown",
   "metadata": {},
   "source": [
    "#### Random Forest Regressor"
   ]
  },
  {
   "cell_type": "code",
   "execution_count": 809,
   "metadata": {},
   "outputs": [
    {
     "name": "stdout",
     "output_type": "stream",
     "text": [
      "done\n"
     ]
    }
   ],
   "source": [
    "params = dict(n_estimators = list(np.arange(40,101, step=10)), max_leaf_nodes = list(np.arange(45, 101, step=20)))\n",
    "\n",
    "grid1 = GridSearchCV(RandomForestRegressor(), params, cv=10, scoring='neg_mean_absolute_error', return_train_score=False )\n",
    "grid1.fit(X_train_rfecv, y_train)\n",
    "print('done')"
   ]
  },
  {
   "cell_type": "code",
   "execution_count": 810,
   "metadata": {
    "scrolled": true
   },
   "outputs": [
    {
     "data": {
      "text/html": [
       "<div>\n",
       "<style scoped>\n",
       "    .dataframe tbody tr th:only-of-type {\n",
       "        vertical-align: middle;\n",
       "    }\n",
       "\n",
       "    .dataframe tbody tr th {\n",
       "        vertical-align: top;\n",
       "    }\n",
       "\n",
       "    .dataframe thead th {\n",
       "        text-align: right;\n",
       "    }\n",
       "</style>\n",
       "<table border=\"1\" class=\"dataframe\">\n",
       "  <thead>\n",
       "    <tr style=\"text-align: right;\">\n",
       "      <th></th>\n",
       "      <th>param_max_leaf_nodes</th>\n",
       "      <th>param_n_estimators</th>\n",
       "      <th>mean_test_score</th>\n",
       "      <th>rank_test_score</th>\n",
       "    </tr>\n",
       "  </thead>\n",
       "  <tbody>\n",
       "    <tr>\n",
       "      <th>10</th>\n",
       "      <td>65</td>\n",
       "      <td>70</td>\n",
       "      <td>-682.470156</td>\n",
       "      <td>1</td>\n",
       "    </tr>\n",
       "    <tr>\n",
       "      <th>16</th>\n",
       "      <td>85</td>\n",
       "      <td>60</td>\n",
       "      <td>-682.550723</td>\n",
       "      <td>2</td>\n",
       "    </tr>\n",
       "    <tr>\n",
       "      <th>19</th>\n",
       "      <td>85</td>\n",
       "      <td>90</td>\n",
       "      <td>-682.757545</td>\n",
       "      <td>3</td>\n",
       "    </tr>\n",
       "    <tr>\n",
       "      <th>18</th>\n",
       "      <td>85</td>\n",
       "      <td>80</td>\n",
       "      <td>-685.245837</td>\n",
       "      <td>4</td>\n",
       "    </tr>\n",
       "    <tr>\n",
       "      <th>12</th>\n",
       "      <td>65</td>\n",
       "      <td>90</td>\n",
       "      <td>-688.128837</td>\n",
       "      <td>5</td>\n",
       "    </tr>\n",
       "  </tbody>\n",
       "</table>\n",
       "</div>"
      ],
      "text/plain": [
       "   param_max_leaf_nodes param_n_estimators  mean_test_score  rank_test_score\n",
       "10                   65                 70      -682.470156                1\n",
       "16                   85                 60      -682.550723                2\n",
       "19                   85                 90      -682.757545                3\n",
       "18                   85                 80      -685.245837                4\n",
       "12                   65                 90      -688.128837                5"
      ]
     },
     "execution_count": 810,
     "metadata": {},
     "output_type": "execute_result"
    }
   ],
   "source": [
    "grid_scores_df1 = pd.DataFrame(grid1.cv_results_)[['param_max_leaf_nodes','param_n_estimators','mean_test_score','rank_test_score']]\n",
    "grid_scores_df1.sort_values(by='rank_test_score').head()"
   ]
  },
  {
   "cell_type": "markdown",
   "metadata": {},
   "source": [
    "#### K Neighbors Regressor"
   ]
  },
  {
   "cell_type": "code",
   "execution_count": 811,
   "metadata": {},
   "outputs": [
    {
     "name": "stdout",
     "output_type": "stream",
     "text": [
      "done\n"
     ]
    }
   ],
   "source": [
    "params2 = dict(n_neighbors = list(np.arange(10,140, step=6)))\n",
    "\n",
    "grid2 = GridSearchCV(KNeighborsRegressor(), params2, cv=10, scoring='neg_mean_absolute_error', return_train_score=False )\n",
    "grid2.fit(X_train_rfecv, y_train)\n",
    "print('done')"
   ]
  },
  {
   "cell_type": "code",
   "execution_count": 812,
   "metadata": {},
   "outputs": [
    {
     "data": {
      "text/html": [
       "<div>\n",
       "<style scoped>\n",
       "    .dataframe tbody tr th:only-of-type {\n",
       "        vertical-align: middle;\n",
       "    }\n",
       "\n",
       "    .dataframe tbody tr th {\n",
       "        vertical-align: top;\n",
       "    }\n",
       "\n",
       "    .dataframe thead th {\n",
       "        text-align: right;\n",
       "    }\n",
       "</style>\n",
       "<table border=\"1\" class=\"dataframe\">\n",
       "  <thead>\n",
       "    <tr style=\"text-align: right;\">\n",
       "      <th></th>\n",
       "      <th>param_n_neighbors</th>\n",
       "      <th>mean_test_score</th>\n",
       "      <th>rank_test_score</th>\n",
       "    </tr>\n",
       "  </thead>\n",
       "  <tbody>\n",
       "    <tr>\n",
       "      <th>0</th>\n",
       "      <td>10</td>\n",
       "      <td>-1019.163277</td>\n",
       "      <td>1</td>\n",
       "    </tr>\n",
       "    <tr>\n",
       "      <th>1</th>\n",
       "      <td>16</td>\n",
       "      <td>-1020.012400</td>\n",
       "      <td>2</td>\n",
       "    </tr>\n",
       "    <tr>\n",
       "      <th>2</th>\n",
       "      <td>22</td>\n",
       "      <td>-1031.758732</td>\n",
       "      <td>3</td>\n",
       "    </tr>\n",
       "    <tr>\n",
       "      <th>4</th>\n",
       "      <td>34</td>\n",
       "      <td>-1038.014875</td>\n",
       "      <td>4</td>\n",
       "    </tr>\n",
       "    <tr>\n",
       "      <th>3</th>\n",
       "      <td>28</td>\n",
       "      <td>-1038.338300</td>\n",
       "      <td>5</td>\n",
       "    </tr>\n",
       "  </tbody>\n",
       "</table>\n",
       "</div>"
      ],
      "text/plain": [
       "  param_n_neighbors  mean_test_score  rank_test_score\n",
       "0                10     -1019.163277                1\n",
       "1                16     -1020.012400                2\n",
       "2                22     -1031.758732                3\n",
       "4                34     -1038.014875                4\n",
       "3                28     -1038.338300                5"
      ]
     },
     "execution_count": 812,
     "metadata": {},
     "output_type": "execute_result"
    }
   ],
   "source": [
    "grid_scores_df2 = pd.DataFrame(grid2.cv_results_)[['param_n_neighbors', 'mean_test_score', 'rank_test_score']]\n",
    "grid_scores_df2.sort_values(by='rank_test_score').head()"
   ]
  },
  {
   "cell_type": "markdown",
   "metadata": {},
   "source": [
    "### 4.4 Best model"
   ]
  },
  {
   "cell_type": "code",
   "execution_count": 814,
   "metadata": {},
   "outputs": [],
   "source": [
    "best_model = RandomForestRegressor(n_estimators=grid_scores_df1.param_n_estimators.loc[grid_scores_df1.rank_test_score==1].values[0], max_leaf_nodes=grid_scores_df1.param_max_leaf_nodes.loc[grid_scores_df1.rank_test_score==1].values[0])\n",
    "best_model.fit(X_train_rfecv, y_train)\n",
    "best_model_prediciton = best_model.predict(X_test_rfecv)"
   ]
  },
  {
   "cell_type": "code",
   "execution_count": 815,
   "metadata": {},
   "outputs": [
    {
     "name": "stdout",
     "output_type": "stream",
     "text": [
      "Predictions of best model on test dataset:\n",
      "MAE 723.0806639392041\n",
      "MSE 1627.66380231386\n",
      "R^2 0.24377\n",
      "MAPE 56 %\n"
     ]
    }
   ],
   "source": [
    "print('Predictions of best model on test dataset:')\n",
    "print('MAE', mean_absolute_error(y_test, best_model_prediciton))\n",
    "print('MSE', math.sqrt(mean_squared_error(y_test, best_model_prediciton)))\n",
    "print('R^2', round(r2_score(y_test, best_model_prediciton), ndigits=5))\n",
    "print('MAPE', int(mape(y_test, best_model_prediciton)), '%') "
   ]
  }
 ],
 "metadata": {
  "kernelspec": {
   "display_name": "Python 3",
   "language": "python",
   "name": "python3"
  },
  "language_info": {
   "codemirror_mode": {
    "name": "ipython",
    "version": 3
   },
   "file_extension": ".py",
   "mimetype": "text/x-python",
   "name": "python",
   "nbconvert_exporter": "python",
   "pygments_lexer": "ipython3",
   "version": "3.7.3"
  }
 },
 "nbformat": 4,
 "nbformat_minor": 2
}
